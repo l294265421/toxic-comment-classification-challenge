{
 "cells": [
  {
   "cell_type": "code",
   "execution_count": 1,
   "metadata": {
    "collapsed": true
   },
   "outputs": [],
   "source": [
    "import os\n",
    "import sys\n",
    "sys.path.append(os.getcwd() + '\\\\..')\n",
    "import pandas as pd\n",
    "from data.raw_data import *"
   ]
  },
  {
   "cell_type": "code",
   "execution_count": 2,
   "metadata": {},
   "outputs": [
    {
     "name": "stdout",
     "output_type": "stream",
     "text": [
      "<class 'pandas.core.frame.DataFrame'>\n",
      "RangeIndex: 159571 entries, 0 to 159570\n",
      "Data columns (total 8 columns):\n",
      "id               159571 non-null object\n",
      "comment_text     159571 non-null object\n",
      "toxic            159571 non-null int64\n",
      "severe_toxic     159571 non-null int64\n",
      "obscene          159571 non-null int64\n",
      "threat           159571 non-null int64\n",
      "insult           159571 non-null int64\n",
      "identity_hate    159571 non-null int64\n",
      "dtypes: int64(6), object(2)\n",
      "memory usage: 9.7+ MB\n"
     ]
    }
   ],
   "source": [
    "train_df.info()"
   ]
  },
  {
   "cell_type": "code",
   "execution_count": 3,
   "metadata": {},
   "outputs": [
    {
     "data": {
      "text/html": [
       "<div>\n",
       "<style>\n",
       "    .dataframe thead tr:only-child th {\n",
       "        text-align: right;\n",
       "    }\n",
       "\n",
       "    .dataframe thead th {\n",
       "        text-align: left;\n",
       "    }\n",
       "\n",
       "    .dataframe tbody tr th {\n",
       "        vertical-align: top;\n",
       "    }\n",
       "</style>\n",
       "<table border=\"1\" class=\"dataframe\">\n",
       "  <thead>\n",
       "    <tr style=\"text-align: right;\">\n",
       "      <th></th>\n",
       "      <th>id</th>\n",
       "      <th>comment_text</th>\n",
       "      <th>toxic</th>\n",
       "      <th>severe_toxic</th>\n",
       "      <th>obscene</th>\n",
       "      <th>threat</th>\n",
       "      <th>insult</th>\n",
       "      <th>identity_hate</th>\n",
       "    </tr>\n",
       "  </thead>\n",
       "  <tbody>\n",
       "    <tr>\n",
       "      <th>0</th>\n",
       "      <td>0000997932d777bf</td>\n",
       "      <td>Explanation\\nWhy the edits made under my usern...</td>\n",
       "      <td>0</td>\n",
       "      <td>0</td>\n",
       "      <td>0</td>\n",
       "      <td>0</td>\n",
       "      <td>0</td>\n",
       "      <td>0</td>\n",
       "    </tr>\n",
       "    <tr>\n",
       "      <th>1</th>\n",
       "      <td>000103f0d9cfb60f</td>\n",
       "      <td>D'aww! He matches this background colour I'm s...</td>\n",
       "      <td>0</td>\n",
       "      <td>0</td>\n",
       "      <td>0</td>\n",
       "      <td>0</td>\n",
       "      <td>0</td>\n",
       "      <td>0</td>\n",
       "    </tr>\n",
       "    <tr>\n",
       "      <th>2</th>\n",
       "      <td>000113f07ec002fd</td>\n",
       "      <td>Hey man, I'm really not trying to edit war. It...</td>\n",
       "      <td>0</td>\n",
       "      <td>0</td>\n",
       "      <td>0</td>\n",
       "      <td>0</td>\n",
       "      <td>0</td>\n",
       "      <td>0</td>\n",
       "    </tr>\n",
       "    <tr>\n",
       "      <th>3</th>\n",
       "      <td>0001b41b1c6bb37e</td>\n",
       "      <td>\"\\nMore\\nI can't make any real suggestions on ...</td>\n",
       "      <td>0</td>\n",
       "      <td>0</td>\n",
       "      <td>0</td>\n",
       "      <td>0</td>\n",
       "      <td>0</td>\n",
       "      <td>0</td>\n",
       "    </tr>\n",
       "    <tr>\n",
       "      <th>4</th>\n",
       "      <td>0001d958c54c6e35</td>\n",
       "      <td>You, sir, are my hero. Any chance you remember...</td>\n",
       "      <td>0</td>\n",
       "      <td>0</td>\n",
       "      <td>0</td>\n",
       "      <td>0</td>\n",
       "      <td>0</td>\n",
       "      <td>0</td>\n",
       "    </tr>\n",
       "    <tr>\n",
       "      <th>5</th>\n",
       "      <td>00025465d4725e87</td>\n",
       "      <td>\"\\n\\nCongratulations from me as well, use the ...</td>\n",
       "      <td>0</td>\n",
       "      <td>0</td>\n",
       "      <td>0</td>\n",
       "      <td>0</td>\n",
       "      <td>0</td>\n",
       "      <td>0</td>\n",
       "    </tr>\n",
       "    <tr>\n",
       "      <th>6</th>\n",
       "      <td>0002bcb3da6cb337</td>\n",
       "      <td>COCKSUCKER BEFORE YOU PISS AROUND ON MY WORK</td>\n",
       "      <td>1</td>\n",
       "      <td>1</td>\n",
       "      <td>1</td>\n",
       "      <td>0</td>\n",
       "      <td>1</td>\n",
       "      <td>0</td>\n",
       "    </tr>\n",
       "    <tr>\n",
       "      <th>7</th>\n",
       "      <td>00031b1e95af7921</td>\n",
       "      <td>Your vandalism to the Matt Shirvington article...</td>\n",
       "      <td>0</td>\n",
       "      <td>0</td>\n",
       "      <td>0</td>\n",
       "      <td>0</td>\n",
       "      <td>0</td>\n",
       "      <td>0</td>\n",
       "    </tr>\n",
       "    <tr>\n",
       "      <th>8</th>\n",
       "      <td>00037261f536c51d</td>\n",
       "      <td>Sorry if the word 'nonsense' was offensive to ...</td>\n",
       "      <td>0</td>\n",
       "      <td>0</td>\n",
       "      <td>0</td>\n",
       "      <td>0</td>\n",
       "      <td>0</td>\n",
       "      <td>0</td>\n",
       "    </tr>\n",
       "    <tr>\n",
       "      <th>9</th>\n",
       "      <td>00040093b2687caa</td>\n",
       "      <td>alignment on this subject and which are contra...</td>\n",
       "      <td>0</td>\n",
       "      <td>0</td>\n",
       "      <td>0</td>\n",
       "      <td>0</td>\n",
       "      <td>0</td>\n",
       "      <td>0</td>\n",
       "    </tr>\n",
       "  </tbody>\n",
       "</table>\n",
       "</div>"
      ],
      "text/plain": [
       "                 id                                       comment_text  toxic  \\\n",
       "0  0000997932d777bf  Explanation\\nWhy the edits made under my usern...      0   \n",
       "1  000103f0d9cfb60f  D'aww! He matches this background colour I'm s...      0   \n",
       "2  000113f07ec002fd  Hey man, I'm really not trying to edit war. It...      0   \n",
       "3  0001b41b1c6bb37e  \"\\nMore\\nI can't make any real suggestions on ...      0   \n",
       "4  0001d958c54c6e35  You, sir, are my hero. Any chance you remember...      0   \n",
       "5  00025465d4725e87  \"\\n\\nCongratulations from me as well, use the ...      0   \n",
       "6  0002bcb3da6cb337       COCKSUCKER BEFORE YOU PISS AROUND ON MY WORK      1   \n",
       "7  00031b1e95af7921  Your vandalism to the Matt Shirvington article...      0   \n",
       "8  00037261f536c51d  Sorry if the word 'nonsense' was offensive to ...      0   \n",
       "9  00040093b2687caa  alignment on this subject and which are contra...      0   \n",
       "\n",
       "   severe_toxic  obscene  threat  insult  identity_hate  \n",
       "0             0        0       0       0              0  \n",
       "1             0        0       0       0              0  \n",
       "2             0        0       0       0              0  \n",
       "3             0        0       0       0              0  \n",
       "4             0        0       0       0              0  \n",
       "5             0        0       0       0              0  \n",
       "6             1        1       0       1              0  \n",
       "7             0        0       0       0              0  \n",
       "8             0        0       0       0              0  \n",
       "9             0        0       0       0              0  "
      ]
     },
     "execution_count": 3,
     "metadata": {},
     "output_type": "execute_result"
    }
   ],
   "source": [
    "train_df.head(10)"
   ]
  },
  {
   "cell_type": "code",
   "execution_count": 4,
   "metadata": {},
   "outputs": [
    {
     "name": "stdout",
     "output_type": "stream",
     "text": [
      "<class 'pandas.core.frame.DataFrame'>\n",
      "RangeIndex: 153164 entries, 0 to 153163\n",
      "Data columns (total 2 columns):\n",
      "id              153164 non-null object\n",
      "comment_text    153164 non-null object\n",
      "dtypes: object(2)\n",
      "memory usage: 2.3+ MB\n"
     ]
    }
   ],
   "source": [
    "test_df.info()"
   ]
  },
  {
   "cell_type": "code",
   "execution_count": 5,
   "metadata": {},
   "outputs": [
    {
     "data": {
      "text/html": [
       "<div>\n",
       "<style>\n",
       "    .dataframe thead tr:only-child th {\n",
       "        text-align: right;\n",
       "    }\n",
       "\n",
       "    .dataframe thead th {\n",
       "        text-align: left;\n",
       "    }\n",
       "\n",
       "    .dataframe tbody tr th {\n",
       "        vertical-align: top;\n",
       "    }\n",
       "</style>\n",
       "<table border=\"1\" class=\"dataframe\">\n",
       "  <thead>\n",
       "    <tr style=\"text-align: right;\">\n",
       "      <th></th>\n",
       "      <th>id</th>\n",
       "      <th>comment_text</th>\n",
       "    </tr>\n",
       "  </thead>\n",
       "  <tbody>\n",
       "    <tr>\n",
       "      <th>0</th>\n",
       "      <td>00001cee341fdb12</td>\n",
       "      <td>Yo bitch Ja Rule is more succesful then you'll...</td>\n",
       "    </tr>\n",
       "    <tr>\n",
       "      <th>1</th>\n",
       "      <td>0000247867823ef7</td>\n",
       "      <td>== From RfC == \\n\\n The title is fine as it is...</td>\n",
       "    </tr>\n",
       "    <tr>\n",
       "      <th>2</th>\n",
       "      <td>00013b17ad220c46</td>\n",
       "      <td>\" \\n\\n == Sources == \\n\\n * Zawe Ashton on Lap...</td>\n",
       "    </tr>\n",
       "    <tr>\n",
       "      <th>3</th>\n",
       "      <td>00017563c3f7919a</td>\n",
       "      <td>:If you have a look back at the source, the in...</td>\n",
       "    </tr>\n",
       "    <tr>\n",
       "      <th>4</th>\n",
       "      <td>00017695ad8997eb</td>\n",
       "      <td>I don't anonymously edit articles at all.</td>\n",
       "    </tr>\n",
       "    <tr>\n",
       "      <th>5</th>\n",
       "      <td>0001ea8717f6de06</td>\n",
       "      <td>Thank you for understanding. I think very high...</td>\n",
       "    </tr>\n",
       "    <tr>\n",
       "      <th>6</th>\n",
       "      <td>00024115d4cbde0f</td>\n",
       "      <td>Please do not add nonsense to Wikipedia. Such ...</td>\n",
       "    </tr>\n",
       "    <tr>\n",
       "      <th>7</th>\n",
       "      <td>000247e83dcc1211</td>\n",
       "      <td>:Dear god this site is horrible.</td>\n",
       "    </tr>\n",
       "    <tr>\n",
       "      <th>8</th>\n",
       "      <td>00025358d4737918</td>\n",
       "      <td>\" \\n Only a fool can believe in such numbers. ...</td>\n",
       "    </tr>\n",
       "    <tr>\n",
       "      <th>9</th>\n",
       "      <td>00026d1092fe71cc</td>\n",
       "      <td>== Double Redirects == \\n\\n When fixing double...</td>\n",
       "    </tr>\n",
       "  </tbody>\n",
       "</table>\n",
       "</div>"
      ],
      "text/plain": [
       "                 id                                       comment_text\n",
       "0  00001cee341fdb12  Yo bitch Ja Rule is more succesful then you'll...\n",
       "1  0000247867823ef7  == From RfC == \\n\\n The title is fine as it is...\n",
       "2  00013b17ad220c46  \" \\n\\n == Sources == \\n\\n * Zawe Ashton on Lap...\n",
       "3  00017563c3f7919a  :If you have a look back at the source, the in...\n",
       "4  00017695ad8997eb          I don't anonymously edit articles at all.\n",
       "5  0001ea8717f6de06  Thank you for understanding. I think very high...\n",
       "6  00024115d4cbde0f  Please do not add nonsense to Wikipedia. Such ...\n",
       "7  000247e83dcc1211                   :Dear god this site is horrible.\n",
       "8  00025358d4737918  \" \\n Only a fool can believe in such numbers. ...\n",
       "9  00026d1092fe71cc  == Double Redirects == \\n\\n When fixing double..."
      ]
     },
     "execution_count": 5,
     "metadata": {},
     "output_type": "execute_result"
    }
   ],
   "source": [
    "test_df.head(10)"
   ]
  },
  {
   "cell_type": "code",
   "execution_count": 6,
   "metadata": {
    "collapsed": true
   },
   "outputs": [],
   "source": [
    "label_columns = [x for x in train_df.columns if x not in['id', 'comment_text']]"
   ]
  },
  {
   "cell_type": "code",
   "execution_count": 9,
   "metadata": {},
   "outputs": [
    {
     "name": "stdout",
     "output_type": "stream",
     "text": [
      "Count for toxic: 0.09584448302009764\n",
      "Count for severe_toxic: 0.009995550569965721\n",
      "Count for obscene: 0.052948217407925\n",
      "Count for threat: 0.002995531769557125\n",
      "Count for insult: 0.04936360616904074\n",
      "Count for identity_hate: 0.00880485802558109\n"
     ]
    }
   ],
   "source": [
    "for label in label_columns:\n",
    "    print(f\"Count for {label}: {train_df[label].sum()/159571}\")"
   ]
  },
  {
   "cell_type": "code",
   "execution_count": 11,
   "metadata": {
    "collapsed": true
   },
   "outputs": [],
   "source": [
    "import re\n",
    "def remove_punctuation(row_str):\n",
    "    return re.sub(r\"\\W\", \" \", row_str)"
   ]
  },
  {
   "cell_type": "code",
   "execution_count": 14,
   "metadata": {},
   "outputs": [],
   "source": [
    "train_df = train_df.assign(comment_text=train_df.comment_text.apply(remove_punctuation))"
   ]
  },
  {
   "cell_type": "code",
   "execution_count": 15,
   "metadata": {},
   "outputs": [
    {
     "data": {
      "text/html": [
       "<div>\n",
       "<style>\n",
       "    .dataframe thead tr:only-child th {\n",
       "        text-align: right;\n",
       "    }\n",
       "\n",
       "    .dataframe thead th {\n",
       "        text-align: left;\n",
       "    }\n",
       "\n",
       "    .dataframe tbody tr th {\n",
       "        vertical-align: top;\n",
       "    }\n",
       "</style>\n",
       "<table border=\"1\" class=\"dataframe\">\n",
       "  <thead>\n",
       "    <tr style=\"text-align: right;\">\n",
       "      <th></th>\n",
       "      <th>id</th>\n",
       "      <th>comment_text</th>\n",
       "      <th>toxic</th>\n",
       "      <th>severe_toxic</th>\n",
       "      <th>obscene</th>\n",
       "      <th>threat</th>\n",
       "      <th>insult</th>\n",
       "      <th>identity_hate</th>\n",
       "    </tr>\n",
       "  </thead>\n",
       "  <tbody>\n",
       "    <tr>\n",
       "      <th>0</th>\n",
       "      <td>0000997932d777bf</td>\n",
       "      <td>Explanation Why the edits made under my userna...</td>\n",
       "      <td>0</td>\n",
       "      <td>0</td>\n",
       "      <td>0</td>\n",
       "      <td>0</td>\n",
       "      <td>0</td>\n",
       "      <td>0</td>\n",
       "    </tr>\n",
       "    <tr>\n",
       "      <th>1</th>\n",
       "      <td>000103f0d9cfb60f</td>\n",
       "      <td>D aww  He matches this background colour I m s...</td>\n",
       "      <td>0</td>\n",
       "      <td>0</td>\n",
       "      <td>0</td>\n",
       "      <td>0</td>\n",
       "      <td>0</td>\n",
       "      <td>0</td>\n",
       "    </tr>\n",
       "    <tr>\n",
       "      <th>2</th>\n",
       "      <td>000113f07ec002fd</td>\n",
       "      <td>Hey man  I m really not trying to edit war  It...</td>\n",
       "      <td>0</td>\n",
       "      <td>0</td>\n",
       "      <td>0</td>\n",
       "      <td>0</td>\n",
       "      <td>0</td>\n",
       "      <td>0</td>\n",
       "    </tr>\n",
       "    <tr>\n",
       "      <th>3</th>\n",
       "      <td>0001b41b1c6bb37e</td>\n",
       "      <td>More I can t make any real suggestions on im...</td>\n",
       "      <td>0</td>\n",
       "      <td>0</td>\n",
       "      <td>0</td>\n",
       "      <td>0</td>\n",
       "      <td>0</td>\n",
       "      <td>0</td>\n",
       "    </tr>\n",
       "    <tr>\n",
       "      <th>4</th>\n",
       "      <td>0001d958c54c6e35</td>\n",
       "      <td>You  sir  are my hero  Any chance you remember...</td>\n",
       "      <td>0</td>\n",
       "      <td>0</td>\n",
       "      <td>0</td>\n",
       "      <td>0</td>\n",
       "      <td>0</td>\n",
       "      <td>0</td>\n",
       "    </tr>\n",
       "  </tbody>\n",
       "</table>\n",
       "</div>"
      ],
      "text/plain": [
       "                 id                                       comment_text  toxic  \\\n",
       "0  0000997932d777bf  Explanation Why the edits made under my userna...      0   \n",
       "1  000103f0d9cfb60f  D aww  He matches this background colour I m s...      0   \n",
       "2  000113f07ec002fd  Hey man  I m really not trying to edit war  It...      0   \n",
       "3  0001b41b1c6bb37e    More I can t make any real suggestions on im...      0   \n",
       "4  0001d958c54c6e35  You  sir  are my hero  Any chance you remember...      0   \n",
       "\n",
       "   severe_toxic  obscene  threat  insult  identity_hate  \n",
       "0             0        0       0       0              0  \n",
       "1             0        0       0       0              0  \n",
       "2             0        0       0       0              0  \n",
       "3             0        0       0       0              0  \n",
       "4             0        0       0       0              0  "
      ]
     },
     "execution_count": 15,
     "metadata": {},
     "output_type": "execute_result"
    }
   ],
   "source": [
    "train_df.head()"
   ]
  },
  {
   "cell_type": "code",
   "execution_count": 16,
   "metadata": {
    "collapsed": true
   },
   "outputs": [],
   "source": [
    "train_df = train_df.assign(comment_len=train_df.comment_text.str.len())"
   ]
  },
  {
   "cell_type": "code",
   "execution_count": 18,
   "metadata": {},
   "outputs": [
    {
     "data": {
      "text/plain": [
       "count    159571.000000\n",
       "mean        394.073221\n",
       "std         590.720282\n",
       "min           6.000000\n",
       "10%          47.000000\n",
       "20%          78.000000\n",
       "30%         114.000000\n",
       "40%         155.000000\n",
       "50%         205.000000\n",
       "60%         274.000000\n",
       "70%         367.000000\n",
       "80%         528.000000\n",
       "90%         889.000000\n",
       "max        5000.000000\n",
       "Name: comment_len, dtype: float64"
      ]
     },
     "execution_count": 18,
     "metadata": {},
     "output_type": "execute_result"
    }
   ],
   "source": [
    "deciles = [x/10.0 for x in range(1, 10)]\n",
    "train_df.comment_len.describe(percentiles=deciles)"
   ]
  },
  {
   "cell_type": "code",
   "execution_count": 20,
   "metadata": {},
   "outputs": [
    {
     "name": "stdout",
     "output_type": "stream",
     "text": [
      "Correlation with comment length for toxic: -0.05447006083163078\n",
      "Correlation with comment length for severe_toxic: 0.010131476097346773\n",
      "Correlation with comment length for obscene: -0.0429448445095561\n",
      "Correlation with comment length for threat: -0.008010929142591652\n",
      "Correlation with comment length for insult: -0.045052164589184276\n",
      "Correlation with comment length for identity_hate: -0.013646811898123098\n"
     ]
    }
   ],
   "source": [
    "for label in label_columns:\n",
    "    print(\"Correlation with comment length for {}: {}\".format(label, train_df[label].corr(train_df.comment_len)))"
   ]
  },
  {
   "cell_type": "code",
   "execution_count": 21,
   "metadata": {
    "collapsed": true
   },
   "outputs": [],
   "source": [
    "def get_num_words(row_str):\n",
    "    return len(row_str.split())"
   ]
  },
  {
   "cell_type": "code",
   "execution_count": 22,
   "metadata": {
    "collapsed": true
   },
   "outputs": [],
   "source": [
    "train_df = train_df.assign(num_words=train_df.comment_text.apply(get_num_words))"
   ]
  },
  {
   "cell_type": "code",
   "execution_count": 24,
   "metadata": {},
   "outputs": [
    {
     "data": {
      "text/plain": [
       "count    159571.000000\n",
       "mean         69.176812\n",
       "std         102.199498\n",
       "min           1.000000\n",
       "10%           8.000000\n",
       "20%          14.000000\n",
       "30%          21.000000\n",
       "40%          28.000000\n",
       "50%          37.000000\n",
       "60%          49.000000\n",
       "70%          65.000000\n",
       "80%          93.000000\n",
       "90%         156.000000\n",
       "max        1403.000000\n",
       "Name: num_words, dtype: float64"
      ]
     },
     "execution_count": 24,
     "metadata": {},
     "output_type": "execute_result"
    }
   ],
   "source": [
    "train_df.num_words.describe(percentiles=deciles)"
   ]
  },
  {
   "cell_type": "code",
   "execution_count": 25,
   "metadata": {
    "collapsed": true
   },
   "outputs": [],
   "source": [
    "def get_unique_words(row_str):\n",
    "    return len(set(row_str.lower().split()))"
   ]
  },
  {
   "cell_type": "code",
   "execution_count": 26,
   "metadata": {
    "collapsed": true
   },
   "outputs": [],
   "source": [
    "train_df = train_df.assign(unique_words=train_df.comment_text.apply(get_unique_words))"
   ]
  },
  {
   "cell_type": "code",
   "execution_count": 27,
   "metadata": {},
   "outputs": [
    {
     "data": {
      "text/plain": [
       "count    159571.000000\n",
       "mean         45.559249\n",
       "std          48.413661\n",
       "min           1.000000\n",
       "10%           8.000000\n",
       "20%          13.000000\n",
       "30%          18.000000\n",
       "40%          24.000000\n",
       "50%          31.000000\n",
       "60%          39.000000\n",
       "70%          50.000000\n",
       "80%          66.000000\n",
       "90%          98.000000\n",
       "max         551.000000\n",
       "Name: unique_words, dtype: float64"
      ]
     },
     "execution_count": 27,
     "metadata": {},
     "output_type": "execute_result"
    }
   ],
   "source": [
    "train_df.unique_words.describe(percentiles=deciles)"
   ]
  },
  {
   "cell_type": "code",
   "execution_count": 28,
   "metadata": {},
   "outputs": [
    {
     "name": "stdout",
     "output_type": "stream",
     "text": [
      "Correlation with number of words for toxic: -0.0505603514155355\n",
      "Correlation with number of words for severe_toxic: 0.01059871603759936\n",
      "Correlation with number of words for obscene: -0.03990540553491677\n",
      "Correlation with number of words for threat: -0.006349151044919374\n",
      "Correlation with number of words for insult: -0.04158970848893047\n",
      "Correlation with number of words for identity_hate: -0.013741014897643566\n"
     ]
    }
   ],
   "source": [
    "for label in label_columns:\n",
    "    print(\"Correlation with number of words for {}: {}\".format(label, train_df[label].corr(train_df.num_words)))"
   ]
  },
  {
   "cell_type": "code",
   "execution_count": 29,
   "metadata": {},
   "outputs": [
    {
     "name": "stdout",
     "output_type": "stream",
     "text": [
      "Correlation with unique words for toxic: -0.09894807559708929\n",
      "Correlation with unique words for severe_toxic: -0.050632568513852706\n",
      "Correlation with unique words for obscene: -0.08331065036354922\n",
      "Correlation with unique words for threat: -0.020910868879782177\n",
      "Correlation with unique words for insult: -0.08333459851941347\n",
      "Correlation with unique words for identity_hate: -0.03378064011201142\n"
     ]
    }
   ],
   "source": [
    "for label in label_columns:\n",
    "    print(\"Correlation with unique words for {}: {}\".format(label, train_df[label].corr(train_df.unique_words)))"
   ]
  },
  {
   "cell_type": "code",
   "execution_count": 30,
   "metadata": {
    "collapsed": true
   },
   "outputs": [],
   "source": [
    "train_df.eval('mean_word_length = comment_len/num_words', inplace=True)"
   ]
  },
  {
   "cell_type": "code",
   "execution_count": 31,
   "metadata": {},
   "outputs": [
    {
     "data": {
      "text/plain": [
       "count    159571.000000\n",
       "mean          5.727259\n",
       "std           5.620545\n",
       "min           1.916667\n",
       "10%           4.865385\n",
       "20%           5.133333\n",
       "30%           5.314286\n",
       "40%           5.466667\n",
       "50%           5.604651\n",
       "60%           5.750000\n",
       "70%           5.904762\n",
       "80%           6.117647\n",
       "90%           6.490566\n",
       "max        1242.250000\n",
       "Name: mean_word_length, dtype: float64"
      ]
     },
     "execution_count": 31,
     "metadata": {},
     "output_type": "execute_result"
    }
   ],
   "source": [
    "train_df.mean_word_length.describe(percentiles=deciles)"
   ]
  },
  {
   "cell_type": "code",
   "execution_count": 32,
   "metadata": {},
   "outputs": [
    {
     "data": {
      "text/plain": [
       "8.4"
      ]
     },
     "execution_count": 32,
     "metadata": {},
     "output_type": "execute_result"
    }
   ],
   "source": [
    "train_df.mean_word_length.quantile(0.99)"
   ]
  },
  {
   "cell_type": "code",
   "execution_count": 33,
   "metadata": {},
   "outputs": [
    {
     "name": "stdout",
     "output_type": "stream",
     "text": [
      "Correlation with unique words for toxic: 0.004497060027850679\n",
      "Correlation with unique words for severe_toxic: 0.012127401264922786\n",
      "Correlation with unique words for obscene: 0.001174266458933062\n",
      "Correlation with unique words for threat: -0.004789504349835799\n",
      "Correlation with unique words for insult: 0.003688024796914667\n",
      "Correlation with unique words for identity_hate: 0.01994607560254739\n"
     ]
    }
   ],
   "source": [
    "for label in label_columns:\n",
    "    print(\"Correlation with unique words for {}: {}\".format(label, train_df[label].corr(train_df.mean_word_length)))"
   ]
  },
  {
   "cell_type": "code",
   "execution_count": 34,
   "metadata": {
    "collapsed": true
   },
   "outputs": [],
   "source": [
    "train_df['sum'] = train_df['toxic'] + train_df[\"severe_toxic\"] + train_df['obscene'] + train_df['threat'] + train_df['insult'] + train_df['identity_hate']"
   ]
  },
  {
   "cell_type": "code",
   "execution_count": 36,
   "metadata": {},
   "outputs": [
    {
     "data": {
      "text/html": [
       "<div>\n",
       "<style>\n",
       "    .dataframe thead tr:only-child th {\n",
       "        text-align: right;\n",
       "    }\n",
       "\n",
       "    .dataframe thead th {\n",
       "        text-align: left;\n",
       "    }\n",
       "\n",
       "    .dataframe tbody tr th {\n",
       "        vertical-align: top;\n",
       "    }\n",
       "</style>\n",
       "<table border=\"1\" class=\"dataframe\">\n",
       "  <thead>\n",
       "    <tr style=\"text-align: right;\">\n",
       "      <th></th>\n",
       "      <th>toxic</th>\n",
       "      <th>severe_toxic</th>\n",
       "      <th>obscene</th>\n",
       "      <th>threat</th>\n",
       "      <th>insult</th>\n",
       "      <th>identity_hate</th>\n",
       "      <th>sum</th>\n",
       "    </tr>\n",
       "  </thead>\n",
       "  <tbody>\n",
       "    <tr>\n",
       "      <th>toxic</th>\n",
       "      <td>1.000000</td>\n",
       "      <td>0.308619</td>\n",
       "      <td>0.676515</td>\n",
       "      <td>0.157058</td>\n",
       "      <td>0.647518</td>\n",
       "      <td>0.266009</td>\n",
       "      <td>0.869050</td>\n",
       "    </tr>\n",
       "    <tr>\n",
       "      <th>severe_toxic</th>\n",
       "      <td>0.308619</td>\n",
       "      <td>1.000000</td>\n",
       "      <td>0.403014</td>\n",
       "      <td>0.123601</td>\n",
       "      <td>0.375807</td>\n",
       "      <td>0.201600</td>\n",
       "      <td>0.517967</td>\n",
       "    </tr>\n",
       "    <tr>\n",
       "      <th>obscene</th>\n",
       "      <td>0.676515</td>\n",
       "      <td>0.403014</td>\n",
       "      <td>1.000000</td>\n",
       "      <td>0.141179</td>\n",
       "      <td>0.741272</td>\n",
       "      <td>0.286867</td>\n",
       "      <td>0.879731</td>\n",
       "    </tr>\n",
       "    <tr>\n",
       "      <th>threat</th>\n",
       "      <td>0.157058</td>\n",
       "      <td>0.123601</td>\n",
       "      <td>0.141179</td>\n",
       "      <td>1.000000</td>\n",
       "      <td>0.150022</td>\n",
       "      <td>0.115128</td>\n",
       "      <td>0.251314</td>\n",
       "    </tr>\n",
       "    <tr>\n",
       "      <th>insult</th>\n",
       "      <td>0.647518</td>\n",
       "      <td>0.375807</td>\n",
       "      <td>0.741272</td>\n",
       "      <td>0.150022</td>\n",
       "      <td>1.000000</td>\n",
       "      <td>0.337736</td>\n",
       "      <td>0.869177</td>\n",
       "    </tr>\n",
       "    <tr>\n",
       "      <th>identity_hate</th>\n",
       "      <td>0.266009</td>\n",
       "      <td>0.201600</td>\n",
       "      <td>0.286867</td>\n",
       "      <td>0.115128</td>\n",
       "      <td>0.337736</td>\n",
       "      <td>1.000000</td>\n",
       "      <td>0.448341</td>\n",
       "    </tr>\n",
       "    <tr>\n",
       "      <th>sum</th>\n",
       "      <td>0.869050</td>\n",
       "      <td>0.517967</td>\n",
       "      <td>0.879731</td>\n",
       "      <td>0.251314</td>\n",
       "      <td>0.869177</td>\n",
       "      <td>0.448341</td>\n",
       "      <td>1.000000</td>\n",
       "    </tr>\n",
       "  </tbody>\n",
       "</table>\n",
       "</div>"
      ],
      "text/plain": [
       "                  toxic  severe_toxic   obscene    threat    insult  \\\n",
       "toxic          1.000000      0.308619  0.676515  0.157058  0.647518   \n",
       "severe_toxic   0.308619      1.000000  0.403014  0.123601  0.375807   \n",
       "obscene        0.676515      0.403014  1.000000  0.141179  0.741272   \n",
       "threat         0.157058      0.123601  0.141179  1.000000  0.150022   \n",
       "insult         0.647518      0.375807  0.741272  0.150022  1.000000   \n",
       "identity_hate  0.266009      0.201600  0.286867  0.115128  0.337736   \n",
       "sum            0.869050      0.517967  0.879731  0.251314  0.869177   \n",
       "\n",
       "               identity_hate       sum  \n",
       "toxic               0.266009  0.869050  \n",
       "severe_toxic        0.201600  0.517967  \n",
       "obscene             0.286867  0.879731  \n",
       "threat              0.115128  0.251314  \n",
       "insult              0.337736  0.869177  \n",
       "identity_hate       1.000000  0.448341  \n",
       "sum                 0.448341  1.000000  "
      ]
     },
     "execution_count": 36,
     "metadata": {},
     "output_type": "execute_result"
    }
   ],
   "source": [
    "train_df[label_columns + ['sum']].corr()"
   ]
  },
  {
   "cell_type": "code",
   "execution_count": 38,
   "metadata": {},
   "outputs": [],
   "source": [
    "train_df['toxicity_label']=(train_df==1).any(axis=1)"
   ]
  },
  {
   "cell_type": "code",
   "execution_count": 39,
   "metadata": {
    "collapsed": true
   },
   "outputs": [],
   "source": [
    "toxic_count = train_df['toxicity_label'].value_counts()"
   ]
  },
  {
   "cell_type": "code",
   "execution_count": 40,
   "metadata": {},
   "outputs": [
    {
     "data": {
      "text/plain": [
       "False    143315\n",
       "True      16256\n",
       "Name: toxicity_label, dtype: int64"
      ]
     },
     "execution_count": 40,
     "metadata": {},
     "output_type": "execute_result"
    }
   ],
   "source": [
    "toxic_count"
   ]
  },
  {
   "cell_type": "code",
   "execution_count": 43,
   "metadata": {},
   "outputs": [
    {
     "data": {
      "image/png": "[encoded data removed]",
      "text/plain": [
       "<matplotlib.figure.Figure at 0x14df29e5470>"
      ]
     },
     "metadata": {},
     "output_type": "display_data"
    }
   ],
   "source": [
    "import matplotlib.pyplot as plt\n",
    "x = [0,1]\n",
    "ind = toxic_count.index\n",
    "plt.bar(toxic_count.index, toxic_count.values, alpha=0.8, color=['slateblue', 'slategrey'])\n",
    "plt.ylabel('Number of Count', fontsize=10)\n",
    "plt.xlabel('Toxicity label', fontsize=10)\n",
    "plt.xticks(x,ind,rotation='vertical')\n",
    "plt.show()"
   ]
  },
  {
   "cell_type": "code",
   "execution_count": 47,
   "metadata": {},
   "outputs": [
    {
     "data": {
      "text/html": [
       "<div>\n",
       "<style>\n",
       "    .dataframe thead tr:only-child th {\n",
       "        text-align: right;\n",
       "    }\n",
       "\n",
       "    .dataframe thead th {\n",
       "        text-align: left;\n",
       "    }\n",
       "\n",
       "    .dataframe tbody tr th {\n",
       "        vertical-align: top;\n",
       "    }\n",
       "</style>\n",
       "<table border=\"1\" class=\"dataframe\">\n",
       "  <thead>\n",
       "    <tr>\n",
       "      <th>obscene</th>\n",
       "      <th colspan=\"8\" halign=\"left\">0</th>\n",
       "      <th colspan=\"7\" halign=\"left\">1</th>\n",
       "    </tr>\n",
       "    <tr>\n",
       "      <th>threat</th>\n",
       "      <th colspan=\"4\" halign=\"left\">0</th>\n",
       "      <th colspan=\"4\" halign=\"left\">1</th>\n",
       "      <th colspan=\"4\" halign=\"left\">0</th>\n",
       "      <th colspan=\"3\" halign=\"left\">1</th>\n",
       "    </tr>\n",
       "    <tr>\n",
       "      <th>insult</th>\n",
       "      <th colspan=\"2\" halign=\"left\">0</th>\n",
       "      <th colspan=\"2\" halign=\"left\">1</th>\n",
       "      <th colspan=\"2\" halign=\"left\">0</th>\n",
       "      <th colspan=\"2\" halign=\"left\">1</th>\n",
       "      <th colspan=\"2\" halign=\"left\">0</th>\n",
       "      <th colspan=\"2\" halign=\"left\">1</th>\n",
       "      <th>0</th>\n",
       "      <th colspan=\"2\" halign=\"left\">1</th>\n",
       "    </tr>\n",
       "    <tr>\n",
       "      <th>identity_hate</th>\n",
       "      <th>0</th>\n",
       "      <th>1</th>\n",
       "      <th>0</th>\n",
       "      <th>1</th>\n",
       "      <th>0</th>\n",
       "      <th>1</th>\n",
       "      <th>0</th>\n",
       "      <th>1</th>\n",
       "      <th>0</th>\n",
       "      <th>1</th>\n",
       "      <th>0</th>\n",
       "      <th>1</th>\n",
       "      <th>0</th>\n",
       "      <th>0</th>\n",
       "      <th>1</th>\n",
       "    </tr>\n",
       "    <tr>\n",
       "      <th>toxic</th>\n",
       "      <th></th>\n",
       "      <th></th>\n",
       "      <th></th>\n",
       "      <th></th>\n",
       "      <th></th>\n",
       "      <th></th>\n",
       "      <th></th>\n",
       "      <th></th>\n",
       "      <th></th>\n",
       "      <th></th>\n",
       "      <th></th>\n",
       "      <th></th>\n",
       "      <th></th>\n",
       "      <th></th>\n",
       "      <th></th>\n",
       "    </tr>\n",
       "  </thead>\n",
       "  <tbody>\n",
       "    <tr>\n",
       "      <th>0</th>\n",
       "      <td>143346</td>\n",
       "      <td>54</td>\n",
       "      <td>301</td>\n",
       "      <td>28</td>\n",
       "      <td>22</td>\n",
       "      <td>0</td>\n",
       "      <td>3</td>\n",
       "      <td>0</td>\n",
       "      <td>317</td>\n",
       "      <td>3</td>\n",
       "      <td>181</td>\n",
       "      <td>18</td>\n",
       "      <td>2</td>\n",
       "      <td>2</td>\n",
       "      <td>0</td>\n",
       "    </tr>\n",
       "    <tr>\n",
       "      <th>1</th>\n",
       "      <td>5707</td>\n",
       "      <td>139</td>\n",
       "      <td>1229</td>\n",
       "      <td>141</td>\n",
       "      <td>124</td>\n",
       "      <td>8</td>\n",
       "      <td>17</td>\n",
       "      <td>3</td>\n",
       "      <td>1916</td>\n",
       "      <td>41</td>\n",
       "      <td>4789</td>\n",
       "      <td>883</td>\n",
       "      <td>15</td>\n",
       "      <td>195</td>\n",
       "      <td>87</td>\n",
       "    </tr>\n",
       "  </tbody>\n",
       "</table>\n",
       "</div>"
      ],
      "text/plain": [
       "obscene             0                                    1                     \\\n",
       "threat              0                    1               0                  1   \n",
       "insult              0          1         0      1        0         1        0   \n",
       "identity_hate       0    1     0    1    0  1   0  1     0   1     0    1   0   \n",
       "toxic                                                                           \n",
       "0              143346   54   301   28   22  0   3  0   317   3   181   18   2   \n",
       "1                5707  139  1229  141  124  8  17  3  1916  41  4789  883  15   \n",
       "\n",
       "obscene                 \n",
       "threat                  \n",
       "insult           1      \n",
       "identity_hate    0   1  \n",
       "toxic                   \n",
       "0                2   0  \n",
       "1              195  87  "
      ]
     },
     "execution_count": 47,
     "metadata": {},
     "output_type": "execute_result"
    }
   ],
   "source": [
    "pd.crosstab(train_df.toxic, [train_df.obscene, train_df.threat, train_df.insult, train_df.identity_hate])"
   ]
  },
  {
   "cell_type": "code",
   "execution_count": 49,
   "metadata": {},
   "outputs": [
    {
     "data": {
      "text/html": [
       "<div>\n",
       "<style>\n",
       "    .dataframe thead tr:only-child th {\n",
       "        text-align: right;\n",
       "    }\n",
       "\n",
       "    .dataframe thead th {\n",
       "        text-align: left;\n",
       "    }\n",
       "\n",
       "    .dataframe tbody tr th {\n",
       "        vertical-align: top;\n",
       "    }\n",
       "</style>\n",
       "<table border=\"1\" class=\"dataframe\">\n",
       "  <thead>\n",
       "    <tr>\n",
       "      <th>obscene</th>\n",
       "      <th colspan=\"8\" halign=\"left\">0</th>\n",
       "      <th colspan=\"7\" halign=\"left\">1</th>\n",
       "    </tr>\n",
       "    <tr>\n",
       "      <th>threat</th>\n",
       "      <th colspan=\"4\" halign=\"left\">0</th>\n",
       "      <th colspan=\"4\" halign=\"left\">1</th>\n",
       "      <th colspan=\"4\" halign=\"left\">0</th>\n",
       "      <th colspan=\"3\" halign=\"left\">1</th>\n",
       "    </tr>\n",
       "    <tr>\n",
       "      <th>insult</th>\n",
       "      <th colspan=\"2\" halign=\"left\">0</th>\n",
       "      <th colspan=\"2\" halign=\"left\">1</th>\n",
       "      <th colspan=\"2\" halign=\"left\">0</th>\n",
       "      <th colspan=\"2\" halign=\"left\">1</th>\n",
       "      <th colspan=\"2\" halign=\"left\">0</th>\n",
       "      <th colspan=\"2\" halign=\"left\">1</th>\n",
       "      <th>0</th>\n",
       "      <th colspan=\"2\" halign=\"left\">1</th>\n",
       "    </tr>\n",
       "    <tr>\n",
       "      <th>identity_hate</th>\n",
       "      <th>0</th>\n",
       "      <th>1</th>\n",
       "      <th>0</th>\n",
       "      <th>1</th>\n",
       "      <th>0</th>\n",
       "      <th>1</th>\n",
       "      <th>0</th>\n",
       "      <th>1</th>\n",
       "      <th>0</th>\n",
       "      <th>1</th>\n",
       "      <th>0</th>\n",
       "      <th>1</th>\n",
       "      <th>0</th>\n",
       "      <th>0</th>\n",
       "      <th>1</th>\n",
       "    </tr>\n",
       "    <tr>\n",
       "      <th>severe_toxic</th>\n",
       "      <th></th>\n",
       "      <th></th>\n",
       "      <th></th>\n",
       "      <th></th>\n",
       "      <th></th>\n",
       "      <th></th>\n",
       "      <th></th>\n",
       "      <th></th>\n",
       "      <th></th>\n",
       "      <th></th>\n",
       "      <th></th>\n",
       "      <th></th>\n",
       "      <th></th>\n",
       "      <th></th>\n",
       "      <th></th>\n",
       "    </tr>\n",
       "  </thead>\n",
       "  <tbody>\n",
       "    <tr>\n",
       "      <th>0</th>\n",
       "      <td>149012</td>\n",
       "      <td>190</td>\n",
       "      <td>1516</td>\n",
       "      <td>162</td>\n",
       "      <td>135</td>\n",
       "      <td>7</td>\n",
       "      <td>19</td>\n",
       "      <td>3</td>\n",
       "      <td>2075</td>\n",
       "      <td>38</td>\n",
       "      <td>3981</td>\n",
       "      <td>636</td>\n",
       "      <td>13</td>\n",
       "      <td>133</td>\n",
       "      <td>56</td>\n",
       "    </tr>\n",
       "    <tr>\n",
       "      <th>1</th>\n",
       "      <td>41</td>\n",
       "      <td>3</td>\n",
       "      <td>14</td>\n",
       "      <td>7</td>\n",
       "      <td>11</td>\n",
       "      <td>1</td>\n",
       "      <td>1</td>\n",
       "      <td>0</td>\n",
       "      <td>158</td>\n",
       "      <td>6</td>\n",
       "      <td>989</td>\n",
       "      <td>265</td>\n",
       "      <td>4</td>\n",
       "      <td>64</td>\n",
       "      <td>31</td>\n",
       "    </tr>\n",
       "  </tbody>\n",
       "</table>\n",
       "</div>"
      ],
      "text/plain": [
       "obscene             0                                    1                     \\\n",
       "threat              0                    1               0                  1   \n",
       "insult              0          1         0      1        0         1        0   \n",
       "identity_hate       0    1     0    1    0  1   0  1     0   1     0    1   0   \n",
       "severe_toxic                                                                    \n",
       "0              149012  190  1516  162  135  7  19  3  2075  38  3981  636  13   \n",
       "1                  41    3    14    7   11  1   1  0   158   6   989  265   4   \n",
       "\n",
       "obscene                 \n",
       "threat                  \n",
       "insult           1      \n",
       "identity_hate    0   1  \n",
       "severe_toxic            \n",
       "0              133  56  \n",
       "1               64  31  "
      ]
     },
     "execution_count": 49,
     "metadata": {},
     "output_type": "execute_result"
    }
   ],
   "source": [
    "pd.crosstab(train_df.severe_toxic, [train_df.obscene, train_df.threat, train_df.insult, train_df.identity_hate])"
   ]
  },
  {
   "cell_type": "code",
   "execution_count": 50,
   "metadata": {},
   "outputs": [
    {
     "data": {
      "text/html": [
       "<div>\n",
       "<style>\n",
       "    .dataframe thead tr:only-child th {\n",
       "        text-align: right;\n",
       "    }\n",
       "\n",
       "    .dataframe thead th {\n",
       "        text-align: left;\n",
       "    }\n",
       "\n",
       "    .dataframe tbody tr th {\n",
       "        vertical-align: top;\n",
       "    }\n",
       "</style>\n",
       "<table border=\"1\" class=\"dataframe\">\n",
       "  <thead>\n",
       "    <tr style=\"text-align: right;\">\n",
       "      <th>severe_toxic</th>\n",
       "      <th>0</th>\n",
       "      <th>1</th>\n",
       "    </tr>\n",
       "    <tr>\n",
       "      <th>toxic</th>\n",
       "      <th></th>\n",
       "      <th></th>\n",
       "    </tr>\n",
       "  </thead>\n",
       "  <tbody>\n",
       "    <tr>\n",
       "      <th>0</th>\n",
       "      <td>144277</td>\n",
       "      <td>0</td>\n",
       "    </tr>\n",
       "    <tr>\n",
       "      <th>1</th>\n",
       "      <td>13699</td>\n",
       "      <td>1595</td>\n",
       "    </tr>\n",
       "  </tbody>\n",
       "</table>\n",
       "</div>"
      ],
      "text/plain": [
       "severe_toxic       0     1\n",
       "toxic                     \n",
       "0             144277     0\n",
       "1              13699  1595"
      ]
     },
     "execution_count": 50,
     "metadata": {},
     "output_type": "execute_result"
    }
   ],
   "source": [
    "pd.crosstab(train_df.toxic, [train_df.severe_toxic])"
   ]
  },
  {
   "cell_type": "code",
   "execution_count": 51,
   "metadata": {},
   "outputs": [
    {
     "data": {
      "text/html": [
       "<div>\n",
       "<style>\n",
       "    .dataframe thead tr:only-child th {\n",
       "        text-align: right;\n",
       "    }\n",
       "\n",
       "    .dataframe thead th {\n",
       "        text-align: left;\n",
       "    }\n",
       "\n",
       "    .dataframe tbody tr th {\n",
       "        vertical-align: top;\n",
       "    }\n",
       "</style>\n",
       "<table border=\"1\" class=\"dataframe\">\n",
       "  <thead>\n",
       "    <tr style=\"text-align: right;\">\n",
       "      <th></th>\n",
       "      <th>id</th>\n",
       "      <th>comment_text</th>\n",
       "      <th>toxic</th>\n",
       "      <th>severe_toxic</th>\n",
       "      <th>obscene</th>\n",
       "      <th>threat</th>\n",
       "      <th>insult</th>\n",
       "      <th>identity_hate</th>\n",
       "      <th>comment_len</th>\n",
       "      <th>num_words</th>\n",
       "      <th>unique_words</th>\n",
       "      <th>mean_word_length</th>\n",
       "      <th>sum</th>\n",
       "      <th>toxicity_label</th>\n",
       "    </tr>\n",
       "  </thead>\n",
       "  <tbody>\n",
       "  </tbody>\n",
       "</table>\n",
       "</div>"
      ],
      "text/plain": [
       "Empty DataFrame\n",
       "Columns: [id, comment_text, toxic, severe_toxic, obscene, threat, insult, identity_hate, comment_len, num_words, unique_words, mean_word_length, sum, toxicity_label]\n",
       "Index: []"
      ]
     },
     "execution_count": 51,
     "metadata": {},
     "output_type": "execute_result"
    }
   ],
   "source": [
    "train_df[train_df.comment_text.isnull()]"
   ]
  },
  {
   "cell_type": "code",
   "execution_count": 52,
   "metadata": {},
   "outputs": [
    {
     "data": {
      "text/html": [
       "<div>\n",
       "<style>\n",
       "    .dataframe thead tr:only-child th {\n",
       "        text-align: right;\n",
       "    }\n",
       "\n",
       "    .dataframe thead th {\n",
       "        text-align: left;\n",
       "    }\n",
       "\n",
       "    .dataframe tbody tr th {\n",
       "        vertical-align: top;\n",
       "    }\n",
       "</style>\n",
       "<table border=\"1\" class=\"dataframe\">\n",
       "  <thead>\n",
       "    <tr style=\"text-align: right;\">\n",
       "      <th></th>\n",
       "      <th>id</th>\n",
       "      <th>comment_text</th>\n",
       "      <th>toxic</th>\n",
       "      <th>severe_toxic</th>\n",
       "      <th>obscene</th>\n",
       "      <th>threat</th>\n",
       "      <th>insult</th>\n",
       "      <th>identity_hate</th>\n",
       "      <th>comment_len</th>\n",
       "      <th>num_words</th>\n",
       "      <th>unique_words</th>\n",
       "      <th>mean_word_length</th>\n",
       "      <th>sum</th>\n",
       "      <th>toxicity_label</th>\n",
       "    </tr>\n",
       "  </thead>\n",
       "  <tbody>\n",
       "  </tbody>\n",
       "</table>\n",
       "</div>"
      ],
      "text/plain": [
       "Empty DataFrame\n",
       "Columns: [id, comment_text, toxic, severe_toxic, obscene, threat, insult, identity_hate, comment_len, num_words, unique_words, mean_word_length, sum, toxicity_label]\n",
       "Index: []"
      ]
     },
     "execution_count": 52,
     "metadata": {},
     "output_type": "execute_result"
    }
   ],
   "source": [
    "train_df[train_df.comment_text == '']"
   ]
  },
  {
   "cell_type": "code",
   "execution_count": 53,
   "metadata": {
    "collapsed": true
   },
   "outputs": [],
   "source": [
    "train_df = train_df.sort_values(by=\"comment_len\", ascending=False)"
   ]
  },
  {
   "cell_type": "code",
   "execution_count": 54,
   "metadata": {
    "collapsed": true
   },
   "outputs": [],
   "source": [
    "pd.set_option('display.max_colwidth', -1)"
   ]
  },
  {
   "cell_type": "code",
   "execution_count": 55,
   "metadata": {},
   "outputs": [
    {
     "data": {
      "text/plain": [
       "46583    hahahahahahahahahahahahahahahahahaha vandalism rules vandalism rules vandalism rules vandalism rules vandalism rules vandalism rules vandalism rules vandalism rules vandalism rules vandalism rules vandalism rules vandalism rules vandalism rules vandalism rules vandalism rules vandalism rules vandalism rules vandalism rules vandalism rules vandalism rules vandalism rules vandalism rules vandalism rules vandalism rules vandalism rules vandalism rules vandalism rules vandalism rules vandalism rules vandalism rules vandalism rules vandalism rules vandalism rules vandalism rules vandalism rules vandalism rules vandalism rules vandalism rules vandalism rules vandalism rules vandalism rules vandalism rules vandalism rules vandalism rules vandalism rules vandalism rules vandalism rules vandalism rules vandalism rules vandalism rules vandalism rules vandalism rules vandalism rules vandalism rules vandalism rules vandalism rules vandalism rules vandalism rules vandalism rules vandalism rules vandalism rules vandalism rules vandalism rules vandalism rules vandalism rules vandalism rules vandalism rules vandalism rules vandalism rules vandalism rules vandalism rules vandalism rules vandalism rules vandalism rules vandalism rules vandalism rules vandalism rules vandalism rules vandalism rules vandalism rules vandalism rules vandalism rules vandalism rules vandalism rules vandalism rules vandalism rules vandalism rules vandalism rules vandalism rules vandalism rules vandalism rules vandalism rules vandalism rules vandalism rules vandalism rules vandalism rules vandalism rules vandalism rules vandalism rules vandalism rules vandalism rules vandalism rules vandalism rules vandalism rules vandalism rules vandalism rules vandalism rules vandalism rules vandalism rules vandalism rules vandalism rules vandalism rules vandalism rules vandalism rules vandalism rules vandalism rules vandalism rules vandalism rules vandalism rules vandalism rules vandalism rules vandalism rules vandalism rules vandalism rules vandalism rules vandalism rules vandalism rules vandalism rules vandalism rules vandalism rules vandalism rules vandalism rules vandalism rules vandalism rules vandalism rules vandalism rules vandalism rules vandalism rules vandalism rules vandalism rules vandalism rules vandalism rules vandalism rules vandalism rules vandalism rules vandalism rules vandalism rules vandalism rules vandalism rules vandalism rules vandalism rules vandalism rules vandalism rules vandalism rules vandalism rules vandalism rules vandalism rules vandalism rules vandalism rules vandalism rules vandalism rules vandalism rules vandalism rules vandalism rules vandalism rules vandalism rules vandalism rules vandalism rules vandalism rules vandalism rules vandalism rules vandalism rules vandalism rules vandalism rules vandalism rules vandalism rules vandalism rules vandalism rules vandalism rules vandalism rules vandalism rules vandalism rules vandalism rules vandalism rules vandalism rules vandalism rules vandalism rules vandalism rules vandalism rules vandalism rules vandalism rules vandalism rules vandalism rules vandalism rules vandalism rules vandalism rules vandalism rules vandalism rules vandalism rules vandalism rules vandalism rules vandalism rules vandalism rules vandalism rules vandalism rules vandalism rules vandalism rules vandalism rules vandalism rules vandalism rules vandalism rules vandalism rules vandalism rules vandalism rules vandalism rules vandalism rules vandalism rules vandalism rules vandalism rules vandalism rules vandalism rules vandalism rules vandalism rules vandalism rules vandalism rules vandalism rules vandalism rules vandalism rules vandalism rules vandalism rules vandalism rules vandalism rules vandalism rules vandalism rules vandalism rules vandalism rules vandalism rules vandalism rules vandalism rules vandalism rules vandalism rules vandalism rules vandalism rules vandalism rules vandalism rules vandalism rules vandalism rules vandalism rules vandalism rules vandalism rules vandalism rules vandalism rules vandalism rules vandalism rules vandalism rules vandalism rules vandalism rules vandalism rules vandalism rules vandalism rules vandalism rules vandalism rules vandalism rules vandalism rules vandalism rules vandalism rules vandalism rules vandalism rules vandalism rules vandalism rules vandalism rules vandalism rules vandalism rules vandalism rules vandalism rules vandalism rules vandalism rules vandalism rules vandalism rules vandalism rules vandalism rules vandalism rules vandalism rules vandalism rules vandalism rules vandalism rules vandalism rules vandalism rules vandalism rules vandalism rules vandalism rules vandalism rules vandalism rules vandalism rules vandalism rules vandalism rules vandalism rules vandalism rules vandalism rules vandalism rules vandalism rules vandalism rules vandalism rules vandalism rules vandalism rules vandalism rules vandalism rules vandalism rules vandalism rules vandalism rules van\n",
       "Name: comment_text, dtype: object"
      ]
     },
     "execution_count": 55,
     "metadata": {},
     "output_type": "execute_result"
    }
   ],
   "source": [
    "train_df.comment_text.head(1)"
   ]
  },
  {
   "cell_type": "code",
   "execution_count": 56,
   "metadata": {},
   "outputs": [
    {
     "data": {
      "text/plain": [
       "46583     hahahahahahahahahahahahahahahahahaha vandalism rules vandalism rules vandalism rules vandalism rules vandalism rules vandalism rules vandalism rules vandalism rules vandalism rules vandalism rules vandalism rules vandalism rules vandalism rules vandalism rules vandalism rules vandalism rules vandalism rules vandalism rules vandalism rules vandalism rules vandalism rules vandalism rules vandalism rules vandalism rules vandalism rules vandalism rules vandalism rules vandalism rules vandalism rules vandalism rules vandalism rules vandalism rules vandalism rules vandalism rules vandalism rules vandalism rules vandalism rules vandalism rules vandalism rules vandalism rules vandalism rules vandalism rules vandalism rules vandalism rules vandalism rules vandalism rules vandalism rules vandalism rules vandalism rules vandalism rules vandalism rules vandalism rules vandalism rules vandalism rules vandalism rules vandalism rules vandalism rules vandalism rules vandalism rules vandalism rules vandalism rules vandalism rules vandalism rules vandalism rules vandalism rules vandalism rules vandalism rules vandalism rules vandalism rules vandalism rules vandalism rules vandalism rules vandalism rules vandalism rules vandalism rules vandalism rules vandalism rules vandalism rules vandalism rules vandalism rules vandalism rules vandalism rules vandalism rules vandalism rules vandalism rules vandalism rules vandalism rules vandalism rules vandalism rules vandalism rules vandalism rules vandalism rules vandalism rules vandalism rules vandalism rules vandalism rules vandalism rules vandalism rules vandalism rules vandalism rules vandalism rules vandalism rules vandalism rules vandalism rules vandalism rules vandalism rules vandalism rules vandalism rules vandalism rules vandalism rules vandalism rules vandalism rules vandalism rules vandalism rules vandalism rules vandalism rules vandalism rules vandalism rules vandalism rules vandalism rules vandalism rules vandalism rules vandalism rules vandalism rules vandalism rules vandalism rules vandalism rules vandalism rules vandalism rules vandalism rules vandalism rules vandalism rules vandalism rules vandalism rules vandalism rules vandalism rules vandalism rules vandalism rules vandalism rules vandalism rules vandalism rules vandalism rules vandalism rules vandalism rules vandalism rules vandalism rules vandalism rules vandalism rules vandalism rules vandalism rules vandalism rules vandalism rules vandalism rules vandalism rules vandalism rules vandalism rules vandalism rules vandalism rules vandalism rules vandalism rules vandalism rules vandalism rules vandalism rules vandalism rules vandalism rules vandalism rules vandalism rules vandalism rules vandalism rules vandalism rules vandalism rules vandalism rules vandalism rules vandalism rules vandalism rules vandalism rules vandalism rules vandalism rules vandalism rules vandalism rules vandalism rules vandalism rules vandalism rules vandalism rules vandalism rules vandalism rules vandalism rules vandalism rules vandalism rules vandalism rules vandalism rules vandalism rules vandalism rules vandalism rules vandalism rules vandalism rules vandalism rules vandalism rules vandalism rules vandalism rules vandalism rules vandalism rules vandalism rules vandalism rules vandalism rules vandalism rules vandalism rules vandalism rules vandalism rules vandalism rules vandalism rules vandalism rules vandalism rules vandalism rules vandalism rules vandalism rules vandalism rules vandalism rules vandalism rules vandalism rules vandalism rules vandalism rules vandalism rules vandalism rules vandalism rules vandalism rules vandalism rules vandalism rules vandalism rules vandalism rules vandalism rules vandalism rules vandalism rules vandalism rules vandalism rules vandalism rules vandalism rules vandalism rules vandalism rules vandalism rules vandalism rules vandalism rules vandalism rules vandalism rules vandalism rules vandalism rules vandalism rules vandalism rules vandalism rules vandalism rules vandalism rules vandalism rules vandalism rules vandalism rules vandalism rules vandalism rules vandalism rules vandalism rules vandalism rules vandalism rules vandalism rules vandalism rules vandalism rules vandalism rules vandalism rules vandalism rules vandalism rules vandalism rules vandalism rules vandalism rules vandalism rules vandalism rules vandalism rules vandalism rules vandalism rules vandalism rules vandalism rules vandalism rules vandalism rules vandalism rules vandalism rules vandalism rules vandalism rules vandalism rules vandalism rules vandalism rules vandalism rules vandalism rules vandalism rules vandalism rules vandalism rules vandalism rules vandalism rules vandalism rules vandalism rules vandalism rules vandalism rules vandalism rules vandalism rules vandalism rules vandalism rules vandalism rules vandalism rules vandalism rules vandalism rules vandalism rules vandalism rules vandalism rules vandalism rules vandalism rules van\n",
       "47715     Block Block Block Block Block Block Block Block Block Block Block Block Block Block Block Block Block Block Block Block Block Block Block Block Block Block Block Block Block Block Block Block Block Block Block Block Block Block Block Block Block Block Block Block Block Block Block Block Block Block Block Block Block Block Block Block Block Block Block Block Block Block Block Block Block Block Block Block Block Block Block Block Block Block Block Block Block Block Block Block Block Block Block Block Block Block Block Block Block Block Block Block Block Block Block Block Block Block Block Block Block Block Block Block Block Block Block Block Block Block Block Block Block Block Block Block Block Block Block Block Block Block Block Block Block Block Block Block Block Block Block Block Block Block Block Block Block Block Block Block Block Block Block Block Block Block Block Block Block Block Block Block Block Block Block Block Block Block Block Block Block Block Block Block Block Block Block Block Block Block Block Block Block Block Block Block Block Block Block Block Block Block Block Block Block Block Block Block Block Block Block Block Block Block Block Block Block Block Block Block Block Block Block Block Block Block Block Block Block Block Block Block Block Block Block Block Block Block Block Block Block Block Block Block Block Block Block Block Block Block Block Block Block Block Block Block Block Block Block Block Block Block Block Block Block Block Block Block Block Block Block Block Block Block Block Block Block Block Block Block Block Block Block Block Block Block Block Block Block Block Block Block Block Block Block Block Block Block Block Block Block Block Block Block Block Block Block Block Block Block Block Block Block Block Block Block Block Block Block Block Block Block Block Block Block Block Block Block Block Block Block Block Block Block Block Block Block Block Block Block Block Block Block Block Block Block Block Block Block Block Block Block Block Block Block Block Block Block Block Block Block Block Block Block Block Block Block Block Block Block Block Block Block Block Block Block Block Block Block Block Block Block Block Block Block Block Block Block Block Block Block Block Block Block Block Block Block Block Block Block Block Block Block Block Block Block Block Block Block Block Block Block Block Block Block Block Block Block Block Block Block Block Block Block Block Block Block Block Block Block Block Block Block Block Block Block Block Block Block Block Block Block Block Block Block Block Block Block Block Block Block Block Block Block Block Block Block Block Block Block Block Block Block Block Block Block Block Block Block Block Block Block Block Block Block Block Block Block Block Block Block Block Block Block Block Block Block Block Block Block Block Block Block Block Block Block Block Block Block Block Block Block Block Block Block Block Block Block Block Block Block Block Block Block Block Block Block Block Block Block Block Block Block Block Block Block Block Block Block Block Block Block Block Block Block Block Block Block Block Block Block Block Block Block Block Block Block Block Block Block Block Block Block Block Block Block Block Block Block Block Block Block Block Block Block Block Block Block Block Block Block Block Block Block Block Block Block Block Block Block Block Block Block Block Block Block Block Block Block Block Block Block Block Block Block Block Block Block Block Block Block Block Block Block Block Block Block Block Block Block Block Block Block Block Block Block Block Block Block Block Block Block Block Block Block Block Block Block Block Block Block Block Block Block Block Block Block Block Block Block Block Block Block Block Block Block Block Block Block Block Block Block Block Block Block Block Block Block Block Block Block Block Block Block Block Block Block Block Block Block Block Block Block Block Block Block Block Block Block Block Block Block Block Block Block Block Block Block Block Block Block Block Block Block Block Block Block Block Block Block Block Block Block Block Block Block Block Block Block Block Block Block Block Block Block Block Block Block Block Block Block Block Block Block Block Block Block Block Block Block Block Block Block Block Block Block Block Block Block Block Block Block Block Block Block Block Block Block Block Block Block Block Block Block Block Block Block Block Block Block Block Block Block Block Block Block Block Block Block Block Block Block Block Block Block Block Block Block Block Block Block Block Block Block Block Block Block Block Block Block Block Block Block Block Block Block Block Block Block Block Block Block Block Block Block Block Block Block Block Block Block Block Block Block Block Block Block Block Block Block Block Block Block Block Block Block Block Block Block Block Block Block Block Block Block Block Block Block Block Block Block Block Block Block Block Block Block Block Block Block Block Block Block Bl\n",
       "74753     Dont Change It     zzzzzzzzzzzzzzzzzzzzzzzzzzzzzzzzzzzzzzzzzzzzzzzzzzzzzzzzzzzzzzzzzzzzzzzzzzzzzzzzzzzzzzzzzzzzzzzzzzzzzzzzzzzzzzzzzzzzzzzzzzzzzzzzzzzzzzzzzzzzzzzzzzzzzz zzzzzzzzzzzzzzzzzzzzzzzzzzzzzzzzzzzzzzzzzzzzzzzzzzzzzzzzzzzzzzzzzzzzzzzzzzzzzzzzzzzzzzzzzzzzzzzzzzzzzzzzzzzzzzzzzzzzzzzzzzzzzzzzzzzzzzzzzzzzzzzzzzzzzz zzzzzzzzzzzzzzzzzzzzzzzzzzzzzzzzzzzzzzzzzzzzzzzzzzzzzzzzzzzzzzzzzzzzzzzzzzzzzzzzzzzzzzzzzzzzzzzzzzzzzzzzzzzzzzzzzzzzzzzzzzzzzzzzzzzzzzzzzzzzzzzzzzzzzz zzzzzzzzzzzzzzzzzzzzzzzzzzzzzzzzzzzzzzzzzzzzzzzzzzzzzzzzzzzzzzzzzzzzzzzzzzzzzzzzzzzzzzzzzzzzzzzzzzzzzzzzzzzzzzzzzzzzzzzzzzzzzzzzzzzzzzzzzzzzzzzzzzzzzz zzzzzzzzzzzzzzzzzzzzzzzzzzzzzzzzzzzzzzzzzzzzzzzzzzzzzzzzzzzzzzzzzzzzzzzzzzzzzzzzzzzzzzzzzzzzzzzzzzzzzzzzzzzzzzzzzzzzzzzzzzzzzzzzzzzzzzzzzzzzzzzzzzzzzz zzzzzzzzzzzzzzzzzzzzzzzzzzzzzzzzzzzzzzzzzzzzzzzzzzzzzzzzzzzzzzzzzzzzzzzzzzzzzzzzzzzzzzzzzzzzzzzzzzzzzzzzzzzzzzzzzzzzzzzzzzzzzzzzzzzzzzzzzzzzzzzzzzzzzz zzzzzzzzzzzzzzzzzzzzzzzzzzzzzzzzzzzzzzzzzzzzzzzzzzzzzzzzzzzzzzzzzzzzzzzzzzzzzzzzzzzzzzzzzzzzzzzzzzzzzzzzzzzzzzzzzzzzzzzzzzzzzzzzzzzzzzzzzzzzzzzzzzzzzz zzzzzzzzzzzzzzzzzzzzzzzzzzzzzzzzzzzzzzzzzzzzzzzzzzzzzzzzzzzzzzzzzzzzzzzzzzzzzzzzzzzzzzzzzzzzzzzzzzzzzzzzzzzzzzzzzzzzzzzzzzzzzzzzzzzzzzzzzzzzzzzzzzzzzz zzzzzzzzzzzzzzzzzzzzzzzzzzzzzzzzzzzzzzzzzzzzzzzzzzzzzzzzzzzzzzzzzzzzzzzzzzzzzzzzzzzzzzzzzzzzzzzzzzzzzzzzzzzzzzzzzzzzzzzzzzzzzzzzzzzzzzzzzzzzzzzzzzzzzz zzzzzzzzzzzzzzzzzzzzzzzzzzzzzzzzzzzzzzzzzzzzzzzzzzzzzzzzzzzzzzzzzzzzzzzzzzzzzzzzzzzzzzzzzzzzzzzzzzzzzzzzzzzzzzzzzzzzzzzzzzzzzzzzzzzzzzzzzzzzzzzzzzzzzz zzzzzzzzzzzzzzzzzzzzzzzzzzzzzzzzzzzzzzzzzzzzzzzzzzzzzzzzzzzzzzzzzzzzzzzzzzzzzzzzzzzzzzzzzzzzzzzzzzzzzzzzzzzzzzzzzzzzzzzzzzzzzzzzzzzzzzzzzzzzzzzzzzzzzz zzzzzzzzzzzzzzzzzzzzzzzzzzzzzzzzzzzzzzzzzzzzzzzzzzzzzzzzzzzzzzzzzzzzzzzzzzzzzzzzzzzzzzzzzzzzzzzzzzzzzzzzzzzzzzzzzzzzzzzzzzzzzzzzzzzzzzzzzzzzzzzzzzzzzz zzzzzzzzzzzzzzzzzzzzzzzzzzzzzzzzzzzzzzzzzzzzzzzzzzzzzzzzzzzzzzzzzzzzzzzzzzzzzzzzzzzzzzzzzzzzzzzzzzzzzzzzzzzzzzzzzzzzzzzzzzzzzzzzzzzzzzzzzzzzzzzzzzzzzz zzzzzzzzzzzzzzzzzzzzzzzzzzzzzzzzzzzzzzzzzzzzzzzzzzzzzzzzzzzzzzzzzzzzzzzzzzzzzzzzzzzzzzzzzzzzzzzzzzzzzzzzzzzzzzzzzzzzzzzzzzzzzzzzzzzzzzzzzzzzzzzzzzzzzz zzzzzzzzzzzzzzzzzzzzzzzzzzzzzzzzzzzzzzzzzzzzzzzzzzzzzzzzzzzzzzzzzzzzzzzzzzzzzzzzzzzzzzzzzzzzzzzzzzzzzzzzzzzzzzzzzzzzzzzzzzzzzzzzzzzzzzzzzzzzzzzzzzzzzz zzzzzzzzzzzzzzzzzzzzzzzzzzzzzzzzzzzzzzzzzzzzzzzzzzzzzzzzzzzzzzzzzzzzzzzzzzzzzzzzzzzzzzzzzzzzzzzzzzzzzzzzzzzzzzzzzzzzzzzzzzzzzzzzzzzzzzzzzzzzzzzzzzzzzz zzzzzzzzzzzzzzzzzzzzzzzzzzzzzzzzzzzzzzzzzzzzzzzzzzzzzzzzzzzzzzzzzzzzzzzzzzzzzzzzzzzzzzzzzzzzzzzzzzzzzzzzzzzzzzzzzzzzzzzzzzzzzzzzzzzzzzzzzzzzzzzzzzzzzz zzzzzzzzzzzzzzzzzzzzzzzzzzzzzzzzzzzzzzzzzzzzzzzzzzzzzzzzzzzzzzzzzzzzzzzzzzzzzzzzzzzzzzzzzzzzzzzzzzzzzzzzzzzzzzzzzzzzzzzzzzzzzzzzzzzzzzzzzzzzzzzzzzzzzz zzzzzzzzzzzzzzzzzzzzzzzzzzzzzzzzzzzzzzzzzzzzzzzzzzzzzzzzzzzzzzzzzzzzzzzzzzzzzzzzzzzzzzzzzzzzzzzzzzzzzzzzzzzzzzzzzzzzzzzzzzzzzzzzzzzzzzzzzzzzzzzzzzzzzz zzzzzzzzzzzzzzzzzzzzzzzzzzzzzzzzzzzzzzzzzzzzzzzzzzzzzzzzzzzzzzzzzzzzzzzzzzzzzzzzzzzzzzzzzzzzzzzzzzzzzzzzzzzzzzzzzzzzzzzzzzzzzzzzzzzzzzzzzzzzzzzzzzzzzz zzzzzzzzzzzzzzzzzzzzzzzzzzzzzzzzzzzzzzzzzzzzzzzzzzzzzzzzzzzzzzzzzzzzzzzzzzzzzzzzzzzzzzzzzzzzzzzzzzzzzzzzzzzzzzzzzzzzzzzzzzzzzzzzzzzzzzzzzzzzzzzzzzzzzz zzzzzzzzzzzzzzzzzzzzzzzzzzzzzzzzzzzzzzzzzzzzzzzzzzzzzzzzzzzzzzzzzzzzzzzzzzzzzzzzzzzzzzzzzzzzzzzzzzzzzzzzzzzzzzzzzzzzzzzzzzzzzzzzzzzzzzzzzzzzzzzzzzzzzz zzzzzzzzzzzzzzzzzzzzzzzzzzzzzzzzzzzzzzzzzzzzzzzzzzzzzzzzzzzzzzzzzzzzzzzzzzzzzzzzzzzzzzzzzzzzzzzzzzzzzzzzzzzzzzzzzzzzzzzzzzzzzzzzzzzzzzzzzzzzzzzzzzzzzz zzzzzzzzzzzzzzzzzzzzzzzzzzzzzzzzzzzzzzzzzzzzzzzzzzzzzzzzzzzzzzzzzzzzzzzzzzzzzzzzzzzzzzzzzzzzzzzzzzzzzzzzzzzzzzzzzzzzzzzzzzzzzzzzzzzzzzzzzzzzzzzzzzzzzz zzzzzzzzzzzzzzzzzzzzzzzzzzzzzzzzzzzzzzzzzzzzzzzzzzzzzzzzzzzzzzzzzzzzzzzzzzzzzzzzzzzzzzzzzzzzzzzzzzzzzzzzzzzzzzzzzzzzzzzzzzzzzzzzzzzzzzzzzzzzzzzzzzzzzz zzzzzzzzzzzzzzzzzzzzzzzzzzzzzzzzzzzzzzzzzzzzzzzzzzzzzzzzzzzzzzzzzzzzzzzzzzzzzzzzzzzzzzzzzzzzzzzzzzzzzzzzzzzzzzzzzzzzzzzzzzzzzzzzzzzzzzzzzzzzzzzzzzzzzz zzzzzzzzzzzzzzzzzzzzzzzzzzzzzzzzzzzzzzzzzzzzzzzzzzzzzzzzzzzzzzzzzzzzzzzzzzzzzzzzzzzzzzzzzzzzzzzzzzzzzzzzzzzzzzzzzzzzzzzzzzzzzzzzzzzzzzzzzzzzzzzzzzzzzz zzzzzzzzzzzzzzzzzzzzzzzzzzzzzzzzzzzzzzzzzzzzzzzzzzzzzzzzzzzzzzzzzzzzzzzzzzzzzzzzzzzzzzzzzzzzzzzzzzzzzzzzzzzzzzzzzzzzzzzzzzzzzzzzzzzzzzzzzzzzzzzzzzzzzz zzzzzzzzzzzzzzzzzzzzzzzzzzzzzzzzzzzzzzzzzzzzzzzzzzzzzzzzzzzzzzzzzzzzzzzzzzzzzzzzzzzzzzzzzzzzzzzzzzzzzzzzzzzzzzzzzzzzzzzzzzzzzzzzzzzzzzzzzzzzzzzzzzzzzz zzzzzzzzzzzzzzzzzzzzzzzzzzzzzzzzzzzzzzzzzzzzzzzzzzzzzzzzzzzzzzzzzzzzzzzzzzzzzzzzzzzzzzzzzzzzzzzzzzzzzzzzzzzzzzzzzzzzzzzzzzzzzzzzzzzzzzzzzzzzzzzzzzzzzz zzzzzzzzzzzzzzzzzzzzzzzzzzzzzzzzzzzzzzzzzzzzzzzzzzzzzzzzzzzzzzzzzzzzzzzzzzzzzzzzzzzzzzzzzzzzzzzzzzzzzzzzzzzzzzzzzzzzzzzzzzzzzzzzzzzzzzzzzzzzzzzzzzzzzz zzzzzzzzzzzzzzzzzzzzzzzzzzzzzzzzzzzzzzzzzzzzzzzzzzzzzzzzzzzzzzzzzzzzzzzzzzzzzzzzzzzzzzzzzzzzzzzzzzzzzzzzzzzzzzzzzzzzzzzzzzzzzzzzzzzzzzzzzzzzzzzzzzzzzz zzzzzzzzzzzzzzzzzzzzzzzzzzzzzzzzzzzzzzzzzzzzzzzzzzzzzzzzzzzzzzzzzzzzzzzzzzzzzzzzzzzzzzzzzzzzzzzzzzzzzzzzzzzzzzzzzzzzzzzzzzzzzzzzzzzzzzzzzzzzzzzzzzzzz\n",
       "42061     WANKER WANKER WANKER WANKER WANKER WANKER WANKER WANKER WANKER WANKER WANKER WANKER WANKER WANKER WANKER WANKER WANKER WANKER WANKER WANKER WANKER WANKER WANKER WANKER WANKER WANKER WANKER WANKER WANKER WANKER WANKER WANKER WANKER WANKER WANKER WANKER WANKER WANKER WANKER WANKER WANKER WANKER WANKER WANKER WANKER WANKER WANKER WANKER WANKER WANKER WANKER WANKER WANKER WANKER WANKER WANKER WANKER WANKER WANKER WANKER WANKER WANKER WANKER WANKER WANKER WANKER WANKER WANKER WANKER WANKER WANKER WANKER WANKER WANKER WANKER WANKER WANKER WANKER WANKER WANKER WANKER WANKER WANKER WANKER WANKER WANKER WANKER WANKER WANKER WANKER WANKER WANKER WANKER WANKER WANKER WANKER WANKER WANKER WANKER WANKER WANKER WANKER WANKER WANKER WANKER WANKER WANKER WANKER WANKER WANKER WANKER WANKER WANKER WANKER WANKER WANKER WANKER WANKER WANKER WANKER WANKER WANKER WANKER WANKER WANKER WANKER WANKER WANKER WANKER WANKER WANKER WANKER WANKER WANKER WANKER WANKER WANKER WANKER WANKER WANKER WANKER WANKER WANKER WANKER WANKER WANKER WANKER WANKER WANKER WANKER WANKER WANKER WANKER WANKER WANKER WANKER WANKER WANKER WANKER WANKER WANKER WANKER WANKER WANKER WANKER WANKER WANKER WANKER WANKER WANKER WANKER WANKER WANKER WANKER WANKER WANKER WANKER WANKER WANKER WANKER WANKER WANKER WANKER WANKER WANKER WANKER WANKER WANKER WANKER WANKER WANKER WANKER WANKER WANKER WANKER WANKER WANKER WANKER WANKER WANKER WANKER WANKER WANKER WANKER WANKER WANKER WANKER WANKER WANKER WANKER WANKER WANKER WANKER WANKER WANKER WANKER WANKER WANKER WANKER WANKER WANKER WANKER WANKER WANKER WANKER WANKER WANKER WANKER WANKER WANKER WANKER WANKER WANKER WANKER WANKER WANKER WANKER WANKER WANKER WANKER WANKER WANKER WANKER WANKER WANKER WANKER WANKER WANKER WANKER WANKER WANKER WANKER WANKER WANKER WANKER WANKER WANKER WANKER WANKER WANKER WANKER WANKER WANKER WANKER WANKER WANKER WANKER WANKER WANKER WANKER WANKER WANKER WANKER WANKER WANKER WANKER WANKER WANKER WANKER WANKER WANKER WANKER WANKER WANKER WANKER WANKER WANKER WANKER WANKER WANKER WANKER WANKER WANKER WANKER WANKER WANKER WANKER WANKER WANKER WANKER WANKER WANKER WANKER WANKER WANKER WANKER WANKER WANKER WANKER WANKER WANKER WANKER WANKER WANKER WANKER WANKER WANKER WANKER WANKER WANKER WANKER WANKER WANKER WANKER WANKER WANKER WANKER WANKER WANKER WANKER WANKER WANKER WANKER WANKER WANKER WANKER WANKER WANKER WANKER WANKER WANKER WANKER WANKER WANKER WANKER WANKER WANKER WANKER WANKER WANKER WANKER WANKER WANKER WANKER WANKER WANKER WANKER WANKER WANKER WANKER WANKER WANKER WANKER WANKER WANKER WANKER WANKER WANKER WANKER WANKER WANKER WANKER WANKER WANKER WANKER WANKER WANKER WANKER WANKER WANKER WANKER WANKER WANKER WANKER WANKER WANKER WANKER WANKER WANKER WANKER WANKER WANKER WANKER WANKER WANKER WANKER WANKER WANKER WANKER WANKER WANKER WANKER WANKER WANKER WANKER WANKER WANKER WANKER WANKER WANKER WANKER WANKER WANKER WANKER WANKER WANKER WANKER WANKER WANKER WANKER WANKER WANKER WANKER WANKER WANKER WANKER WANKER WANKER WANKER WANKER WANKER WANKER WANKER WANKER WANKER WANKER WANKER WANKER WANKER WANKER WANKER WANKER WANKER WANKER WANKER WANKER WANKER WANKER WANKER WANKER WANKER WANKER WANKER WANKER WANKER WANKER WANKER WANKER WANKER WANKER WANKER WANKER WANKER WANKER WANKER WANKER WANKER WANKER WANKER WANKER WANKER WANKER WANKER WANKER WANKER WANKER WANKER WANKER WANKER WANKER WANKER WANKER WANKER WANKER WANKER WANKER WANKER WANKER WANKER WANKER WANKER WANKER WANKER WANKER WANKER WANKER WANKER WANKER WANKER WANKER WANKER WANKER WANKER WANKER WANKER WANKER WANKER WANKER WANKER WANKER WANKER WANKER WANKER WANKER WANKER WANKER WANKER WANKER WANKER WANKER WANKER WANKER WANKER WANKER WANKER WANKER WANKER WANKER WANKER WANKER WANKER WANKER WANKER WANKER WANKER WANKER WANKER WANKER WANKER WANKER WANKER WANKER WANKER WANKER WANKER WANKER WANKER WANKER WANKER WANKER WANKER WANKER WANKER WANKER WANKER WANKER WANKER WANKER WANKER WANKER WANKER WANKER WANKER WANKER WANKER WANKER WANKER WANKER WANKER WANKER WANKER WANKER WANKER WANKER WANKER WANKER WANKER WANKER WANKER WANKER WANKER WANKER WANKER WANKER WANKER WANKER WANKER WANKER WANKER WANKER WANKER WANKER WANKER WANKER WANKER WANKER WANKER WANKER WANKER WANKER WANKER WANKER WANKER WANKER WANKER WANKER WANKER WANKER WANKER WANKER WANKER WANKER WANKER WANKER WANKER WANKER WANKER WANKER WANKER WANKER WANKER WANKER WANKER WANKER WANKER WANKER WANKER WANKER WANKER WANKER WANKER WANKER WANKER WANKER WANKER WANKER WANKER WANKER WANKER WANKER WANKER WANKER WANKER WANKER WANKER WANKER WANKER WANKER WANKER WANKER WANKER WANKER WANKER WANKER WANKER WANKER WANKER WANKER WANKER WANKER WANKER WANKER WANKER WANKER WANKER WANKER WANKER WANKER WANKER WANKER WANKER WANKER WANKER WANKER WANKER WANKER WANKER WANKER WANKER WANKER WANKER WANKER WANKER WANKER WANKER WANKER WANKER WANKER WANKER WANKER WANKER WANKER WANKER WANKER WANKER WANKER WANKER WANKER WANKER WANKER WANKER WANKER WANKER WANKER WANKER WANKER WANKER WANKER WANKER WANKER WANKER WANKER WANKER WANKER WA\n",
       "72192     China smells like fart  China smells like fart China smells like fart China smells like fart China smells like fart China smells like fart China smells like fart China smells like fart China smells like fart China smells like fart China smells like fart China smells like fart China smells like fart China smells like fart China smells like fart China smells like fart China smells like fart China smells like fart China smells like fart China smells like fart China smells like fart China smells like fart China smells like fart China smells like fart China smells like fart China smells like fart China smells like fart China smells like fart China smells like fart China smells like fart China smells like fart China smells like fart China smells like fart China smells like fart China smells like fart China smells like fart China smells like fart China smells like fart China smells like fart China smells like fart China smells like fart China smells like fart China smells like fart China smells like fart China smells like fart China smells like fart China smells like fart China smells like fart China smells like fart China smells like fart China smells like fart China smells like fart China smells like fart China smells like fart China smells like fart China smells like fart China smells like fart China smells like fart China smells like fart China smells like fart China smells like fart China smells like fart China smells like fart China smells like fart China smells like fart China smells like fart China smells like fart China smells like fart China smells like fart China smells like fart China smells like fart China smells like fart China smells like fart China smells like fart China smells like fart China smells like fart China smells like fart China smells like fart China smells like fart China smells like fart China smells like fart China smells like fart China smells like fart China smells like fart China smells like fart China smells like fart China smells like fart China smells like fart China smells like fart China smells like fart China smells like fart China smells like fart China smells like fart China smells like fart China smells like fart China smells like fart China smells like fart China smells like fart China smells like fart China smells like fart China smells like fart China smells like fart China smells like fart China smells like fart China smells like fart China smells like fart China smells like fart China smells like fart China smells like fart China smells like fart China smells like fart China smells like fart China smells like fart China smells like fart China smells like fart China smells like fart China smells like fart China smells like fart China smells like fart China smells like fart China smells like fart China smells like fart China smells like fart China smells like fart China smells like fart China smells like fart China smells like fart China smells like fart China smells like fart China smells like fart China smells like fart China smells like fart China smells like fart China smells like fart China smells like fart China smells like fart China smells like fart China smells like fart China smells like fart China smells like fart China smells like fart China smells like fart China smells like fart China smells like fart China smells like fart China smells like fart China smells like fart China smells like fart China smells like fart China smells like fart China smells like fart China smells like fart China smells like fart China smells like fart China smells like fart China smells like fart China smells like fart China smells like fart China smells like fart China smells like fart China smells like fart China smells like fart China smells like fart China smells like fart China smells like fart China smells like fart China smells like fart China smells like fart China smells like fart China smells like fart China smells like fart China smells like fart China smells like fart China smells like fart China smells like fart China smells like fart China smells like fart China smells like fart China smells like fart China smells like fart China smells like fart China smells like fart China smells like fart China smells like fart China smells like fart China smells like fart China smells like fart China smells like fart China smells like fart China smells like fart China smells like fart China smells like fart China smells like fart China smells like fart China smells like fart China smells like fart China smells like fart China smells like fart China smells like fart China smells like fart China smells like fart China smells like fart China smells like fart China smells like fart China smells like fart China smells like fart China smells like fart China smells like fart China smells like fart China smells like fart China smells like fart China smells like fart China smells like fart China smells like fart China smells like fart China smells like fart China smells like fart China sm\n",
       "75165     IN THE NAME OF YTMND IN THE NAME OF YTMND IN THE NAME OF YTMND IN THE NAME OF YTMND IN THE NAME OF YTMND IN THE NAME OF YTMND IN THE NAME OF YTMND IN THE NAME OF YTMND IN THE NAME OF YTMND IN THE NAME OF YTMND IN THE NAME OF YTMND IN THE NAME OF YTMND IN THE NAME OF YTMND IN THE NAME OF YTMND IN THE NAME OF YTMND IN THE NAME OF YTMND IN THE NAME OF YTMND IN THE NAME OF YTMND IN THE NAME OF YTMND IN THE NAME OF YTMND IN THE NAME OF YTMND IN THE NAME OF YTMND IN THE NAME OF YTMND IN THE NAME OF YTMND IN THE NAME OF YTMND IN THE NAME OF YTMND IN THE NAME OF YTMND IN THE NAME OF YTMND IN THE NAME OF YTMND IN THE NAME OF YTMND IN THE NAME OF YTMND IN THE NAME OF YTMND IN THE NAME OF YTMND IN THE NAME OF YTMND IN THE NAME OF YTMND IN THE NAME OF YTMND IN THE NAME OF YTMND IN THE NAME OF YTMND IN THE NAME OF YTMND IN THE NAME OF YTMND IN THE NAME OF YTMND IN THE NAME OF YTMND IN THE NAME OF YTMND IN THE NAME OF YTMND IN THE NAME OF YTMND IN THE NAME OF YTMND IN THE NAME OF YTMND IN THE NAME OF YTMND IN THE NAME OF YTMND IN THE NAME OF YTMND IN THE NAME OF YTMND IN THE NAME OF YTMND IN THE NAME OF YTMND IN THE NAME OF YTMND IN THE NAME OF YTMND IN THE NAME OF YTMND IN THE NAME OF YTMND IN THE NAME OF YTMND IN THE NAME OF YTMND IN THE NAME OF YTMND IN THE NAME OF YTMND IN THE NAME OF YTMND IN THE NAME OF YTMND IN THE NAME OF YTMND IN THE NAME OF YTMND IN THE NAME OF YTMND IN THE NAME OF YTMND IN THE NAME OF YTMND IN THE NAME OF YTMND IN THE NAME OF YTMND IN THE NAME OF YTMND IN THE NAME OF YTMND IN THE NAME OF YTMND IN THE NAME OF YTMND IN THE NAME OF YTMND IN THE NAME OF YTMND IN THE NAME OF YTMND IN THE NAME OF YTMND IN THE NAME OF YTMND IN THE NAME OF YTMND IN THE NAME OF YTMND IN THE NAME OF YTMND IN THE NAME OF YTMND IN THE NAME OF YTMND IN THE NAME OF YTMND IN THE NAME OF YTMND IN THE NAME OF YTMND IN THE NAME OF YTMND IN THE NAME OF YTMND IN THE NAME OF YTMND IN THE NAME OF YTMND IN THE NAME OF YTMND IN THE NAME OF YTMND IN THE NAME OF YTMND IN THE NAME OF YTMND IN THE NAME OF YTMND IN THE NAME OF YTMND IN THE NAME OF YTMND IN THE NAME OF YTMND IN THE NAME OF YTMND IN THE NAME OF YTMND IN THE NAME OF YTMND IN THE NAME OF YTMND IN THE NAME OF YTMND IN THE NAME OF YTMND IN THE NAME OF YTMND IN THE NAME OF YTMND IN THE NAME OF YTMND IN THE NAME OF YTMND IN THE NAME OF YTMND IN THE NAME OF YTMND IN THE NAME OF YTMND IN THE NAME OF YTMND IN THE NAME OF YTMND IN THE NAME OF YTMND IN THE NAME OF YTMND IN THE NAME OF YTMND IN THE NAME OF YTMND IN THE NAME OF YTMND IN THE NAME OF YTMND IN THE NAME OF YTMND IN THE NAME OF YTMND IN THE NAME OF YTMND IN THE NAME OF YTMND IN THE NAME OF YTMND IN THE NAME OF YTMND IN THE NAME OF YTMND IN THE NAME OF YTMND IN THE NAME OF YTMND IN THE NAME OF YTMND IN THE NAME OF YTMND IN THE NAME OF YTMND IN THE NAME OF YTMND IN THE NAME OF YTMND IN THE NAME OF YTMND IN THE NAME OF YTMND IN THE NAME OF YTMND IN THE NAME OF YTMND IN THE NAME OF YTMND IN THE NAME OF YTMND IN THE NAME OF YTMND IN THE NAME OF YTMND IN THE NAME OF YTMND IN THE NAME OF YTMND IN THE NAME OF YTMND IN THE NAME OF YTMND IN THE NAME OF YTMND IN THE NAME OF YTMND IN THE NAME OF YTMND IN THE NAME OF YTMND IN THE NAME OF YTMND IN THE NAME OF YTMND IN THE NAME OF YTMND IN THE NAME OF YTMND IN THE NAME OF YTMND IN THE NAME OF YTMND IN THE NAME OF YTMND IN THE NAME OF YTMND IN THE NAME OF YTMND IN THE NAME OF YTMND IN THE NAME OF YTMND IN THE NAME OF YTMND IN THE NAME OF YTMND IN THE NAME OF YTMND IN THE NAME OF YTMND IN THE NAME OF YTMND IN THE NAME OF YTMND IN THE NAME OF YTMND IN THE NAME OF YTMND IN THE NAME OF YTMND IN THE NAME OF YTMND IN THE NAME OF YTMND IN THE NAME OF YTMND IN THE NAME OF YTMND IN THE NAME OF YTMND IN THE NAME OF YTMND IN THE NAME OF YTMND IN THE NAME OF YTMND IN THE NAME OF YTMND IN THE NAME OF YTMND IN THE NAME OF YTMND IN THE NAME OF YTMND IN THE NAME OF YTMND IN THE NAME OF YTMND IN THE NAME OF YTMND IN THE NAME OF YTMND IN THE NAME OF YTMND IN THE NAME OF YTMND IN THE NAME OF YTMND IN THE NAME OF YTMND IN THE NAME OF YTMND IN THE NAME OF YTMND IN THE NAME OF YTMND IN THE NAME OF YTMND IN THE NAME OF YTMND IN THE NAME OF YTMND IN THE NAME OF YTMND IN THE NAME OF YTMND IN THE NAME OF YTMND IN THE NAME OF YTMND IN THE NAME OF YTMND IN THE NAME OF YTMND IN THE NAME OF YTMND IN THE NAME OF YTMND IN THE NAME OF YTMND IN THE NAME OF YTMND IN THE NAME OF YTMND IN THE NAME OF YTMND IN THE NAME OF YTMND IN THE NAME OF YTMND IN THE NAME OF YTMND IN THE NAME OF YTMND IN THE NAME OF YTMND IN THE NAME OF YTMND IN THE NAME OF YTMND IN THE NAME OF YTMND IN THE NAME OF YTMND IN THE NAME OF YTMND IN THE NAME OF YTMND IN THE NAME OF YTMND IN THE NAME OF YTMND IN THE NAME OF YTMND IN THE NAME OF YTMND IN THE NAME OF YTMND IN THE NAME OF YTMND IN THE NAME OF YTMND IN THE NAME OF YTMND IN THE NAME OF YTMND IN THE NAME OF YTMND IN THE NAME OF YTMND IN THE NAME OF YTMND IN THE NAME OF YTMND IN THE NAME OF YTMND IN THE NAME OF YTMND IN THE NAME OF YTMND IN THE NAME OF YTMND IN THE NAME OF YTMND IN THE NAME OF YTMND IN\n",
       "56834     i CAN STILL POST WITH THIS COMPUTER   I SAID BLOCK ME  COME THE FUCK DOWN HERE AND ARREST ME   SAN DIEGO CALIFORNIA  CHULA VISTA  FUCKING GET YOUR INFORMATION RIGHT FAGGOT SHITHEAD  i CAN STILL POST WITH THIS COMPUTER   I SAID BLOCK ME  COME THE FUCK DOWN HERE AND ARREST ME   SAN DIEGO CALIFORNIA  CHULA VISTA  FUCKING GET YOUR INFORMATION RIGHT FAGGOT SHITHEAD  i CAN STILL POST WITH THIS COMPUTER   I SAID BLOCK ME  COME THE FUCK DOWN HERE AND ARREST ME   SAN DIEGO CALIFORNIA  CHULA VISTA  FUCKING GET YOUR INFORMATION RIGHT FAGGOT SHITHEAD  i CAN STILL POST WITH THIS COMPUTER   I SAID BLOCK ME  COME THE FUCK DOWN HERE AND ARREST ME   SAN DIEGO CALIFORNIA  CHULA VISTA  FUCKING GET YOUR INFORMATION RIGHT FAGGOT SHITHEAD  i CAN STILL POST WITH THIS COMPUTER   I SAID BLOCK ME  COME THE FUCK DOWN HERE AND ARREST ME   SAN DIEGO CALIFORNIA  CHULA VISTA  FUCKING GET YOUR INFORMATION RIGHT FAGGOT SHITHEAD  i CAN STILL POST WITH THIS COMPUTER   I SAID BLOCK ME  COME THE FUCK DOWN HERE AND ARREST ME   SAN DIEGO CALIFORNIA  CHULA VISTA  FUCKING GET YOUR INFORMATION RIGHT FAGGOT SHITHEAD  i CAN STILL POST WITH THIS COMPUTER   I SAID BLOCK ME  COME THE FUCK DOWN HERE AND ARREST ME   SAN DIEGO CALIFORNIA  CHULA VISTA  FUCKING GET YOUR INFORMATION RIGHT FAGGOT SHITHEAD  i CAN STILL POST WITH THIS COMPUTER   I SAID BLOCK ME  COME THE FUCK DOWN HERE AND ARREST ME   SAN DIEGO CALIFORNIA  CHULA VISTA  FUCKING GET YOUR INFORMATION RIGHT FAGGOT SHITHEAD  i CAN STILL POST WITH THIS COMPUTER   I SAID BLOCK ME  COME THE FUCK DOWN HERE AND ARREST ME   SAN DIEGO CALIFORNIA  CHULA VISTA  FUCKING GET YOUR INFORMATION RIGHT FAGGOT SHITHEAD  i CAN STILL POST WITH THIS COMPUTER   I SAID BLOCK ME  COME THE FUCK DOWN HERE AND ARREST ME   SAN DIEGO CALIFORNIA  CHULA VISTA  FUCKING GET YOUR INFORMATION RIGHT FAGGOT SHITHEAD  i CAN STILL POST WITH THIS COMPUTER   I SAID BLOCK ME  COME THE FUCK DOWN HERE AND ARREST ME   SAN DIEGO CALIFORNIA  CHULA VISTA  FUCKING GET YOUR INFORMATION RIGHT FAGGOT SHITHEAD  i CAN STILL POST WITH THIS COMPUTER   I SAID BLOCK ME  COME THE FUCK DOWN HERE AND ARREST ME   SAN DIEGO CALIFORNIA  CHULA VISTA  FUCKING GET YOUR INFORMATION RIGHT FAGGOT SHITHEAD  i CAN STILL POST WITH THIS COMPUTER   I SAID BLOCK ME  COME THE FUCK DOWN HERE AND ARREST ME   SAN DIEGO CALIFORNIA  CHULA VISTA  FUCKING GET YOUR INFORMATION RIGHT FAGGOT SHITHEAD  i CAN STILL POST WITH THIS COMPUTER   I SAID BLOCK ME  COME THE FUCK DOWN HERE AND ARREST ME   SAN DIEGO CALIFORNIA  CHULA VISTA  FUCKING GET YOUR INFORMATION RIGHT FAGGOT SHITHEAD  i CAN STILL POST WITH THIS COMPUTER   I SAID BLOCK ME  COME THE FUCK DOWN HERE AND ARREST ME   SAN DIEGO CALIFORNIA  CHULA VISTA  FUCKING GET YOUR INFORMATION RIGHT FAGGOT SHITHEAD  i CAN STILL POST WITH THIS COMPUTER   I SAID BLOCK ME  COME THE FUCK DOWN HERE AND ARREST ME   SAN DIEGO CALIFORNIA  CHULA VISTA  FUCKING GET YOUR INFORMATION RIGHT FAGGOT SHITHEAD  i CAN STILL POST WITH THIS COMPUTER   I SAID BLOCK ME  COME THE FUCK DOWN HERE AND ARREST ME   SAN DIEGO CALIFORNIA  CHULA VISTA  FUCKING GET YOUR INFORMATION RIGHT FAGGOT SHITHEAD  i CAN STILL POST WITH THIS COMPUTER   I SAID BLOCK ME  COME THE FUCK DOWN HERE AND ARREST ME   SAN DIEGO CALIFORNIA  CHULA VISTA  FUCKING GET YOUR INFORMATION RIGHT FAGGOT SHITHEAD  i CAN STILL POST WITH THIS COMPUTER   I SAID BLOCK ME  COME THE FUCK DOWN HERE AND ARREST ME   SAN DIEGO CALIFORNIA  CHULA VISTA  FUCKING GET YOUR INFORMATION RIGHT FAGGOT SHITHEAD  i CAN STILL POST WITH THIS COMPUTER   I SAID BLOCK ME  COME THE FUCK DOWN HERE AND ARREST ME   SAN DIEGO CALIFORNIA  CHULA VISTA  FUCKING GET YOUR INFORMATION RIGHT FAGGOT SHITHEAD  i CAN STILL POST WITH THIS COMPUTER   I SAID BLOCK ME  COME THE FUCK DOWN HERE AND ARREST ME   SAN DIEGO CALIFORNIA  CHULA VISTA  FUCKING GET YOUR INFORMATION RIGHT FAGGOT SHITHEAD  i CAN STILL POST WITH THIS COMPUTER   I SAID BLOCK ME  COME THE FUCK DOWN HERE AND ARREST ME   SAN DIEGO CALIFORNIA  CHULA VISTA  FUCKING GET YOUR INFORMATION RIGHT FAGGOT SHITHEAD  i CAN STILL POST WITH THIS COMPUTER   I SAID BLOCK ME  COME THE FUCK DOWN HERE AND ARREST ME   SAN DIEGO CALIFORNIA  CHULA VISTA  FUCKING GET YOUR INFORMATION RIGHT FAGGOT SHITHEAD  i CAN STILL POST WITH THIS COMPUTER   I SAID BLOCK ME  COME THE FUCK DOWN HERE AND ARREST ME   SAN DIEGO CALIFORNIA  CHULA VISTA  FUCKING GET YOUR INFORMATION RIGHT FAGGOT SHITHEAD  i CAN STILL POST WITH THIS COMPUTER   I SAID BLOCK ME  COME THE FUCK DOWN HERE AND ARREST ME   SAN DIEGO CALIFORNIA  CHULA VISTA  FUCKING GET YOUR INFORMATION RIGHT FAGGOT SHITHEAD  i CAN STILL POST WITH THIS COMPUTER   I SAID BLOCK ME  COME THE FUCK DOWN HERE AND ARREST ME   SAN DIEGO CALIFORNIA  CHULA VISTA  FUCKING GET YOUR INFORMATION RIGHT FAGGOT SHITHEAD  i CAN STILL POST WITH THIS COMPUTER   I SAID BLOCK ME  COME THE FUCK DOWN HERE AND ARREST ME   SAN DIEGO CALIFORNIA  CHULA VISTA  FUCKING GET YOUR INFORMATION RIGHT FAGGOT SHITHEAD  i CAN STILL POST WITH THIS COMPUTER   I SAID BLOCK ME  COME THE FUCK DOWN HERE AND ARR\n",
       "46197     heil hitler  heil hitler  heil hitler  heil hitler  heil hitler  heil hitler  heil hitler  heil hitler  heil hitler  heil hitler  heil hitler  heil hitler  heil hitler  heil hitler  heil hitler  heil hitler  heil hitler  heil hitler  heil hitler  heil hitler  heil hitler  heil hitler  heil hitler  heil hitler  heil hitler  heil hitler  heil hitler  heil hitler  heil hitler  heil hitler  heil hitler  heil hitler  heil hitler  heil hitler  heil hitler  heil hitler  heil hitler  heil hitler  heil hitler  heil hitler  heil hitler  heil hitler  heil hitler  heil hitler  heil hitler  heil hitler  heil hitler  heil hitler  heil hitler  heil hitler  heil hitler  heil hitler  heil hitler  heil hitler  heil hitler  heil hitler  heil hitler  heil hitler  heil hitler  heil hitler  heil hitler  heil hitler  heil hitler  heil hitler  heil hitler  heil hitler  heil hitler  heil hitler  heil hitler  heil hitler  heil hitler  heil hitler  heil hitler  heil hitler  heil hitler  heil hitler  heil hitler  heil hitler  heil hitler  heil hitler  heil hitler  heil hitler  heil hitler  heil hitler  heil hitler  heil hitler  heil hitler  heil hitler  heil hitler  heil hitler  heil hitler  heil hitler  heil hitler  heil hitler  heil hitler  heil hitler  heil hitler  heil hitler  heil hitler  heil hitler  heil hitler  heil hitler  heil hitler  heil hitler  heil hitler  heil hitler  heil hitler  heil hitler  heil hitler  heil hitler  heil hitler  heil hitler  heil hitler  heil hitler  heil hitler  heil hitler  heil hitler  heil hitler  heil hitler  heil hitler  heil hitler  heil hitler  heil hitler  heil hitler  heil hitler  heil hitler  heil hitler  heil hitler  heil hitler  heil hitler  heil hitler  heil hitler  heil hitler  heil hitler  heil hitler  heil hitler  heil hitler  heil hitler  heil hitler  heil hitler  heil hitler  heil hitler  heil hitler  heil hitler  heil hitler  heil hitler  heil hitler  heil hitler  heil hitler  heil hitler  heil hitler  heil hitler  heil hitler  heil hitler  heil hitler  heil hitler  heil hitler  heil hitler  heil hitler  heil hitler  heil hitler  heil hitler  heil hitler  heil hitler  heil hitler  heil hitler  heil hitler  heil hitler  heil hitler  heil hitler  heil hitler  heil hitler  heil hitler  heil hitler  heil hitler  heil hitler  heil hitler  heil hitler  heil hitler  heil hitler  heil hitler  heil hitler  heil hitler  heil hitler  heil hitler  heil hitler  heil hitler  heil hitler  heil hitler  heil hitler  heil hitler  heil hitler  heil hitler  heil hitler  heil hitler  heil hitler  heil hitler  heil hitler  heil hitler  heil hitler  heil hitler  heil hitler  heil hitler  heil hitler  heil hitler  heil hitler  heil hitler  heil hitler  heil hitler  heil hitler  heil hitler  heil hitler  heil hitler  heil hitler  heil hitler  heil hitler  heil hitler  heil hitler  heil hitler  heil hitler  heil hitler  heil hitler  heil hitler  heil hitler  heil hitler  heil hitler  heil hitler  heil hitler  heil hitler  heil hitler  heil hitler  heil hitler  heil hitler  heil hitler  heil hitler  heil hitler  heil hitler  heil hitler  heil hitler  heil hitler  heil hitler  heil hitler  heil hitler  heil hitler  heil hitler  heil hitler  heil hitler  heil hitler  heil hitler  heil hitler  heil hitler  heil hitler  heil hitler  heil hitler  heil hitler  heil hitler  heil hitler  heil hitler  heil hitler  heil hitler  heil hitler  heil hitler  heil hitler  heil hitler  heil hitler  heil hitler  heil hitler  heil hitler  heil hitler  heil hitler  heil hitler  heil hitler  heil hitler  heil hitler  heil hitler  heil hitler  heil hitler  heil hitler  heil hitler  heil hitler  heil hitler  heil hitler  heil hitler  heil hitler  heil hitler  heil hitler  heil hitler  heil hitler  heil hitler  heil hitler  heil hitler  heil hitler  heil hitler  heil hitler  heil hitler  heil hitler  heil hitler  heil hitler  heil hitler  heil hitler  heil hitler  heil hitler  heil hitler  heil hitler  heil hitler  heil hitler  heil hitler  heil hitler  heil hitler  heil hitler  heil hitler  heil hitler  heil hitler  heil hitler  heil hitler  heil hitler  heil hitler  heil hitler  heil hitler  heil hitler  heil hitler  heil hitler  heil hitler  heil hitler  heil hitler  heil hitler  heil hitler  heil hitler  heil hitler  heil hitler  heil hitler  heil hitler  heil hitler  heil hitler  heil hitler  heil hitler  heil hitler  heil hitler  heil hitler  heil hitler  heil hitler  heil hitler  heil hitler  heil hitler  heil hitler  heil hitler  heil hitler  heil hitler  heil hitler  heil hitler  heil hitler  heil hitler  heil hitler  heil hitler  heil hitler  heil hitler  heil hitler  heil hitler  heil hitler  heil hitler  heil hitler  heil hitler  heil hitler  heil hitler  heil hitler  heil hitler  heil hitler  heil hitler  heil hitler  heil hitler  heil hitler  heil hitler  heil hitler  heil hitler  heil hitler  heil hitler  heil hitler  heil hitler  heil hitler  heil hitler  heil hitler  heil hitler  heil hitler  heil hitler  heil hit\n",
       "131729     FFFFF UUUUUU CCCCCC KKKKKK       YOU  F UU C KK YOU FFFFF UUUUUU CCCCCC KKKKKK       YOU  F UU C KK YOU FFFFF UUUUUU CCCCCC KKKKKK       YOU  F UU C KK YOU FFFFF UUUUUU CCCCCC KKKKKK       YOU  F UU C KK YOU FFFFF UUUUUU CCCCCC KKKKKK       YOU  F UU C KK YOU FFFFF UUUUUU CCCCCC KKKKKK       YOU  F UU C KK YOU FFFFF UUUUUU CCCCCC KKKKKK       YOU  F UU C KK YOU FFFFF UUUUUU CCCCCC KKKKKK       YOU  F UU C KK YOU FFFFF UUUUUU CCCCCC KKKKKK       YOU  F UU C KK YOU FFFFF UUUUUU CCCCCC KKKKKK       YOU  F UU C KK YOU FFFFF UUUUUU CCCCCC KKKKKK       YOU  F UU C KK YOU FFFFF UUUUUU CCCCCC KKKKKK       YOU  F UU C KK YOU FFFFF UUUUUU CCCCCC KKKKKK       YOU  F UU C KK YOU FFFFF UUUUUU CCCCCC KKKKKK       YOU  F UU C KK YOU FFFFF UUUUUU CCCCCC KKKKKK       YOU  F UU C KK YOU FFFFF UUUUUU CCCCCC KKKKKK       YOU  F UU C KK YOU FFFFF UUUUUU CCCCCC KKKKKK       YOU  F UU C KK YOU FFFFF UUUUUU CCCCCC KKKKKK       YOU  F UU C KK YOU FFFFF UUUUUU CCCCCC KKKKKK       YOU  F UU C KK YOU FFFFF UUUUUU CCCCCC KKKKKK       YOU  F UU C KK YOU FFFFF UUUUUU CCCCCC KKKKKK       YOU  F UU C KK YOU FFFFF UUUUUU CCCCCC KKKKKK       YOU  F UU C KK YOU FFFFF UUUUUU CCCCCC KKKKKK       YOU  F UU C KK YOU FFFFF UUUUUU CCCCCC KKKKKK       YOU  F UU C KK YOU FFFFF UUUUUU CCCCCC KKKKKK       YOU  F UU C KK YOU FFFFF UUUUUU CCCCCC KKKKKK       YOU  F UU C KK YOU FFFFF UUUUUU CCCCCC KKKKKK       YOU  F UU C KK YOU FFFFF UUUUUU CCCCCC KKKKKK       YOU  F UU C KK YOU FFFFF UUUUUU CCCCCC KKKKKK       YOU  F UU C KK YOU FFFFF UUUUUU CCCCCC KKKKKK       YOU  F UU C KK YOU FFFFF UUUUUU CCCCCC KKKKKK       YOU  F UU C KK YOU FFFFF UUUUUU CCCCCC KKKKKK       YOU  F UU C KK YOU FFFFF UUUUUU CCCCCC KKKKKK       YOU  F UU C KK YOU FFFFF UUUUUU CCCCCC KKKKKK       YOU  F UU C KK YOU FFFFF UUUUUU CCCCCC KKKKKK       YOU  F UU C KK YOU FFFFF UUUUUU CCCCCC KKKKKK       YOU  F UU C KK YOU FFFFF UUUUUU CCCCCC KKKKKK       YOU  F UU C KK YOU FFFFF UUUUUU CCCCCC KKKKKK       YOU  F UU C KK YOU FFFFF UUUUUU CCCCCC KKKKKK       YOU  F UU C KK YOU FFFFF UUUUUU CCCCCC KKKKKK       YOU  F UU C KK YOU FFFFF UUUUUU CCCCCC KKKKKK       YOU  F UU C KK YOU FFFFF UUUUUU CCCCCC KKKKKK       YOU  F UU C KK YOU FFFFF UUUUUU CCCCCC KKKKKK       YOU  F UU C KK YOU FFFFF UUUUUU CCCCCC KKKKKK       YOU  F UU C KK YOU FFFFF UUUUUU CCCCCC KKKKKK       YOU  F UU C KK YOU FFFFF UUUUUU CCCCCC KKKKKK       YOU  F UU C KK YOU FFFFF UUUUUU CCCCCC KKKKKK       YOU  F UU C KK YOU FFFFF UUUUUU CCCCCC KKKKKK       YOU  F UU C KK YOU FFFFF UUUUUU CCCCCC KKKKKK       YOU  F UU C KK YOU FFFFF UUUUUU CCCCCC KKKKKK       YOU  F UU C KK YOU FFFFF UUUUUU CCCCCC KKKKKK       YOU  F UU C KK YOU FFFFF UUUUUU CCCCCC KKKKKK       YOU  F UU C KK YOU FFFFF UUUUUU CCCCCC KKKKKK       YOU  F UU C KK YOU FFFFF UUUUUU CCCCCC KKKKKK       YOU  F UU C KK YOU FFFFF UUUUUU CCCCCC KKKKKK       YOU  F UU C KK YOU FFFFF UUUUUU CCCCCC KKKKKK       YOU  F UU C KK YOU FFFFF UUUUUU CCCCCC KKKKKK       YOU  F UU C KK YOU FFFFF UUUUUU CCCCCC KKKKKK       YOU  F UU C KK YOU FFFFF UUUUUU CCCCCC KKKKKK       YOU  F UU C KK YOU FFFFF UUUUUU CCCCCC KKKKKK       YOU  F UU C KK YOU FFFFF UUUUUU CCCCCC KKKKKK       YOU  F UU C KK YOU FFFFF UUUUUU CCCCCC KKKKKK       YOU  F UU C KK YOU FFFFF UUUUUU CCCCCC KKKKKK       YOU  F UU C KK YOU FFFFF UUUUUU CCCCCC KKKKKK       YOU  F UU C KK YOU FFFFF UUUUUU CCCCCC KKKKKK       YOU  F UU C KK YOU FFFFF UUUUUU CCCCCC KKKKKK       YOU  F UU C KK YOU FFFFF UUUUUU CCCCCC KKKKKK       YOU  F UU C KK YOU FFFFF UUUUUU CCCCCC KKKKKK       YOU  F UU C KK YOU FFFFF UUUUUU CCCCCC KKKKKK       YOU  F UU C KK YOU FFFFF UUUUUU CCCCCC KKKKKK       YOU  F UU C KK YOU FFFFF UUUUUU CCCCCC KKKKKK       YOU  F UU C KK YOU FFFFF UUUUUU CCCCCC KKKKKK       YOU  F UU C KK YOU FFFFF UUUUUU CCCCCC KKKKKK       YOU  F UU C KK YOU FFFFF UUUUUU CCCCCC KKKKKK       YOU  F UU C KK YOU FFFFF UUUUUU CCCCCC KKKKKK       YOU  F UU C KK YOU FFFFF UUUUUU CCCCCC KKKKKK       YOU  F UU C KK YOU FFFFF UUUUUU CCCCCC KKKKKK       YOU  F UU C KK YOU FFFFF UUUUUU CCCCCC KKKKKK       YOU  F UU C KK YOU FFFFF UUUUUU CCCCCC KKKKKK       YOU  F UU C KK YOU FFFFF UUUUUU CCCCCC KKKKKK       YOU  F UU C KK YOU FFFFF UUUUUU CCCCCC KKKKKK       YOU  F UU C KK YOU FFFFF UUUUUU CCCCCC KKKKKK       YOU  F UU C KK YOU FFFFF UUUUUU CCCCCC KKKKKK       YOU  F UU C KK YOU FFFFF UUUUUU CCCCCC KKKKKK       YOU  F UU C KK YOU FFFFF UUUUUU CCCCCC KKKKKK       YOU  F UU C KK YOU FFFFF UUUUUU CCCCCC KKKKKK       YOU  F UU C KK YOU FFFFF UUUUUU CCCCCC KKKKKK       YOU  F UU C KK YOU FFFFF UUUUUU CCCCCC KKKKKK       YOU  F UU C KK YOU FFFFF UUUUUU CCCCCC KKKKKK       YOU  F UU C KK YOU FFFFF UUUUUU CCCCCC KKKKKK       YOU  F UU C KK YOU FFFFF UUUUUU CCCCCC KKKKKK       YOU  F UU C KK YOU FFFFF UUUUUU CCCCCC KKKKKK       YOU  F UU C KK YOU FFFFF UUUUUU CCCCCC KKKKKK       YOU  F UU C KK YOU FFFFF UUUUUU CCCCCC KKKKKK       YOU  F UU C KK YOU FFFFF UUUUUU CCCCCC KKKKKK       YOU  F UU C KK YOU FFFFF UUUUUU CCCCCC KKKKKK       YOU  F UU C KK YOU FFFFF U\n",
       "128782    sex fucksex fucksex fucksex fucksex fucksex fucksex fucksex fucksex fucksex fucksex fucksex fucksex fucksex fucksex fucksex fucksex fucksex fucksex fucksex fucksex fucksex fucksex fucksex fucksex fucksex fucksex fucksex fucksex fucksex fucksex fucksex fucksex fucksex fucksex fucksex fucksex fucksex fucksex fucksex fucksex fucksex fucksex fucksex fucksex fucksex fucksex fucksex fucksex fucksex fucksex fucksex fucksex fucksex fucksex fucksex fucksex fucksex fucksex fucksex fucksex fucksex fucksex fucksex fucksex fucksex fucksex fucksex fucksex fucksex fucksex fucksex fucksex fucksex fucksex fucksex fucksex fucksex fucksex fucksex fucksex fucksex fucksex fucksex fucksex fucksex fucksex fucksex fucksex fucksex fucksex fucksex fucksex fucksex fucksex fucksex fucksex fucksex fucksex fucksex fucksex fucksex fucksex fucksex fucksex fucksex fucksex fucksex fucksex fucksex fucksex fucksex fucksex fucksex fucksex fucksex fucksex fucksex fucksex fucksex fucksex fucksex fucksex fucksex fucksex fucksex fucksex fucksex fucksex fucksex fucksex fucksex fucksex fucksex fucksex fucksex fucksex fucksex fucksex fucksex fucksex fucksex fucksex fucksex fucksex fucksex fucksex fucksex fucksex fucksex fucksex fucksex fucksex fucksex fucksex fucksex fucksex fucksex fucksex fucksex fucksex fucksex fucksex fucksex fucksex fucksex fucksex fucksex fucksex fucksex fucksex fucksex fucksex fucksex fucksex fucksex fucksex fucksex fucksex fucksex fucksex fucksex fucksex fucksex fucksex fucksex fucksex fucksex fucksex fucksex fucksex fucksex fucksex fucksex fucksex fucksex fucksex fucksex fucksex fucksex fucksex fucksex fucksex fucksex fucksex fucksex fucksex fucksex fucksex fucksex fucksex fucksex fucksex fucksex fucksex fucksex fucksex fucksex fucksex fucksex fucksex fucksex fucksex fucksex fucksex fucksex fucksex fucksex fucksex fucksex fucksex fucksex fucksex fucksex fucksex fucksex fucksex fucksex fucksex fucksex fucksex fucksex fucksex fucksex fucksex fucksex fucksex fucksex fucksex fucksex fucksex fucksex fucksex fucksex fucksex fucksex fucksex fucksex fucksex fucksex fucksex fucksex fucksex fucksex fucksex fucksex fucksex fucksex fucksex fucksex fucksex fucksex fucksex fucksex fucksex fucksex fucksex fucksex fucksex fucksex fucksex fucksex fucksex fucksex fucksex fucksex fucksex fucksex fucksex fucksex fucksex fucksex fucksex fucksex fucksex fucksex fucksex fucksex fucksex fucksex fucksex fucksex fucksex fucksex fucksex fucksex fucksex fucksex fucksex fucksex fucksex fucksex fucksex fucksex fucksex fucksex fucksex fucksex fucksex fucksex fucksex fucksex fucksex fucksex fucksex fucksex fucksex fucksex fucksex fucksex fucksex fucksex fucksex fucksex fucksex fucksex fucksex fucksex fucksex fucksex fucksex fucksex fucksex fucksex fucksex fucksex fucksex fucksex fucksex fucksex fucksex fucksex fucksex fucksex fucksex fucksex fucksex fucksex fucksex fucksex fucksex fucksex fucksex fucksex fucksex fucksex fucksex fucksex fucksex fucksex fucksex fucksex fucksex fucksex fucksex fucksex fucksex fucksex fucksex fucksex fucksex fucksex fucksex fucksex fucksex fucksex fucksex fucksex fucksex fucksex fucksex fucksex fucksex fucksex fucksex fucksex fucksex fucksex fucksex fucksex fucksex fucksex fucksex fucksex fucksex fucksex fucksex fucksex fucksex fucksex fucksex fucksex fucksex fucksex fucksex fucksex fucksex fucksex fucksex fucksex fucksex fucksex fucksex fucksex fucksex fucksex fucksex fucksex fucksex fucksex fucksex fucksex fucksex fucksex fucksex fucksex fucksex fucksex fucksex fucksex fucksex fucksex fucksex fucksex fucksex fucksex fucksex fucksex fucksex fucksex fucksex fucksex fucksex fucksex fucksex fucksex fucksex fucksex fucksex fucksex fucksex fucksex fucksex fucksex fucksex fucksex fucksex fucksex fucksex fucksex fucksex fucksex fucksex fucksex fucksex fucksex fucksex fucksex fucksex fucksex fucksex fucksex fucksex fucksex fucksex fucksex fucksex fucksex fucksex fucksex fucksex fucksex fucksex fucksex fucksex fucksex fucksex fucksex fucksex fucksex fucksex fucksex fucksex fucksex fucksex fucksex fucksex fucksex fucksex fucksex fucksex fucksex fucksex fucksex fucksex fucksex fucksex fucksex fucksex fucksex fucksex fucksex fucksex fucksex fucksex fucksex fucksex fucksex fucksex fucksex fucksex fucksex fucksex fucksex fucksex fucksex fucksex fucksex fucksex fucksex fucksex fucksex fucksex fucksex fucksex fucksex fucksex fucksex fucksex fucksex fucksex fucksex fucksex fucksex fucksex fucksex fucksex fucksex fucksex fucksex fucksex fucksex fucksex fucksex fucksex fucksex fucksex fucksex fucksex fucksex fucksex fucksex fucksex fucksex fucksex fucksex fucksex fucksex fucksex fucksex fucksex fucksex fucksex fucksex fucksex fucksex fucksex fucksex fucksex fucksex fucksex fucksex fucksex fucksex fucksex fucksex fucksex fucksex fucksex fucksex fucksex fucksex fucksex fucksex fucksex fucksex fucksex fucksex fucksex fucksex fucksex fucksex fucksex fucksex fucksex fucksex fucksex fucksex fucksex fucksex fucksex fucksex fucksex fucksex fucksex fuck\n",
       "Name: comment_text, dtype: object"
      ]
     },
     "execution_count": 56,
     "metadata": {},
     "output_type": "execute_result"
    }
   ],
   "source": [
    "train_df.comment_text.head(10)"
   ]
  },
  {
   "cell_type": "code",
   "execution_count": 57,
   "metadata": {},
   "outputs": [
    {
     "data": {
      "text/html": [
       "<div>\n",
       "<style>\n",
       "    .dataframe thead tr:only-child th {\n",
       "        text-align: right;\n",
       "    }\n",
       "\n",
       "    .dataframe thead th {\n",
       "        text-align: left;\n",
       "    }\n",
       "\n",
       "    .dataframe tbody tr th {\n",
       "        vertical-align: top;\n",
       "    }\n",
       "</style>\n",
       "<table border=\"1\" class=\"dataframe\">\n",
       "  <thead>\n",
       "    <tr style=\"text-align: right;\">\n",
       "      <th></th>\n",
       "      <th>id</th>\n",
       "      <th>comment_text</th>\n",
       "      <th>toxic</th>\n",
       "      <th>severe_toxic</th>\n",
       "      <th>obscene</th>\n",
       "      <th>threat</th>\n",
       "      <th>insult</th>\n",
       "      <th>identity_hate</th>\n",
       "      <th>comment_len</th>\n",
       "      <th>num_words</th>\n",
       "      <th>unique_words</th>\n",
       "      <th>mean_word_length</th>\n",
       "      <th>sum</th>\n",
       "      <th>toxicity_label</th>\n",
       "    </tr>\n",
       "  </thead>\n",
       "  <tbody>\n",
       "    <tr>\n",
       "      <th>46583</th>\n",
       "      <td>7c7a4bf4c84fe002</td>\n",
       "      <td>hahahahahahahahahahahahahahahahahaha vandalism rules vandalism rules vandalism rules vandalism rules vandalism rules vandalism rules vandalism rules vandalism rules vandalism rules vandalism rules vandalism rules vandalism rules vandalism rules vandalism rules vandalism rules vandalism rules vandalism rules vandalism rules vandalism rules vandalism rules vandalism rules vandalism rules vandalism rules vandalism rules vandalism rules vandalism rules vandalism rules vandalism rules vandalism rules vandalism rules vandalism rules vandalism rules vandalism rules vandalism rules vandalism rules vandalism rules vandalism rules vandalism rules vandalism rules vandalism rules vandalism rules vandalism rules vandalism rules vandalism rules vandalism rules vandalism rules vandalism rules vandalism rules vandalism rules vandalism rules vandalism rules vandalism rules vandalism rules vandalism rules vandalism rules vandalism rules vandalism rules vandalism rules vandalism rules vandalism rules vandalism rules vandalism rules vandalism rules vandalism rules vandalism rules vandalism rules vandalism rules vandalism rules vandalism rules vandalism rules vandalism rules vandalism rules vandalism rules vandalism rules vandalism rules vandalism rules vandalism rules vandalism rules vandalism rules vandalism rules vandalism rules vandalism rules vandalism rules vandalism rules vandalism rules vandalism rules vandalism rules vandalism rules vandalism rules vandalism rules vandalism rules vandalism rules vandalism rules vandalism rules vandalism rules vandalism rules vandalism rules vandalism rules vandalism rules vandalism rules vandalism rules vandalism rules vandalism rules vandalism rules vandalism rules vandalism rules vandalism rules vandalism rules vandalism rules vandalism rules vandalism rules vandalism rules vandalism rules vandalism rules vandalism rules vandalism rules vandalism rules vandalism rules vandalism rules vandalism rules vandalism rules vandalism rules vandalism rules vandalism rules vandalism rules vandalism rules vandalism rules vandalism rules vandalism rules vandalism rules vandalism rules vandalism rules vandalism rules vandalism rules vandalism rules vandalism rules vandalism rules vandalism rules vandalism rules vandalism rules vandalism rules vandalism rules vandalism rules vandalism rules vandalism rules vandalism rules vandalism rules vandalism rules vandalism rules vandalism rules vandalism rules vandalism rules vandalism rules vandalism rules vandalism rules vandalism rules vandalism rules vandalism rules vandalism rules vandalism rules vandalism rules vandalism rules vandalism rules vandalism rules vandalism rules vandalism rules vandalism rules vandalism rules vandalism rules vandalism rules vandalism rules vandalism rules vandalism rules vandalism rules vandalism rules vandalism rules vandalism rules vandalism rules vandalism rules vandalism rules vandalism rules vandalism rules vandalism rules vandalism rules vandalism rules vandalism rules vandalism rules vandalism rules vandalism rules vandalism rules vandalism rules vandalism rules vandalism rules vandalism rules vandalism rules vandalism rules vandalism rules vandalism rules vandalism rules vandalism rules vandalism rules vandalism rules vandalism rules vandalism rules vandalism rules vandalism rules vandalism rules vandalism rules vandalism rules vandalism rules vandalism rules vandalism rules vandalism rules vandalism rules vandalism rules vandalism rules vandalism rules vandalism rules vandalism rules vandalism rules vandalism rules vandalism rules vandalism rules vandalism rules vandalism rules vandalism rules vandalism rules vandalism rules vandalism rules vandalism rules vandalism rules vandalism rules vandalism rules vandalism rules vandalism rules vandalism rules vandalism rules vandalism rules vandalism rules vandalism rules vandalism rules vandalism rules vandalism rules vandalism rules vandalism rules vandalism rules vandalism rules vandalism rules vandalism rules vandalism rules vandalism rules vandalism rules vandalism rules vandalism rules vandalism rules vandalism rules vandalism rules vandalism rules vandalism rules vandalism rules vandalism rules vandalism rules vandalism rules vandalism rules vandalism rules vandalism rules vandalism rules vandalism rules vandalism rules vandalism rules vandalism rules vandalism rules vandalism rules vandalism rules vandalism rules vandalism rules vandalism rules vandalism rules vandalism rules vandalism rules vandalism rules vandalism rules vandalism rules vandalism rules vandalism rules vandalism rules vandalism rules vandalism rules vandalism rules vandalism rules vandalism rules vandalism rules vandalism rules vandalism rules vandalism rules vandalism rules vandalism rules vandalism rules vandalism rules vandalism rules vandalism rules vandalism rules vandalism rules vandalism rules vandalism rules vandalism rules vandalism rules vandalism rules vandalism rules vandalism rules van</td>\n",
       "      <td>1</td>\n",
       "      <td>0</td>\n",
       "      <td>0</td>\n",
       "      <td>0</td>\n",
       "      <td>0</td>\n",
       "      <td>0</td>\n",
       "      <td>5000</td>\n",
       "      <td>622</td>\n",
       "      <td>4</td>\n",
       "      <td>8.038585</td>\n",
       "      <td>1</td>\n",
       "      <td>True</td>\n",
       "    </tr>\n",
       "    <tr>\n",
       "      <th>47715</th>\n",
       "      <td>7f79fd5eacbe804c</td>\n",
       "      <td>Block Block Block Block Block Block Block Block Block Block Block Block Block Block Block Block Block Block Block Block Block Block Block Block Block Block Block Block Block Block Block Block Block Block Block Block Block Block Block Block Block Block Block Block Block Block Block Block Block Block Block Block Block Block Block Block Block Block Block Block Block Block Block Block Block Block Block Block Block Block Block Block Block Block Block Block Block Block Block Block Block Block Block Block Block Block Block Block Block Block Block Block Block Block Block Block Block Block Block Block Block Block Block Block Block Block Block Block Block Block Block Block Block Block Block Block Block Block Block Block Block Block Block Block Block Block Block Block Block Block Block Block Block Block Block Block Block Block Block Block Block Block Block Block Block Block Block Block Block Block Block Block Block Block Block Block Block Block Block Block Block Block Block Block Block Block Block Block Block Block Block Block Block Block Block Block Block Block Block Block Block Block Block Block Block Block Block Block Block Block Block Block Block Block Block Block Block Block Block Block Block Block Block Block Block Block Block Block Block Block Block Block Block Block Block Block Block Block Block Block Block Block Block Block Block Block Block Block Block Block Block Block Block Block Block Block Block Block Block Block Block Block Block Block Block Block Block Block Block Block Block Block Block Block Block Block Block Block Block Block Block Block Block Block Block Block Block Block Block Block Block Block Block Block Block Block Block Block Block Block Block Block Block Block Block Block Block Block Block Block Block Block Block Block Block Block Block Block Block Block Block Block Block Block Block Block Block Block Block Block Block Block Block Block Block Block Block Block Block Block Block Block Block Block Block Block Block Block Block Block Block Block Block Block Block Block Block Block Block Block Block Block Block Block Block Block Block Block Block Block Block Block Block Block Block Block Block Block Block Block Block Block Block Block Block Block Block Block Block Block Block Block Block Block Block Block Block Block Block Block Block Block Block Block Block Block Block Block Block Block Block Block Block Block Block Block Block Block Block Block Block Block Block Block Block Block Block Block Block Block Block Block Block Block Block Block Block Block Block Block Block Block Block Block Block Block Block Block Block Block Block Block Block Block Block Block Block Block Block Block Block Block Block Block Block Block Block Block Block Block Block Block Block Block Block Block Block Block Block Block Block Block Block Block Block Block Block Block Block Block Block Block Block Block Block Block Block Block Block Block Block Block Block Block Block Block Block Block Block Block Block Block Block Block Block Block Block Block Block Block Block Block Block Block Block Block Block Block Block Block Block Block Block Block Block Block Block Block Block Block Block Block Block Block Block Block Block Block Block Block Block Block Block Block Block Block Block Block Block Block Block Block Block Block Block Block Block Block Block Block Block Block Block Block Block Block Block Block Block Block Block Block Block Block Block Block Block Block Block Block Block Block Block Block Block Block Block Block Block Block Block Block Block Block Block Block Block Block Block Block Block Block Block Block Block Block Block Block Block Block Block Block Block Block Block Block Block Block Block Block Block Block Block Block Block Block Block Block Block Block Block Block Block Block Block Block Block Block Block Block Block Block Block Block Block Block Block Block Block Block Block Block Block Block Block Block Block Block Block Block Block Block Block Block Block Block Block Block Block Block Block Block Block Block Block Block Block Block Block Block Block Block Block Block Block Block Block Block Block Block Block Block Block Block Block Block Block Block Block Block Block Block Block Block Block Block Block Block Block Block Block Block Block Block Block Block Block Block Block Block Block Block Block Block Block Block Block Block Block Block Block Block Block Block Block Block Block Block Block Block Block Block Block Block Block Block Block Block Block Block Block Block Block Block Block Block Block Block Block Block Block Block Block Block Block Block Block Block Block Block Block Block Block Block Block Block Block Block Block Block Block Block Block Block Block Block Block Block Block Block Block Block Block Block Block Block Block Block Block Block Block Block Block Block Block Block Block Block Block Block Block Block Block Block Block Block Block Block Block Block Block Block Block Block Block Block Block Block Block Block Block Block Block Block Block Block Block Block Block Block Block Block Block Bl</td>\n",
       "      <td>0</td>\n",
       "      <td>0</td>\n",
       "      <td>0</td>\n",
       "      <td>0</td>\n",
       "      <td>0</td>\n",
       "      <td>0</td>\n",
       "      <td>5000</td>\n",
       "      <td>834</td>\n",
       "      <td>2</td>\n",
       "      <td>5.995204</td>\n",
       "      <td>0</td>\n",
       "      <td>False</td>\n",
       "    </tr>\n",
       "    <tr>\n",
       "      <th>74753</th>\n",
       "      <td>c7f72686bf613e4e</td>\n",
       "      <td>Dont Change It     zzzzzzzzzzzzzzzzzzzzzzzzzzzzzzzzzzzzzzzzzzzzzzzzzzzzzzzzzzzzzzzzzzzzzzzzzzzzzzzzzzzzzzzzzzzzzzzzzzzzzzzzzzzzzzzzzzzzzzzzzzzzzzzzzzzzzzzzzzzzzzzzzzzzzz zzzzzzzzzzzzzzzzzzzzzzzzzzzzzzzzzzzzzzzzzzzzzzzzzzzzzzzzzzzzzzzzzzzzzzzzzzzzzzzzzzzzzzzzzzzzzzzzzzzzzzzzzzzzzzzzzzzzzzzzzzzzzzzzzzzzzzzzzzzzzzzzzzzzzz zzzzzzzzzzzzzzzzzzzzzzzzzzzzzzzzzzzzzzzzzzzzzzzzzzzzzzzzzzzzzzzzzzzzzzzzzzzzzzzzzzzzzzzzzzzzzzzzzzzzzzzzzzzzzzzzzzzzzzzzzzzzzzzzzzzzzzzzzzzzzzzzzzzzzz zzzzzzzzzzzzzzzzzzzzzzzzzzzzzzzzzzzzzzzzzzzzzzzzzzzzzzzzzzzzzzzzzzzzzzzzzzzzzzzzzzzzzzzzzzzzzzzzzzzzzzzzzzzzzzzzzzzzzzzzzzzzzzzzzzzzzzzzzzzzzzzzzzzzzz zzzzzzzzzzzzzzzzzzzzzzzzzzzzzzzzzzzzzzzzzzzzzzzzzzzzzzzzzzzzzzzzzzzzzzzzzzzzzzzzzzzzzzzzzzzzzzzzzzzzzzzzzzzzzzzzzzzzzzzzzzzzzzzzzzzzzzzzzzzzzzzzzzzzzz zzzzzzzzzzzzzzzzzzzzzzzzzzzzzzzzzzzzzzzzzzzzzzzzzzzzzzzzzzzzzzzzzzzzzzzzzzzzzzzzzzzzzzzzzzzzzzzzzzzzzzzzzzzzzzzzzzzzzzzzzzzzzzzzzzzzzzzzzzzzzzzzzzzzzz zzzzzzzzzzzzzzzzzzzzzzzzzzzzzzzzzzzzzzzzzzzzzzzzzzzzzzzzzzzzzzzzzzzzzzzzzzzzzzzzzzzzzzzzzzzzzzzzzzzzzzzzzzzzzzzzzzzzzzzzzzzzzzzzzzzzzzzzzzzzzzzzzzzzzz zzzzzzzzzzzzzzzzzzzzzzzzzzzzzzzzzzzzzzzzzzzzzzzzzzzzzzzzzzzzzzzzzzzzzzzzzzzzzzzzzzzzzzzzzzzzzzzzzzzzzzzzzzzzzzzzzzzzzzzzzzzzzzzzzzzzzzzzzzzzzzzzzzzzzz zzzzzzzzzzzzzzzzzzzzzzzzzzzzzzzzzzzzzzzzzzzzzzzzzzzzzzzzzzzzzzzzzzzzzzzzzzzzzzzzzzzzzzzzzzzzzzzzzzzzzzzzzzzzzzzzzzzzzzzzzzzzzzzzzzzzzzzzzzzzzzzzzzzzzz zzzzzzzzzzzzzzzzzzzzzzzzzzzzzzzzzzzzzzzzzzzzzzzzzzzzzzzzzzzzzzzzzzzzzzzzzzzzzzzzzzzzzzzzzzzzzzzzzzzzzzzzzzzzzzzzzzzzzzzzzzzzzzzzzzzzzzzzzzzzzzzzzzzzzz zzzzzzzzzzzzzzzzzzzzzzzzzzzzzzzzzzzzzzzzzzzzzzzzzzzzzzzzzzzzzzzzzzzzzzzzzzzzzzzzzzzzzzzzzzzzzzzzzzzzzzzzzzzzzzzzzzzzzzzzzzzzzzzzzzzzzzzzzzzzzzzzzzzzzz zzzzzzzzzzzzzzzzzzzzzzzzzzzzzzzzzzzzzzzzzzzzzzzzzzzzzzzzzzzzzzzzzzzzzzzzzzzzzzzzzzzzzzzzzzzzzzzzzzzzzzzzzzzzzzzzzzzzzzzzzzzzzzzzzzzzzzzzzzzzzzzzzzzzzz zzzzzzzzzzzzzzzzzzzzzzzzzzzzzzzzzzzzzzzzzzzzzzzzzzzzzzzzzzzzzzzzzzzzzzzzzzzzzzzzzzzzzzzzzzzzzzzzzzzzzzzzzzzzzzzzzzzzzzzzzzzzzzzzzzzzzzzzzzzzzzzzzzzzzz zzzzzzzzzzzzzzzzzzzzzzzzzzzzzzzzzzzzzzzzzzzzzzzzzzzzzzzzzzzzzzzzzzzzzzzzzzzzzzzzzzzzzzzzzzzzzzzzzzzzzzzzzzzzzzzzzzzzzzzzzzzzzzzzzzzzzzzzzzzzzzzzzzzzzz zzzzzzzzzzzzzzzzzzzzzzzzzzzzzzzzzzzzzzzzzzzzzzzzzzzzzzzzzzzzzzzzzzzzzzzzzzzzzzzzzzzzzzzzzzzzzzzzzzzzzzzzzzzzzzzzzzzzzzzzzzzzzzzzzzzzzzzzzzzzzzzzzzzzzz zzzzzzzzzzzzzzzzzzzzzzzzzzzzzzzzzzzzzzzzzzzzzzzzzzzzzzzzzzzzzzzzzzzzzzzzzzzzzzzzzzzzzzzzzzzzzzzzzzzzzzzzzzzzzzzzzzzzzzzzzzzzzzzzzzzzzzzzzzzzzzzzzzzzzz zzzzzzzzzzzzzzzzzzzzzzzzzzzzzzzzzzzzzzzzzzzzzzzzzzzzzzzzzzzzzzzzzzzzzzzzzzzzzzzzzzzzzzzzzzzzzzzzzzzzzzzzzzzzzzzzzzzzzzzzzzzzzzzzzzzzzzzzzzzzzzzzzzzzzz zzzzzzzzzzzzzzzzzzzzzzzzzzzzzzzzzzzzzzzzzzzzzzzzzzzzzzzzzzzzzzzzzzzzzzzzzzzzzzzzzzzzzzzzzzzzzzzzzzzzzzzzzzzzzzzzzzzzzzzzzzzzzzzzzzzzzzzzzzzzzzzzzzzzzz zzzzzzzzzzzzzzzzzzzzzzzzzzzzzzzzzzzzzzzzzzzzzzzzzzzzzzzzzzzzzzzzzzzzzzzzzzzzzzzzzzzzzzzzzzzzzzzzzzzzzzzzzzzzzzzzzzzzzzzzzzzzzzzzzzzzzzzzzzzzzzzzzzzzzz zzzzzzzzzzzzzzzzzzzzzzzzzzzzzzzzzzzzzzzzzzzzzzzzzzzzzzzzzzzzzzzzzzzzzzzzzzzzzzzzzzzzzzzzzzzzzzzzzzzzzzzzzzzzzzzzzzzzzzzzzzzzzzzzzzzzzzzzzzzzzzzzzzzzzz zzzzzzzzzzzzzzzzzzzzzzzzzzzzzzzzzzzzzzzzzzzzzzzzzzzzzzzzzzzzzzzzzzzzzzzzzzzzzzzzzzzzzzzzzzzzzzzzzzzzzzzzzzzzzzzzzzzzzzzzzzzzzzzzzzzzzzzzzzzzzzzzzzzzzz zzzzzzzzzzzzzzzzzzzzzzzzzzzzzzzzzzzzzzzzzzzzzzzzzzzzzzzzzzzzzzzzzzzzzzzzzzzzzzzzzzzzzzzzzzzzzzzzzzzzzzzzzzzzzzzzzzzzzzzzzzzzzzzzzzzzzzzzzzzzzzzzzzzzzz zzzzzzzzzzzzzzzzzzzzzzzzzzzzzzzzzzzzzzzzzzzzzzzzzzzzzzzzzzzzzzzzzzzzzzzzzzzzzzzzzzzzzzzzzzzzzzzzzzzzzzzzzzzzzzzzzzzzzzzzzzzzzzzzzzzzzzzzzzzzzzzzzzzzzz zzzzzzzzzzzzzzzzzzzzzzzzzzzzzzzzzzzzzzzzzzzzzzzzzzzzzzzzzzzzzzzzzzzzzzzzzzzzzzzzzzzzzzzzzzzzzzzzzzzzzzzzzzzzzzzzzzzzzzzzzzzzzzzzzzzzzzzzzzzzzzzzzzzzzz zzzzzzzzzzzzzzzzzzzzzzzzzzzzzzzzzzzzzzzzzzzzzzzzzzzzzzzzzzzzzzzzzzzzzzzzzzzzzzzzzzzzzzzzzzzzzzzzzzzzzzzzzzzzzzzzzzzzzzzzzzzzzzzzzzzzzzzzzzzzzzzzzzzzzz zzzzzzzzzzzzzzzzzzzzzzzzzzzzzzzzzzzzzzzzzzzzzzzzzzzzzzzzzzzzzzzzzzzzzzzzzzzzzzzzzzzzzzzzzzzzzzzzzzzzzzzzzzzzzzzzzzzzzzzzzzzzzzzzzzzzzzzzzzzzzzzzzzzzzz zzzzzzzzzzzzzzzzzzzzzzzzzzzzzzzzzzzzzzzzzzzzzzzzzzzzzzzzzzzzzzzzzzzzzzzzzzzzzzzzzzzzzzzzzzzzzzzzzzzzzzzzzzzzzzzzzzzzzzzzzzzzzzzzzzzzzzzzzzzzzzzzzzzzzz zzzzzzzzzzzzzzzzzzzzzzzzzzzzzzzzzzzzzzzzzzzzzzzzzzzzzzzzzzzzzzzzzzzzzzzzzzzzzzzzzzzzzzzzzzzzzzzzzzzzzzzzzzzzzzzzzzzzzzzzzzzzzzzzzzzzzzzzzzzzzzzzzzzzzz zzzzzzzzzzzzzzzzzzzzzzzzzzzzzzzzzzzzzzzzzzzzzzzzzzzzzzzzzzzzzzzzzzzzzzzzzzzzzzzzzzzzzzzzzzzzzzzzzzzzzzzzzzzzzzzzzzzzzzzzzzzzzzzzzzzzzzzzzzzzzzzzzzzzzz zzzzzzzzzzzzzzzzzzzzzzzzzzzzzzzzzzzzzzzzzzzzzzzzzzzzzzzzzzzzzzzzzzzzzzzzzzzzzzzzzzzzzzzzzzzzzzzzzzzzzzzzzzzzzzzzzzzzzzzzzzzzzzzzzzzzzzzzzzzzzzzzzzzzzz zzzzzzzzzzzzzzzzzzzzzzzzzzzzzzzzzzzzzzzzzzzzzzzzzzzzzzzzzzzzzzzzzzzzzzzzzzzzzzzzzzzzzzzzzzzzzzzzzzzzzzzzzzzzzzzzzzzzzzzzzzzzzzzzzzzzzzzzzzzzzzzzzzzzzz zzzzzzzzzzzzzzzzzzzzzzzzzzzzzzzzzzzzzzzzzzzzzzzzzzzzzzzzzzzzzzzzzzzzzzzzzzzzzzzzzzzzzzzzzzzzzzzzzzzzzzzzzzzzzzzzzzzzzzzzzzzzzzzzzzzzzzzzzzzzzzzzzzzzzz zzzzzzzzzzzzzzzzzzzzzzzzzzzzzzzzzzzzzzzzzzzzzzzzzzzzzzzzzzzzzzzzzzzzzzzzzzzzzzzzzzzzzzzzzzzzzzzzzzzzzzzzzzzzzzzzzzzzzzzzzzzzzzzzzzzzzzzzzzzzzzzzzzzzz</td>\n",
       "      <td>0</td>\n",
       "      <td>0</td>\n",
       "      <td>0</td>\n",
       "      <td>0</td>\n",
       "      <td>0</td>\n",
       "      <td>0</td>\n",
       "      <td>5000</td>\n",
       "      <td>36</td>\n",
       "      <td>5</td>\n",
       "      <td>138.888889</td>\n",
       "      <td>0</td>\n",
       "      <td>False</td>\n",
       "    </tr>\n",
       "    <tr>\n",
       "      <th>42061</th>\n",
       "      <td>70368dd072aebb42</td>\n",
       "      <td>WANKER WANKER WANKER WANKER WANKER WANKER WANKER WANKER WANKER WANKER WANKER WANKER WANKER WANKER WANKER WANKER WANKER WANKER WANKER WANKER WANKER WANKER WANKER WANKER WANKER WANKER WANKER WANKER WANKER WANKER WANKER WANKER WANKER WANKER WANKER WANKER WANKER WANKER WANKER WANKER WANKER WANKER WANKER WANKER WANKER WANKER WANKER WANKER WANKER WANKER WANKER WANKER WANKER WANKER WANKER WANKER WANKER WANKER WANKER WANKER WANKER WANKER WANKER WANKER WANKER WANKER WANKER WANKER WANKER WANKER WANKER WANKER WANKER WANKER WANKER WANKER WANKER WANKER WANKER WANKER WANKER WANKER WANKER WANKER WANKER WANKER WANKER WANKER WANKER WANKER WANKER WANKER WANKER WANKER WANKER WANKER WANKER WANKER WANKER WANKER WANKER WANKER WANKER WANKER WANKER WANKER WANKER WANKER WANKER WANKER WANKER WANKER WANKER WANKER WANKER WANKER WANKER WANKER WANKER WANKER WANKER WANKER WANKER WANKER WANKER WANKER WANKER WANKER WANKER WANKER WANKER WANKER WANKER WANKER WANKER WANKER WANKER WANKER WANKER WANKER WANKER WANKER WANKER WANKER WANKER WANKER WANKER WANKER WANKER WANKER WANKER WANKER WANKER WANKER WANKER WANKER WANKER WANKER WANKER WANKER WANKER WANKER WANKER WANKER WANKER WANKER WANKER WANKER WANKER WANKER WANKER WANKER WANKER WANKER WANKER WANKER WANKER WANKER WANKER WANKER WANKER WANKER WANKER WANKER WANKER WANKER WANKER WANKER WANKER WANKER WANKER WANKER WANKER WANKER WANKER WANKER WANKER WANKER WANKER WANKER WANKER WANKER WANKER WANKER WANKER WANKER WANKER WANKER WANKER WANKER WANKER WANKER WANKER WANKER WANKER WANKER WANKER WANKER WANKER WANKER WANKER WANKER WANKER WANKER WANKER WANKER WANKER WANKER WANKER WANKER WANKER WANKER WANKER WANKER WANKER WANKER WANKER WANKER WANKER WANKER WANKER WANKER WANKER WANKER WANKER WANKER WANKER WANKER WANKER WANKER WANKER WANKER WANKER WANKER WANKER WANKER WANKER WANKER WANKER WANKER WANKER WANKER WANKER WANKER WANKER WANKER WANKER WANKER WANKER WANKER WANKER WANKER WANKER WANKER WANKER WANKER WANKER WANKER WANKER WANKER WANKER WANKER WANKER WANKER WANKER WANKER WANKER WANKER WANKER WANKER WANKER WANKER WANKER WANKER WANKER WANKER WANKER WANKER WANKER WANKER WANKER WANKER WANKER WANKER WANKER WANKER WANKER WANKER WANKER WANKER WANKER WANKER WANKER WANKER WANKER WANKER WANKER WANKER WANKER WANKER WANKER WANKER WANKER WANKER WANKER WANKER WANKER WANKER WANKER WANKER WANKER WANKER WANKER WANKER WANKER WANKER WANKER WANKER WANKER WANKER WANKER WANKER WANKER WANKER WANKER WANKER WANKER WANKER WANKER WANKER WANKER WANKER WANKER WANKER WANKER WANKER WANKER WANKER WANKER WANKER WANKER WANKER WANKER WANKER WANKER WANKER WANKER WANKER WANKER WANKER WANKER WANKER WANKER WANKER WANKER WANKER WANKER WANKER WANKER WANKER WANKER WANKER WANKER WANKER WANKER WANKER WANKER WANKER WANKER WANKER WANKER WANKER WANKER WANKER WANKER WANKER WANKER WANKER WANKER WANKER WANKER WANKER WANKER WANKER WANKER WANKER WANKER WANKER WANKER WANKER WANKER WANKER WANKER WANKER WANKER WANKER WANKER WANKER WANKER WANKER WANKER WANKER WANKER WANKER WANKER WANKER WANKER WANKER WANKER WANKER WANKER WANKER WANKER WANKER WANKER WANKER WANKER WANKER WANKER WANKER WANKER WANKER WANKER WANKER WANKER WANKER WANKER WANKER WANKER WANKER WANKER WANKER WANKER WANKER WANKER WANKER WANKER WANKER WANKER WANKER WANKER WANKER WANKER WANKER WANKER WANKER WANKER WANKER WANKER WANKER WANKER WANKER WANKER WANKER WANKER WANKER WANKER WANKER WANKER WANKER WANKER WANKER WANKER WANKER WANKER WANKER WANKER WANKER WANKER WANKER WANKER WANKER WANKER WANKER WANKER WANKER WANKER WANKER WANKER WANKER WANKER WANKER WANKER WANKER WANKER WANKER WANKER WANKER WANKER WANKER WANKER WANKER WANKER WANKER WANKER WANKER WANKER WANKER WANKER WANKER WANKER WANKER WANKER WANKER WANKER WANKER WANKER WANKER WANKER WANKER WANKER WANKER WANKER WANKER WANKER WANKER WANKER WANKER WANKER WANKER WANKER WANKER WANKER WANKER WANKER WANKER WANKER WANKER WANKER WANKER WANKER WANKER WANKER WANKER WANKER WANKER WANKER WANKER WANKER WANKER WANKER WANKER WANKER WANKER WANKER WANKER WANKER WANKER WANKER WANKER WANKER WANKER WANKER WANKER WANKER WANKER WANKER WANKER WANKER WANKER WANKER WANKER WANKER WANKER WANKER WANKER WANKER WANKER WANKER WANKER WANKER WANKER WANKER WANKER WANKER WANKER WANKER WANKER WANKER WANKER WANKER WANKER WANKER WANKER WANKER WANKER WANKER WANKER WANKER WANKER WANKER WANKER WANKER WANKER WANKER WANKER WANKER WANKER WANKER WANKER WANKER WANKER WANKER WANKER WANKER WANKER WANKER WANKER WANKER WANKER WANKER WANKER WANKER WANKER WANKER WANKER WANKER WANKER WANKER WANKER WANKER WANKER WANKER WANKER WANKER WANKER WANKER WANKER WANKER WANKER WANKER WANKER WANKER WANKER WANKER WANKER WANKER WANKER WANKER WANKER WANKER WANKER WANKER WANKER WANKER WANKER WANKER WANKER WANKER WANKER WANKER WANKER WANKER WANKER WANKER WANKER WANKER WANKER WANKER WANKER WANKER WANKER WANKER WANKER WANKER WANKER WANKER WANKER WANKER WANKER WANKER WANKER WANKER WANKER WANKER WANKER WANKER WANKER WANKER WANKER WANKER WANKER WANKER WANKER WANKER WANKER WANKER WANKER WANKER WANKER WANKER WANKER WANKER WANKER WA</td>\n",
       "      <td>1</td>\n",
       "      <td>0</td>\n",
       "      <td>0</td>\n",
       "      <td>0</td>\n",
       "      <td>0</td>\n",
       "      <td>0</td>\n",
       "      <td>5000</td>\n",
       "      <td>715</td>\n",
       "      <td>2</td>\n",
       "      <td>6.993007</td>\n",
       "      <td>1</td>\n",
       "      <td>True</td>\n",
       "    </tr>\n",
       "    <tr>\n",
       "      <th>72192</th>\n",
       "      <td>c14532e93d456260</td>\n",
       "      <td>China smells like fart  China smells like fart China smells like fart China smells like fart China smells like fart China smells like fart China smells like fart China smells like fart China smells like fart China smells like fart China smells like fart China smells like fart China smells like fart China smells like fart China smells like fart China smells like fart China smells like fart China smells like fart China smells like fart China smells like fart China smells like fart China smells like fart China smells like fart China smells like fart China smells like fart China smells like fart China smells like fart China smells like fart China smells like fart China smells like fart China smells like fart China smells like fart China smells like fart China smells like fart China smells like fart China smells like fart China smells like fart China smells like fart China smells like fart China smells like fart China smells like fart China smells like fart China smells like fart China smells like fart China smells like fart China smells like fart China smells like fart China smells like fart China smells like fart China smells like fart China smells like fart China smells like fart China smells like fart China smells like fart China smells like fart China smells like fart China smells like fart China smells like fart China smells like fart China smells like fart China smells like fart China smells like fart China smells like fart China smells like fart China smells like fart China smells like fart China smells like fart China smells like fart China smells like fart China smells like fart China smells like fart China smells like fart China smells like fart China smells like fart China smells like fart China smells like fart China smells like fart China smells like fart China smells like fart China smells like fart China smells like fart China smells like fart China smells like fart China smells like fart China smells like fart China smells like fart China smells like fart China smells like fart China smells like fart China smells like fart China smells like fart China smells like fart China smells like fart China smells like fart China smells like fart China smells like fart China smells like fart China smells like fart China smells like fart China smells like fart China smells like fart China smells like fart China smells like fart China smells like fart China smells like fart China smells like fart China smells like fart China smells like fart China smells like fart China smells like fart China smells like fart China smells like fart China smells like fart China smells like fart China smells like fart China smells like fart China smells like fart China smells like fart China smells like fart China smells like fart China smells like fart China smells like fart China smells like fart China smells like fart China smells like fart China smells like fart China smells like fart China smells like fart China smells like fart China smells like fart China smells like fart China smells like fart China smells like fart China smells like fart China smells like fart China smells like fart China smells like fart China smells like fart China smells like fart China smells like fart China smells like fart China smells like fart China smells like fart China smells like fart China smells like fart China smells like fart China smells like fart China smells like fart China smells like fart China smells like fart China smells like fart China smells like fart China smells like fart China smells like fart China smells like fart China smells like fart China smells like fart China smells like fart China smells like fart China smells like fart China smells like fart China smells like fart China smells like fart China smells like fart China smells like fart China smells like fart China smells like fart China smells like fart China smells like fart China smells like fart China smells like fart China smells like fart China smells like fart China smells like fart China smells like fart China smells like fart China smells like fart China smells like fart China smells like fart China smells like fart China smells like fart China smells like fart China smells like fart China smells like fart China smells like fart China smells like fart China smells like fart China smells like fart China smells like fart China smells like fart China smells like fart China smells like fart China smells like fart China smells like fart China smells like fart China smells like fart China smells like fart China smells like fart China smells like fart China smells like fart China smells like fart China smells like fart China smells like fart China smells like fart China smells like fart China smells like fart China smells like fart China smells like fart China smells like fart China smells like fart China smells like fart China smells like fart China smells like fart China smells like fart China smells like fart China smells like fart China smells like fart China sm</td>\n",
       "      <td>1</td>\n",
       "      <td>0</td>\n",
       "      <td>0</td>\n",
       "      <td>0</td>\n",
       "      <td>0</td>\n",
       "      <td>0</td>\n",
       "      <td>5000</td>\n",
       "      <td>870</td>\n",
       "      <td>5</td>\n",
       "      <td>5.747126</td>\n",
       "      <td>1</td>\n",
       "      <td>True</td>\n",
       "    </tr>\n",
       "    <tr>\n",
       "      <th>75165</th>\n",
       "      <td>c91d629c6599bb23</td>\n",
       "      <td>IN THE NAME OF YTMND IN THE NAME OF YTMND IN THE NAME OF YTMND IN THE NAME OF YTMND IN THE NAME OF YTMND IN THE NAME OF YTMND IN THE NAME OF YTMND IN THE NAME OF YTMND IN THE NAME OF YTMND IN THE NAME OF YTMND IN THE NAME OF YTMND IN THE NAME OF YTMND IN THE NAME OF YTMND IN THE NAME OF YTMND IN THE NAME OF YTMND IN THE NAME OF YTMND IN THE NAME OF YTMND IN THE NAME OF YTMND IN THE NAME OF YTMND IN THE NAME OF YTMND IN THE NAME OF YTMND IN THE NAME OF YTMND IN THE NAME OF YTMND IN THE NAME OF YTMND IN THE NAME OF YTMND IN THE NAME OF YTMND IN THE NAME OF YTMND IN THE NAME OF YTMND IN THE NAME OF YTMND IN THE NAME OF YTMND IN THE NAME OF YTMND IN THE NAME OF YTMND IN THE NAME OF YTMND IN THE NAME OF YTMND IN THE NAME OF YTMND IN THE NAME OF YTMND IN THE NAME OF YTMND IN THE NAME OF YTMND IN THE NAME OF YTMND IN THE NAME OF YTMND IN THE NAME OF YTMND IN THE NAME OF YTMND IN THE NAME OF YTMND IN THE NAME OF YTMND IN THE NAME OF YTMND IN THE NAME OF YTMND IN THE NAME OF YTMND IN THE NAME OF YTMND IN THE NAME OF YTMND IN THE NAME OF YTMND IN THE NAME OF YTMND IN THE NAME OF YTMND IN THE NAME OF YTMND IN THE NAME OF YTMND IN THE NAME OF YTMND IN THE NAME OF YTMND IN THE NAME OF YTMND IN THE NAME OF YTMND IN THE NAME OF YTMND IN THE NAME OF YTMND IN THE NAME OF YTMND IN THE NAME OF YTMND IN THE NAME OF YTMND IN THE NAME OF YTMND IN THE NAME OF YTMND IN THE NAME OF YTMND IN THE NAME OF YTMND IN THE NAME OF YTMND IN THE NAME OF YTMND IN THE NAME OF YTMND IN THE NAME OF YTMND IN THE NAME OF YTMND IN THE NAME OF YTMND IN THE NAME OF YTMND IN THE NAME OF YTMND IN THE NAME OF YTMND IN THE NAME OF YTMND IN THE NAME OF YTMND IN THE NAME OF YTMND IN THE NAME OF YTMND IN THE NAME OF YTMND IN THE NAME OF YTMND IN THE NAME OF YTMND IN THE NAME OF YTMND IN THE NAME OF YTMND IN THE NAME OF YTMND IN THE NAME OF YTMND IN THE NAME OF YTMND IN THE NAME OF YTMND IN THE NAME OF YTMND IN THE NAME OF YTMND IN THE NAME OF YTMND IN THE NAME OF YTMND IN THE NAME OF YTMND IN THE NAME OF YTMND IN THE NAME OF YTMND IN THE NAME OF YTMND IN THE NAME OF YTMND IN THE NAME OF YTMND IN THE NAME OF YTMND IN THE NAME OF YTMND IN THE NAME OF YTMND IN THE NAME OF YTMND IN THE NAME OF YTMND IN THE NAME OF YTMND IN THE NAME OF YTMND IN THE NAME OF YTMND IN THE NAME OF YTMND IN THE NAME OF YTMND IN THE NAME OF YTMND IN THE NAME OF YTMND IN THE NAME OF YTMND IN THE NAME OF YTMND IN THE NAME OF YTMND IN THE NAME OF YTMND IN THE NAME OF YTMND IN THE NAME OF YTMND IN THE NAME OF YTMND IN THE NAME OF YTMND IN THE NAME OF YTMND IN THE NAME OF YTMND IN THE NAME OF YTMND IN THE NAME OF YTMND IN THE NAME OF YTMND IN THE NAME OF YTMND IN THE NAME OF YTMND IN THE NAME OF YTMND IN THE NAME OF YTMND IN THE NAME OF YTMND IN THE NAME OF YTMND IN THE NAME OF YTMND IN THE NAME OF YTMND IN THE NAME OF YTMND IN THE NAME OF YTMND IN THE NAME OF YTMND IN THE NAME OF YTMND IN THE NAME OF YTMND IN THE NAME OF YTMND IN THE NAME OF YTMND IN THE NAME OF YTMND IN THE NAME OF YTMND IN THE NAME OF YTMND IN THE NAME OF YTMND IN THE NAME OF YTMND IN THE NAME OF YTMND IN THE NAME OF YTMND IN THE NAME OF YTMND IN THE NAME OF YTMND IN THE NAME OF YTMND IN THE NAME OF YTMND IN THE NAME OF YTMND IN THE NAME OF YTMND IN THE NAME OF YTMND IN THE NAME OF YTMND IN THE NAME OF YTMND IN THE NAME OF YTMND IN THE NAME OF YTMND IN THE NAME OF YTMND IN THE NAME OF YTMND IN THE NAME OF YTMND IN THE NAME OF YTMND IN THE NAME OF YTMND IN THE NAME OF YTMND IN THE NAME OF YTMND IN THE NAME OF YTMND IN THE NAME OF YTMND IN THE NAME OF YTMND IN THE NAME OF YTMND IN THE NAME OF YTMND IN THE NAME OF YTMND IN THE NAME OF YTMND IN THE NAME OF YTMND IN THE NAME OF YTMND IN THE NAME OF YTMND IN THE NAME OF YTMND IN THE NAME OF YTMND IN THE NAME OF YTMND IN THE NAME OF YTMND IN THE NAME OF YTMND IN THE NAME OF YTMND IN THE NAME OF YTMND IN THE NAME OF YTMND IN THE NAME OF YTMND IN THE NAME OF YTMND IN THE NAME OF YTMND IN THE NAME OF YTMND IN THE NAME OF YTMND IN THE NAME OF YTMND IN THE NAME OF YTMND IN THE NAME OF YTMND IN THE NAME OF YTMND IN THE NAME OF YTMND IN THE NAME OF YTMND IN THE NAME OF YTMND IN THE NAME OF YTMND IN THE NAME OF YTMND IN THE NAME OF YTMND IN THE NAME OF YTMND IN THE NAME OF YTMND IN THE NAME OF YTMND IN THE NAME OF YTMND IN THE NAME OF YTMND IN THE NAME OF YTMND IN THE NAME OF YTMND IN THE NAME OF YTMND IN THE NAME OF YTMND IN THE NAME OF YTMND IN THE NAME OF YTMND IN THE NAME OF YTMND IN THE NAME OF YTMND IN THE NAME OF YTMND IN THE NAME OF YTMND IN THE NAME OF YTMND IN THE NAME OF YTMND IN THE NAME OF YTMND IN THE NAME OF YTMND IN THE NAME OF YTMND IN THE NAME OF YTMND IN THE NAME OF YTMND IN THE NAME OF YTMND IN THE NAME OF YTMND IN THE NAME OF YTMND IN THE NAME OF YTMND IN THE NAME OF YTMND IN THE NAME OF YTMND IN THE NAME OF YTMND IN THE NAME OF YTMND IN THE NAME OF YTMND IN THE NAME OF YTMND IN THE NAME OF YTMND IN THE NAME OF YTMND IN THE NAME OF YTMND IN THE NAME OF YTMND IN THE NAME OF YTMND IN THE NAME OF YTMND IN THE NAME OF YTMND IN THE NAME OF YTMND IN THE NAME OF YTMND IN</td>\n",
       "      <td>0</td>\n",
       "      <td>0</td>\n",
       "      <td>0</td>\n",
       "      <td>0</td>\n",
       "      <td>0</td>\n",
       "      <td>0</td>\n",
       "      <td>5000</td>\n",
       "      <td>1191</td>\n",
       "      <td>5</td>\n",
       "      <td>4.198153</td>\n",
       "      <td>0</td>\n",
       "      <td>False</td>\n",
       "    </tr>\n",
       "    <tr>\n",
       "      <th>56834</th>\n",
       "      <td>97e695cfd71944ed</td>\n",
       "      <td>i CAN STILL POST WITH THIS COMPUTER   I SAID BLOCK ME  COME THE FUCK DOWN HERE AND ARREST ME   SAN DIEGO CALIFORNIA  CHULA VISTA  FUCKING GET YOUR INFORMATION RIGHT FAGGOT SHITHEAD  i CAN STILL POST WITH THIS COMPUTER   I SAID BLOCK ME  COME THE FUCK DOWN HERE AND ARREST ME   SAN DIEGO CALIFORNIA  CHULA VISTA  FUCKING GET YOUR INFORMATION RIGHT FAGGOT SHITHEAD  i CAN STILL POST WITH THIS COMPUTER   I SAID BLOCK ME  COME THE FUCK DOWN HERE AND ARREST ME   SAN DIEGO CALIFORNIA  CHULA VISTA  FUCKING GET YOUR INFORMATION RIGHT FAGGOT SHITHEAD  i CAN STILL POST WITH THIS COMPUTER   I SAID BLOCK ME  COME THE FUCK DOWN HERE AND ARREST ME   SAN DIEGO CALIFORNIA  CHULA VISTA  FUCKING GET YOUR INFORMATION RIGHT FAGGOT SHITHEAD  i CAN STILL POST WITH THIS COMPUTER   I SAID BLOCK ME  COME THE FUCK DOWN HERE AND ARREST ME   SAN DIEGO CALIFORNIA  CHULA VISTA  FUCKING GET YOUR INFORMATION RIGHT FAGGOT SHITHEAD  i CAN STILL POST WITH THIS COMPUTER   I SAID BLOCK ME  COME THE FUCK DOWN HERE AND ARREST ME   SAN DIEGO CALIFORNIA  CHULA VISTA  FUCKING GET YOUR INFORMATION RIGHT FAGGOT SHITHEAD  i CAN STILL POST WITH THIS COMPUTER   I SAID BLOCK ME  COME THE FUCK DOWN HERE AND ARREST ME   SAN DIEGO CALIFORNIA  CHULA VISTA  FUCKING GET YOUR INFORMATION RIGHT FAGGOT SHITHEAD  i CAN STILL POST WITH THIS COMPUTER   I SAID BLOCK ME  COME THE FUCK DOWN HERE AND ARREST ME   SAN DIEGO CALIFORNIA  CHULA VISTA  FUCKING GET YOUR INFORMATION RIGHT FAGGOT SHITHEAD  i CAN STILL POST WITH THIS COMPUTER   I SAID BLOCK ME  COME THE FUCK DOWN HERE AND ARREST ME   SAN DIEGO CALIFORNIA  CHULA VISTA  FUCKING GET YOUR INFORMATION RIGHT FAGGOT SHITHEAD  i CAN STILL POST WITH THIS COMPUTER   I SAID BLOCK ME  COME THE FUCK DOWN HERE AND ARREST ME   SAN DIEGO CALIFORNIA  CHULA VISTA  FUCKING GET YOUR INFORMATION RIGHT FAGGOT SHITHEAD  i CAN STILL POST WITH THIS COMPUTER   I SAID BLOCK ME  COME THE FUCK DOWN HERE AND ARREST ME   SAN DIEGO CALIFORNIA  CHULA VISTA  FUCKING GET YOUR INFORMATION RIGHT FAGGOT SHITHEAD  i CAN STILL POST WITH THIS COMPUTER   I SAID BLOCK ME  COME THE FUCK DOWN HERE AND ARREST ME   SAN DIEGO CALIFORNIA  CHULA VISTA  FUCKING GET YOUR INFORMATION RIGHT FAGGOT SHITHEAD  i CAN STILL POST WITH THIS COMPUTER   I SAID BLOCK ME  COME THE FUCK DOWN HERE AND ARREST ME   SAN DIEGO CALIFORNIA  CHULA VISTA  FUCKING GET YOUR INFORMATION RIGHT FAGGOT SHITHEAD  i CAN STILL POST WITH THIS COMPUTER   I SAID BLOCK ME  COME THE FUCK DOWN HERE AND ARREST ME   SAN DIEGO CALIFORNIA  CHULA VISTA  FUCKING GET YOUR INFORMATION RIGHT FAGGOT SHITHEAD  i CAN STILL POST WITH THIS COMPUTER   I SAID BLOCK ME  COME THE FUCK DOWN HERE AND ARREST ME   SAN DIEGO CALIFORNIA  CHULA VISTA  FUCKING GET YOUR INFORMATION RIGHT FAGGOT SHITHEAD  i CAN STILL POST WITH THIS COMPUTER   I SAID BLOCK ME  COME THE FUCK DOWN HERE AND ARREST ME   SAN DIEGO CALIFORNIA  CHULA VISTA  FUCKING GET YOUR INFORMATION RIGHT FAGGOT SHITHEAD  i CAN STILL POST WITH THIS COMPUTER   I SAID BLOCK ME  COME THE FUCK DOWN HERE AND ARREST ME   SAN DIEGO CALIFORNIA  CHULA VISTA  FUCKING GET YOUR INFORMATION RIGHT FAGGOT SHITHEAD  i CAN STILL POST WITH THIS COMPUTER   I SAID BLOCK ME  COME THE FUCK DOWN HERE AND ARREST ME   SAN DIEGO CALIFORNIA  CHULA VISTA  FUCKING GET YOUR INFORMATION RIGHT FAGGOT SHITHEAD  i CAN STILL POST WITH THIS COMPUTER   I SAID BLOCK ME  COME THE FUCK DOWN HERE AND ARREST ME   SAN DIEGO CALIFORNIA  CHULA VISTA  FUCKING GET YOUR INFORMATION RIGHT FAGGOT SHITHEAD  i CAN STILL POST WITH THIS COMPUTER   I SAID BLOCK ME  COME THE FUCK DOWN HERE AND ARREST ME   SAN DIEGO CALIFORNIA  CHULA VISTA  FUCKING GET YOUR INFORMATION RIGHT FAGGOT SHITHEAD  i CAN STILL POST WITH THIS COMPUTER   I SAID BLOCK ME  COME THE FUCK DOWN HERE AND ARREST ME   SAN DIEGO CALIFORNIA  CHULA VISTA  FUCKING GET YOUR INFORMATION RIGHT FAGGOT SHITHEAD  i CAN STILL POST WITH THIS COMPUTER   I SAID BLOCK ME  COME THE FUCK DOWN HERE AND ARREST ME   SAN DIEGO CALIFORNIA  CHULA VISTA  FUCKING GET YOUR INFORMATION RIGHT FAGGOT SHITHEAD  i CAN STILL POST WITH THIS COMPUTER   I SAID BLOCK ME  COME THE FUCK DOWN HERE AND ARREST ME   SAN DIEGO CALIFORNIA  CHULA VISTA  FUCKING GET YOUR INFORMATION RIGHT FAGGOT SHITHEAD  i CAN STILL POST WITH THIS COMPUTER   I SAID BLOCK ME  COME THE FUCK DOWN HERE AND ARREST ME   SAN DIEGO CALIFORNIA  CHULA VISTA  FUCKING GET YOUR INFORMATION RIGHT FAGGOT SHITHEAD  i CAN STILL POST WITH THIS COMPUTER   I SAID BLOCK ME  COME THE FUCK DOWN HERE AND ARREST ME   SAN DIEGO CALIFORNIA  CHULA VISTA  FUCKING GET YOUR INFORMATION RIGHT FAGGOT SHITHEAD  i CAN STILL POST WITH THIS COMPUTER   I SAID BLOCK ME  COME THE FUCK DOWN HERE AND ARREST ME   SAN DIEGO CALIFORNIA  CHULA VISTA  FUCKING GET YOUR INFORMATION RIGHT FAGGOT SHITHEAD  i CAN STILL POST WITH THIS COMPUTER   I SAID BLOCK ME  COME THE FUCK DOWN HERE AND ARREST ME   SAN DIEGO CALIFORNIA  CHULA VISTA  FUCKING GET YOUR INFORMATION RIGHT FAGGOT SHITHEAD  i CAN STILL POST WITH THIS COMPUTER   I SAID BLOCK ME  COME THE FUCK DOWN HERE AND ARR</td>\n",
       "      <td>1</td>\n",
       "      <td>1</td>\n",
       "      <td>1</td>\n",
       "      <td>0</td>\n",
       "      <td>1</td>\n",
       "      <td>0</td>\n",
       "      <td>5000</td>\n",
       "      <td>855</td>\n",
       "      <td>30</td>\n",
       "      <td>5.847953</td>\n",
       "      <td>4</td>\n",
       "      <td>True</td>\n",
       "    </tr>\n",
       "    <tr>\n",
       "      <th>46197</th>\n",
       "      <td>7b6b88051eb69303</td>\n",
       "      <td>heil hitler  heil hitler  heil hitler  heil hitler  heil hitler  heil hitler  heil hitler  heil hitler  heil hitler  heil hitler  heil hitler  heil hitler  heil hitler  heil hitler  heil hitler  heil hitler  heil hitler  heil hitler  heil hitler  heil hitler  heil hitler  heil hitler  heil hitler  heil hitler  heil hitler  heil hitler  heil hitler  heil hitler  heil hitler  heil hitler  heil hitler  heil hitler  heil hitler  heil hitler  heil hitler  heil hitler  heil hitler  heil hitler  heil hitler  heil hitler  heil hitler  heil hitler  heil hitler  heil hitler  heil hitler  heil hitler  heil hitler  heil hitler  heil hitler  heil hitler  heil hitler  heil hitler  heil hitler  heil hitler  heil hitler  heil hitler  heil hitler  heil hitler  heil hitler  heil hitler  heil hitler  heil hitler  heil hitler  heil hitler  heil hitler  heil hitler  heil hitler  heil hitler  heil hitler  heil hitler  heil hitler  heil hitler  heil hitler  heil hitler  heil hitler  heil hitler  heil hitler  heil hitler  heil hitler  heil hitler  heil hitler  heil hitler  heil hitler  heil hitler  heil hitler  heil hitler  heil hitler  heil hitler  heil hitler  heil hitler  heil hitler  heil hitler  heil hitler  heil hitler  heil hitler  heil hitler  heil hitler  heil hitler  heil hitler  heil hitler  heil hitler  heil hitler  heil hitler  heil hitler  heil hitler  heil hitler  heil hitler  heil hitler  heil hitler  heil hitler  heil hitler  heil hitler  heil hitler  heil hitler  heil hitler  heil hitler  heil hitler  heil hitler  heil hitler  heil hitler  heil hitler  heil hitler  heil hitler  heil hitler  heil hitler  heil hitler  heil hitler  heil hitler  heil hitler  heil hitler  heil hitler  heil hitler  heil hitler  heil hitler  heil hitler  heil hitler  heil hitler  heil hitler  heil hitler  heil hitler  heil hitler  heil hitler  heil hitler  heil hitler  heil hitler  heil hitler  heil hitler  heil hitler  heil hitler  heil hitler  heil hitler  heil hitler  heil hitler  heil hitler  heil hitler  heil hitler  heil hitler  heil hitler  heil hitler  heil hitler  heil hitler  heil hitler  heil hitler  heil hitler  heil hitler  heil hitler  heil hitler  heil hitler  heil hitler  heil hitler  heil hitler  heil hitler  heil hitler  heil hitler  heil hitler  heil hitler  heil hitler  heil hitler  heil hitler  heil hitler  heil hitler  heil hitler  heil hitler  heil hitler  heil hitler  heil hitler  heil hitler  heil hitler  heil hitler  heil hitler  heil hitler  heil hitler  heil hitler  heil hitler  heil hitler  heil hitler  heil hitler  heil hitler  heil hitler  heil hitler  heil hitler  heil hitler  heil hitler  heil hitler  heil hitler  heil hitler  heil hitler  heil hitler  heil hitler  heil hitler  heil hitler  heil hitler  heil hitler  heil hitler  heil hitler  heil hitler  heil hitler  heil hitler  heil hitler  heil hitler  heil hitler  heil hitler  heil hitler  heil hitler  heil hitler  heil hitler  heil hitler  heil hitler  heil hitler  heil hitler  heil hitler  heil hitler  heil hitler  heil hitler  heil hitler  heil hitler  heil hitler  heil hitler  heil hitler  heil hitler  heil hitler  heil hitler  heil hitler  heil hitler  heil hitler  heil hitler  heil hitler  heil hitler  heil hitler  heil hitler  heil hitler  heil hitler  heil hitler  heil hitler  heil hitler  heil hitler  heil hitler  heil hitler  heil hitler  heil hitler  heil hitler  heil hitler  heil hitler  heil hitler  heil hitler  heil hitler  heil hitler  heil hitler  heil hitler  heil hitler  heil hitler  heil hitler  heil hitler  heil hitler  heil hitler  heil hitler  heil hitler  heil hitler  heil hitler  heil hitler  heil hitler  heil hitler  heil hitler  heil hitler  heil hitler  heil hitler  heil hitler  heil hitler  heil hitler  heil hitler  heil hitler  heil hitler  heil hitler  heil hitler  heil hitler  heil hitler  heil hitler  heil hitler  heil hitler  heil hitler  heil hitler  heil hitler  heil hitler  heil hitler  heil hitler  heil hitler  heil hitler  heil hitler  heil hitler  heil hitler  heil hitler  heil hitler  heil hitler  heil hitler  heil hitler  heil hitler  heil hitler  heil hitler  heil hitler  heil hitler  heil hitler  heil hitler  heil hitler  heil hitler  heil hitler  heil hitler  heil hitler  heil hitler  heil hitler  heil hitler  heil hitler  heil hitler  heil hitler  heil hitler  heil hitler  heil hitler  heil hitler  heil hitler  heil hitler  heil hitler  heil hitler  heil hitler  heil hitler  heil hitler  heil hitler  heil hitler  heil hitler  heil hitler  heil hitler  heil hitler  heil hitler  heil hitler  heil hitler  heil hitler  heil hitler  heil hitler  heil hitler  heil hitler  heil hitler  heil hitler  heil hitler  heil hitler  heil hitler  heil hitler  heil hitler  heil hitler  heil hitler  heil hitler  heil hitler  heil hitler  heil hitler  heil hitler  heil hitler  heil hitler  heil hitler  heil hitler  heil hitler  heil hitler  heil hitler  heil hitler  heil hitler  heil hitler  heil hitler  heil hitler  heil hit</td>\n",
       "      <td>1</td>\n",
       "      <td>0</td>\n",
       "      <td>0</td>\n",
       "      <td>0</td>\n",
       "      <td>0</td>\n",
       "      <td>0</td>\n",
       "      <td>5000</td>\n",
       "      <td>770</td>\n",
       "      <td>3</td>\n",
       "      <td>6.493506</td>\n",
       "      <td>1</td>\n",
       "      <td>True</td>\n",
       "    </tr>\n",
       "    <tr>\n",
       "      <th>131729</th>\n",
       "      <td>c0e076f0011acaa6</td>\n",
       "      <td>FFFFF UUUUUU CCCCCC KKKKKK       YOU  F UU C KK YOU FFFFF UUUUUU CCCCCC KKKKKK       YOU  F UU C KK YOU FFFFF UUUUUU CCCCCC KKKKKK       YOU  F UU C KK YOU FFFFF UUUUUU CCCCCC KKKKKK       YOU  F UU C KK YOU FFFFF UUUUUU CCCCCC KKKKKK       YOU  F UU C KK YOU FFFFF UUUUUU CCCCCC KKKKKK       YOU  F UU C KK YOU FFFFF UUUUUU CCCCCC KKKKKK       YOU  F UU C KK YOU FFFFF UUUUUU CCCCCC KKKKKK       YOU  F UU C KK YOU FFFFF UUUUUU CCCCCC KKKKKK       YOU  F UU C KK YOU FFFFF UUUUUU CCCCCC KKKKKK       YOU  F UU C KK YOU FFFFF UUUUUU CCCCCC KKKKKK       YOU  F UU C KK YOU FFFFF UUUUUU CCCCCC KKKKKK       YOU  F UU C KK YOU FFFFF UUUUUU CCCCCC KKKKKK       YOU  F UU C KK YOU FFFFF UUUUUU CCCCCC KKKKKK       YOU  F UU C KK YOU FFFFF UUUUUU CCCCCC KKKKKK       YOU  F UU C KK YOU FFFFF UUUUUU CCCCCC KKKKKK       YOU  F UU C KK YOU FFFFF UUUUUU CCCCCC KKKKKK       YOU  F UU C KK YOU FFFFF UUUUUU CCCCCC KKKKKK       YOU  F UU C KK YOU FFFFF UUUUUU CCCCCC KKKKKK       YOU  F UU C KK YOU FFFFF UUUUUU CCCCCC KKKKKK       YOU  F UU C KK YOU FFFFF UUUUUU CCCCCC KKKKKK       YOU  F UU C KK YOU FFFFF UUUUUU CCCCCC KKKKKK       YOU  F UU C KK YOU FFFFF UUUUUU CCCCCC KKKKKK       YOU  F UU C KK YOU FFFFF UUUUUU CCCCCC KKKKKK       YOU  F UU C KK YOU FFFFF UUUUUU CCCCCC KKKKKK       YOU  F UU C KK YOU FFFFF UUUUUU CCCCCC KKKKKK       YOU  F UU C KK YOU FFFFF UUUUUU CCCCCC KKKKKK       YOU  F UU C KK YOU FFFFF UUUUUU CCCCCC KKKKKK       YOU  F UU C KK YOU FFFFF UUUUUU CCCCCC KKKKKK       YOU  F UU C KK YOU FFFFF UUUUUU CCCCCC KKKKKK       YOU  F UU C KK YOU FFFFF UUUUUU CCCCCC KKKKKK       YOU  F UU C KK YOU FFFFF UUUUUU CCCCCC KKKKKK       YOU  F UU C KK YOU FFFFF UUUUUU CCCCCC KKKKKK       YOU  F UU C KK YOU FFFFF UUUUUU CCCCCC KKKKKK       YOU  F UU C KK YOU FFFFF UUUUUU CCCCCC KKKKKK       YOU  F UU C KK YOU FFFFF UUUUUU CCCCCC KKKKKK       YOU  F UU C KK YOU FFFFF UUUUUU CCCCCC KKKKKK       YOU  F UU C KK YOU FFFFF UUUUUU CCCCCC KKKKKK       YOU  F UU C KK YOU FFFFF UUUUUU CCCCCC KKKKKK       YOU  F UU C KK YOU FFFFF UUUUUU CCCCCC KKKKKK       YOU  F UU C KK YOU FFFFF UUUUUU CCCCCC KKKKKK       YOU  F UU C KK YOU FFFFF UUUUUU CCCCCC KKKKKK       YOU  F UU C KK YOU FFFFF UUUUUU CCCCCC KKKKKK       YOU  F UU C KK YOU FFFFF UUUUUU CCCCCC KKKKKK       YOU  F UU C KK YOU FFFFF UUUUUU CCCCCC KKKKKK       YOU  F UU C KK YOU FFFFF UUUUUU CCCCCC KKKKKK       YOU  F UU C KK YOU FFFFF UUUUUU CCCCCC KKKKKK       YOU  F UU C KK YOU FFFFF UUUUUU CCCCCC KKKKKK       YOU  F UU C KK YOU FFFFF UUUUUU CCCCCC KKKKKK       YOU  F UU C KK YOU FFFFF UUUUUU CCCCCC KKKKKK       YOU  F UU C KK YOU FFFFF UUUUUU CCCCCC KKKKKK       YOU  F UU C KK YOU FFFFF UUUUUU CCCCCC KKKKKK       YOU  F UU C KK YOU FFFFF UUUUUU CCCCCC KKKKKK       YOU  F UU C KK YOU FFFFF UUUUUU CCCCCC KKKKKK       YOU  F UU C KK YOU FFFFF UUUUUU CCCCCC KKKKKK       YOU  F UU C KK YOU FFFFF UUUUUU CCCCCC KKKKKK       YOU  F UU C KK YOU FFFFF UUUUUU CCCCCC KKKKKK       YOU  F UU C KK YOU FFFFF UUUUUU CCCCCC KKKKKK       YOU  F UU C KK YOU FFFFF UUUUUU CCCCCC KKKKKK       YOU  F UU C KK YOU FFFFF UUUUUU CCCCCC KKKKKK       YOU  F UU C KK YOU FFFFF UUUUUU CCCCCC KKKKKK       YOU  F UU C KK YOU FFFFF UUUUUU CCCCCC KKKKKK       YOU  F UU C KK YOU FFFFF UUUUUU CCCCCC KKKKKK       YOU  F UU C KK YOU FFFFF UUUUUU CCCCCC KKKKKK       YOU  F UU C KK YOU FFFFF UUUUUU CCCCCC KKKKKK       YOU  F UU C KK YOU FFFFF UUUUUU CCCCCC KKKKKK       YOU  F UU C KK YOU FFFFF UUUUUU CCCCCC KKKKKK       YOU  F UU C KK YOU FFFFF UUUUUU CCCCCC KKKKKK       YOU  F UU C KK YOU FFFFF UUUUUU CCCCCC KKKKKK       YOU  F UU C KK YOU FFFFF UUUUUU CCCCCC KKKKKK       YOU  F UU C KK YOU FFFFF UUUUUU CCCCCC KKKKKK       YOU  F UU C KK YOU FFFFF UUUUUU CCCCCC KKKKKK       YOU  F UU C KK YOU FFFFF UUUUUU CCCCCC KKKKKK       YOU  F UU C KK YOU FFFFF UUUUUU CCCCCC KKKKKK       YOU  F UU C KK YOU FFFFF UUUUUU CCCCCC KKKKKK       YOU  F UU C KK YOU FFFFF UUUUUU CCCCCC KKKKKK       YOU  F UU C KK YOU FFFFF UUUUUU CCCCCC KKKKKK       YOU  F UU C KK YOU FFFFF UUUUUU CCCCCC KKKKKK       YOU  F UU C KK YOU FFFFF UUUUUU CCCCCC KKKKKK       YOU  F UU C KK YOU FFFFF UUUUUU CCCCCC KKKKKK       YOU  F UU C KK YOU FFFFF UUUUUU CCCCCC KKKKKK       YOU  F UU C KK YOU FFFFF UUUUUU CCCCCC KKKKKK       YOU  F UU C KK YOU FFFFF UUUUUU CCCCCC KKKKKK       YOU  F UU C KK YOU FFFFF UUUUUU CCCCCC KKKKKK       YOU  F UU C KK YOU FFFFF UUUUUU CCCCCC KKKKKK       YOU  F UU C KK YOU FFFFF UUUUUU CCCCCC KKKKKK       YOU  F UU C KK YOU FFFFF UUUUUU CCCCCC KKKKKK       YOU  F UU C KK YOU FFFFF UUUUUU CCCCCC KKKKKK       YOU  F UU C KK YOU FFFFF UUUUUU CCCCCC KKKKKK       YOU  F UU C KK YOU FFFFF UUUUUU CCCCCC KKKKKK       YOU  F UU C KK YOU FFFFF UUUUUU CCCCCC KKKKKK       YOU  F UU C KK YOU FFFFF UUUUUU CCCCCC KKKKKK       YOU  F UU C KK YOU FFFFF UUUUUU CCCCCC KKKKKK       YOU  F UU C KK YOU FFFFF UUUUUU CCCCCC KKKKKK       YOU  F UU C KK YOU FFFFF UUUUUU CCCCCC KKKKKK       YOU  F UU C KK YOU FFFFF UUUUUU CCCCCC KKKKKK       YOU  F UU C KK YOU FFFFF U</td>\n",
       "      <td>1</td>\n",
       "      <td>1</td>\n",
       "      <td>1</td>\n",
       "      <td>0</td>\n",
       "      <td>1</td>\n",
       "      <td>0</td>\n",
       "      <td>5000</td>\n",
       "      <td>962</td>\n",
       "      <td>10</td>\n",
       "      <td>5.197505</td>\n",
       "      <td>4</td>\n",
       "      <td>True</td>\n",
       "    </tr>\n",
       "    <tr>\n",
       "      <th>128782</th>\n",
       "      <td>b0b8f1eaa83616fe</td>\n",
       "      <td>sex fucksex fucksex fucksex fucksex fucksex fucksex fucksex fucksex fucksex fucksex fucksex fucksex fucksex fucksex fucksex fucksex fucksex fucksex fucksex fucksex fucksex fucksex fucksex fucksex fucksex fucksex fucksex fucksex fucksex fucksex fucksex fucksex fucksex fucksex fucksex fucksex fucksex fucksex fucksex fucksex fucksex fucksex fucksex fucksex fucksex fucksex fucksex fucksex fucksex fucksex fucksex fucksex fucksex fucksex fucksex fucksex fucksex fucksex fucksex fucksex fucksex fucksex fucksex fucksex fucksex fucksex fucksex fucksex fucksex fucksex fucksex fucksex fucksex fucksex fucksex fucksex fucksex fucksex fucksex fucksex fucksex fucksex fucksex fucksex fucksex fucksex fucksex fucksex fucksex fucksex fucksex fucksex fucksex fucksex fucksex fucksex fucksex fucksex fucksex fucksex fucksex fucksex fucksex fucksex fucksex fucksex fucksex fucksex fucksex fucksex fucksex fucksex fucksex fucksex fucksex fucksex fucksex fucksex fucksex fucksex fucksex fucksex fucksex fucksex fucksex fucksex fucksex fucksex fucksex fucksex fucksex fucksex fucksex fucksex fucksex fucksex fucksex fucksex fucksex fucksex fucksex fucksex fucksex fucksex fucksex fucksex fucksex fucksex fucksex fucksex fucksex fucksex fucksex fucksex fucksex fucksex fucksex fucksex fucksex fucksex fucksex fucksex fucksex fucksex fucksex fucksex fucksex fucksex fucksex fucksex fucksex fucksex fucksex fucksex fucksex fucksex fucksex fucksex fucksex fucksex fucksex fucksex fucksex fucksex fucksex fucksex fucksex fucksex fucksex fucksex fucksex fucksex fucksex fucksex fucksex fucksex fucksex fucksex fucksex fucksex fucksex fucksex fucksex fucksex fucksex fucksex fucksex fucksex fucksex fucksex fucksex fucksex fucksex fucksex fucksex fucksex fucksex fucksex fucksex fucksex fucksex fucksex fucksex fucksex fucksex fucksex fucksex fucksex fucksex fucksex fucksex fucksex fucksex fucksex fucksex fucksex fucksex fucksex fucksex fucksex fucksex fucksex fucksex fucksex fucksex fucksex fucksex fucksex fucksex fucksex fucksex fucksex fucksex fucksex fucksex fucksex fucksex fucksex fucksex fucksex fucksex fucksex fucksex fucksex fucksex fucksex fucksex fucksex fucksex fucksex fucksex fucksex fucksex fucksex fucksex fucksex fucksex fucksex fucksex fucksex fucksex fucksex fucksex fucksex fucksex fucksex fucksex fucksex fucksex fucksex fucksex fucksex fucksex fucksex fucksex fucksex fucksex fucksex fucksex fucksex fucksex fucksex fucksex fucksex fucksex fucksex fucksex fucksex fucksex fucksex fucksex fucksex fucksex fucksex fucksex fucksex fucksex fucksex fucksex fucksex fucksex fucksex fucksex fucksex fucksex fucksex fucksex fucksex fucksex fucksex fucksex fucksex fucksex fucksex fucksex fucksex fucksex fucksex fucksex fucksex fucksex fucksex fucksex fucksex fucksex fucksex fucksex fucksex fucksex fucksex fucksex fucksex fucksex fucksex fucksex fucksex fucksex fucksex fucksex fucksex fucksex fucksex fucksex fucksex fucksex fucksex fucksex fucksex fucksex fucksex fucksex fucksex fucksex fucksex fucksex fucksex fucksex fucksex fucksex fucksex fucksex fucksex fucksex fucksex fucksex fucksex fucksex fucksex fucksex fucksex fucksex fucksex fucksex fucksex fucksex fucksex fucksex fucksex fucksex fucksex fucksex fucksex fucksex fucksex fucksex fucksex fucksex fucksex fucksex fucksex fucksex fucksex fucksex fucksex fucksex fucksex fucksex fucksex fucksex fucksex fucksex fucksex fucksex fucksex fucksex fucksex fucksex fucksex fucksex fucksex fucksex fucksex fucksex fucksex fucksex fucksex fucksex fucksex fucksex fucksex fucksex fucksex fucksex fucksex fucksex fucksex fucksex fucksex fucksex fucksex fucksex fucksex fucksex fucksex fucksex fucksex fucksex fucksex fucksex fucksex fucksex fucksex fucksex fucksex fucksex fucksex fucksex fucksex fucksex fucksex fucksex fucksex fucksex fucksex fucksex fucksex fucksex fucksex fucksex fucksex fucksex fucksex fucksex fucksex fucksex fucksex fucksex fucksex fucksex fucksex fucksex fucksex fucksex fucksex fucksex fucksex fucksex fucksex fucksex fucksex fucksex fucksex fucksex fucksex fucksex fucksex fucksex fucksex fucksex fucksex fucksex fucksex fucksex fucksex fucksex fucksex fucksex fucksex fucksex fucksex fucksex fucksex fucksex fucksex fucksex fucksex fucksex fucksex fucksex fucksex fucksex fucksex fucksex fucksex fucksex fucksex fucksex fucksex fucksex fucksex fucksex fucksex fucksex fucksex fucksex fucksex fucksex fucksex fucksex fucksex fucksex fucksex fucksex fucksex fucksex fucksex fucksex fucksex fucksex fucksex fucksex fucksex fucksex fucksex fucksex fucksex fucksex fucksex fucksex fucksex fucksex fucksex fucksex fucksex fucksex fucksex fucksex fucksex fucksex fucksex fucksex fucksex fucksex fucksex fucksex fucksex fucksex fucksex fucksex fucksex fucksex fucksex fucksex fucksex fucksex fucksex fucksex fucksex fucksex fucksex fucksex fucksex fucksex fucksex fucksex fucksex fucksex fucksex fucksex fucksex fucksex fucksex fucksex fucksex fucksex fucksex fucksex fucksex fucksex fucksex fucksex fucksex fucksex fucksex fuck</td>\n",
       "      <td>1</td>\n",
       "      <td>1</td>\n",
       "      <td>1</td>\n",
       "      <td>0</td>\n",
       "      <td>0</td>\n",
       "      <td>0</td>\n",
       "      <td>5000</td>\n",
       "      <td>626</td>\n",
       "      <td>3</td>\n",
       "      <td>7.987220</td>\n",
       "      <td>3</td>\n",
       "      <td>True</td>\n",
       "    </tr>\n",
       "  </tbody>\n",
       "</table>\n",
       "</div>"
      ],
      "text/plain": [
       "                      id  \\\n",
       "46583   7c7a4bf4c84fe002   \n",
       "47715   7f79fd5eacbe804c   \n",
       "74753   c7f72686bf613e4e   \n",
       "42061   70368dd072aebb42   \n",
       "72192   c14532e93d456260   \n",
       "75165   c91d629c6599bb23   \n",
       "56834   97e695cfd71944ed   \n",
       "46197   7b6b88051eb69303   \n",
       "131729  c0e076f0011acaa6   \n",
       "128782  b0b8f1eaa83616fe   \n",
       "\n",
       "                                                                                                                                                                                                                                                                                                                                                                                                                                                                                                                                                                                                                                                                                                                                                                                                                                                                                                                                                                                                                                                                                                                                                                                                                                                                                                                                                                                                                                                                                                                                                                                                                                                                                                                                                                                                                                                                                                                                                                                                                                                                                                                                                                                                                                                                                                                                                                                                                                                                                                                                                                                                                                                                                                                                                                                                                                                                                                                                                                                                                                                                                                                                                                                                                                                                                                                                                                                                                                                                                                                                                                                                                                                                                                                                                                                                                                                                                                                                                                                                                                                                                                                                                                                                                                                                                                                                                                                                                                                                                                                                                                                                                                                                                                                                                                                                                                                                                                                                                                                                                                                                                                                                                                                                    comment_text  \\\n",
       "46583   hahahahahahahahahahahahahahahahahaha vandalism rules vandalism rules vandalism rules vandalism rules vandalism rules vandalism rules vandalism rules vandalism rules vandalism rules vandalism rules vandalism rules vandalism rules vandalism rules vandalism rules vandalism rules vandalism rules vandalism rules vandalism rules vandalism rules vandalism rules vandalism rules vandalism rules vandalism rules vandalism rules vandalism rules vandalism rules vandalism rules vandalism rules vandalism rules vandalism rules vandalism rules vandalism rules vandalism rules vandalism rules vandalism rules vandalism rules vandalism rules vandalism rules vandalism rules vandalism rules vandalism rules vandalism rules vandalism rules vandalism rules vandalism rules vandalism rules vandalism rules vandalism rules vandalism rules vandalism rules vandalism rules vandalism rules vandalism rules vandalism rules vandalism rules vandalism rules vandalism rules vandalism rules vandalism rules vandalism rules vandalism rules vandalism rules vandalism rules vandalism rules vandalism rules vandalism rules vandalism rules vandalism rules vandalism rules vandalism rules vandalism rules vandalism rules vandalism rules vandalism rules vandalism rules vandalism rules vandalism rules vandalism rules vandalism rules vandalism rules vandalism rules vandalism rules vandalism rules vandalism rules vandalism rules vandalism rules vandalism rules vandalism rules vandalism rules vandalism rules vandalism rules vandalism rules vandalism rules vandalism rules vandalism rules vandalism rules vandalism rules vandalism rules vandalism rules vandalism rules vandalism rules vandalism rules vandalism rules vandalism rules vandalism rules vandalism rules vandalism rules vandalism rules vandalism rules vandalism rules vandalism rules vandalism rules vandalism rules vandalism rules vandalism rules vandalism rules vandalism rules vandalism rules vandalism rules vandalism rules vandalism rules vandalism rules vandalism rules vandalism rules vandalism rules vandalism rules vandalism rules vandalism rules vandalism rules vandalism rules vandalism rules vandalism rules vandalism rules vandalism rules vandalism rules vandalism rules vandalism rules vandalism rules vandalism rules vandalism rules vandalism rules vandalism rules vandalism rules vandalism rules vandalism rules vandalism rules vandalism rules vandalism rules vandalism rules vandalism rules vandalism rules vandalism rules vandalism rules vandalism rules vandalism rules vandalism rules vandalism rules vandalism rules vandalism rules vandalism rules vandalism rules vandalism rules vandalism rules vandalism rules vandalism rules vandalism rules vandalism rules vandalism rules vandalism rules vandalism rules vandalism rules vandalism rules vandalism rules vandalism rules vandalism rules vandalism rules vandalism rules vandalism rules vandalism rules vandalism rules vandalism rules vandalism rules vandalism rules vandalism rules vandalism rules vandalism rules vandalism rules vandalism rules vandalism rules vandalism rules vandalism rules vandalism rules vandalism rules vandalism rules vandalism rules vandalism rules vandalism rules vandalism rules vandalism rules vandalism rules vandalism rules vandalism rules vandalism rules vandalism rules vandalism rules vandalism rules vandalism rules vandalism rules vandalism rules vandalism rules vandalism rules vandalism rules vandalism rules vandalism rules vandalism rules vandalism rules vandalism rules vandalism rules vandalism rules vandalism rules vandalism rules vandalism rules vandalism rules vandalism rules vandalism rules vandalism rules vandalism rules vandalism rules vandalism rules vandalism rules vandalism rules vandalism rules vandalism rules vandalism rules vandalism rules vandalism rules vandalism rules vandalism rules vandalism rules vandalism rules vandalism rules vandalism rules vandalism rules vandalism rules vandalism rules vandalism rules vandalism rules vandalism rules vandalism rules vandalism rules vandalism rules vandalism rules vandalism rules vandalism rules vandalism rules vandalism rules vandalism rules vandalism rules vandalism rules vandalism rules vandalism rules vandalism rules vandalism rules vandalism rules vandalism rules vandalism rules vandalism rules vandalism rules vandalism rules vandalism rules vandalism rules vandalism rules vandalism rules vandalism rules vandalism rules vandalism rules vandalism rules vandalism rules vandalism rules vandalism rules vandalism rules vandalism rules vandalism rules vandalism rules vandalism rules vandalism rules vandalism rules vandalism rules vandalism rules vandalism rules vandalism rules vandalism rules vandalism rules vandalism rules vandalism rules vandalism rules vandalism rules vandalism rules vandalism rules vandalism rules vandalism rules vandalism rules vandalism rules vandalism rules vandalism rules vandalism rules vandalism rules vandalism rules vandalism rules vandalism rules van   \n",
       "47715   Block Block Block Block Block Block Block Block Block Block Block Block Block Block Block Block Block Block Block Block Block Block Block Block Block Block Block Block Block Block Block Block Block Block Block Block Block Block Block Block Block Block Block Block Block Block Block Block Block Block Block Block Block Block Block Block Block Block Block Block Block Block Block Block Block Block Block Block Block Block Block Block Block Block Block Block Block Block Block Block Block Block Block Block Block Block Block Block Block Block Block Block Block Block Block Block Block Block Block Block Block Block Block Block Block Block Block Block Block Block Block Block Block Block Block Block Block Block Block Block Block Block Block Block Block Block Block Block Block Block Block Block Block Block Block Block Block Block Block Block Block Block Block Block Block Block Block Block Block Block Block Block Block Block Block Block Block Block Block Block Block Block Block Block Block Block Block Block Block Block Block Block Block Block Block Block Block Block Block Block Block Block Block Block Block Block Block Block Block Block Block Block Block Block Block Block Block Block Block Block Block Block Block Block Block Block Block Block Block Block Block Block Block Block Block Block Block Block Block Block Block Block Block Block Block Block Block Block Block Block Block Block Block Block Block Block Block Block Block Block Block Block Block Block Block Block Block Block Block Block Block Block Block Block Block Block Block Block Block Block Block Block Block Block Block Block Block Block Block Block Block Block Block Block Block Block Block Block Block Block Block Block Block Block Block Block Block Block Block Block Block Block Block Block Block Block Block Block Block Block Block Block Block Block Block Block Block Block Block Block Block Block Block Block Block Block Block Block Block Block Block Block Block Block Block Block Block Block Block Block Block Block Block Block Block Block Block Block Block Block Block Block Block Block Block Block Block Block Block Block Block Block Block Block Block Block Block Block Block Block Block Block Block Block Block Block Block Block Block Block Block Block Block Block Block Block Block Block Block Block Block Block Block Block Block Block Block Block Block Block Block Block Block Block Block Block Block Block Block Block Block Block Block Block Block Block Block Block Block Block Block Block Block Block Block Block Block Block Block Block Block Block Block Block Block Block Block Block Block Block Block Block Block Block Block Block Block Block Block Block Block Block Block Block Block Block Block Block Block Block Block Block Block Block Block Block Block Block Block Block Block Block Block Block Block Block Block Block Block Block Block Block Block Block Block Block Block Block Block Block Block Block Block Block Block Block Block Block Block Block Block Block Block Block Block Block Block Block Block Block Block Block Block Block Block Block Block Block Block Block Block Block Block Block Block Block Block Block Block Block Block Block Block Block Block Block Block Block Block Block Block Block Block Block Block Block Block Block Block Block Block Block Block Block Block Block Block Block Block Block Block Block Block Block Block Block Block Block Block Block Block Block Block Block Block Block Block Block Block Block Block Block Block Block Block Block Block Block Block Block Block Block Block Block Block Block Block Block Block Block Block Block Block Block Block Block Block Block Block Block Block Block Block Block Block Block Block Block Block Block Block Block Block Block Block Block Block Block Block Block Block Block Block Block Block Block Block Block Block Block Block Block Block Block Block Block Block Block Block Block Block Block Block Block Block Block Block Block Block Block Block Block Block Block Block Block Block Block Block Block Block Block Block Block Block Block Block Block Block Block Block Block Block Block Block Block Block Block Block Block Block Block Block Block Block Block Block Block Block Block Block Block Block Block Block Block Block Block Block Block Block Block Block Block Block Block Block Block Block Block Block Block Block Block Block Block Block Block Block Block Block Block Block Block Block Block Block Block Block Block Block Block Block Block Block Block Block Block Block Block Block Block Block Block Block Block Block Block Block Block Block Block Block Block Block Block Block Block Block Block Block Block Block Block Block Block Block Block Block Block Block Block Block Block Block Block Block Block Block Block Block Block Block Block Block Block Block Block Block Block Block Block Block Block Block Block Block Block Block Block Block Block Block Block Block Block Block Block Block Block Block Block Block Block Block Block Block Block Block Block Block Block Block Block Block Block Block Block Block Block Block Block Block Bl   \n",
       "74753   Dont Change It     zzzzzzzzzzzzzzzzzzzzzzzzzzzzzzzzzzzzzzzzzzzzzzzzzzzzzzzzzzzzzzzzzzzzzzzzzzzzzzzzzzzzzzzzzzzzzzzzzzzzzzzzzzzzzzzzzzzzzzzzzzzzzzzzzzzzzzzzzzzzzzzzzzzzzz zzzzzzzzzzzzzzzzzzzzzzzzzzzzzzzzzzzzzzzzzzzzzzzzzzzzzzzzzzzzzzzzzzzzzzzzzzzzzzzzzzzzzzzzzzzzzzzzzzzzzzzzzzzzzzzzzzzzzzzzzzzzzzzzzzzzzzzzzzzzzzzzzzzzzz zzzzzzzzzzzzzzzzzzzzzzzzzzzzzzzzzzzzzzzzzzzzzzzzzzzzzzzzzzzzzzzzzzzzzzzzzzzzzzzzzzzzzzzzzzzzzzzzzzzzzzzzzzzzzzzzzzzzzzzzzzzzzzzzzzzzzzzzzzzzzzzzzzzzzz zzzzzzzzzzzzzzzzzzzzzzzzzzzzzzzzzzzzzzzzzzzzzzzzzzzzzzzzzzzzzzzzzzzzzzzzzzzzzzzzzzzzzzzzzzzzzzzzzzzzzzzzzzzzzzzzzzzzzzzzzzzzzzzzzzzzzzzzzzzzzzzzzzzzzz zzzzzzzzzzzzzzzzzzzzzzzzzzzzzzzzzzzzzzzzzzzzzzzzzzzzzzzzzzzzzzzzzzzzzzzzzzzzzzzzzzzzzzzzzzzzzzzzzzzzzzzzzzzzzzzzzzzzzzzzzzzzzzzzzzzzzzzzzzzzzzzzzzzzzz zzzzzzzzzzzzzzzzzzzzzzzzzzzzzzzzzzzzzzzzzzzzzzzzzzzzzzzzzzzzzzzzzzzzzzzzzzzzzzzzzzzzzzzzzzzzzzzzzzzzzzzzzzzzzzzzzzzzzzzzzzzzzzzzzzzzzzzzzzzzzzzzzzzzzz zzzzzzzzzzzzzzzzzzzzzzzzzzzzzzzzzzzzzzzzzzzzzzzzzzzzzzzzzzzzzzzzzzzzzzzzzzzzzzzzzzzzzzzzzzzzzzzzzzzzzzzzzzzzzzzzzzzzzzzzzzzzzzzzzzzzzzzzzzzzzzzzzzzzzz zzzzzzzzzzzzzzzzzzzzzzzzzzzzzzzzzzzzzzzzzzzzzzzzzzzzzzzzzzzzzzzzzzzzzzzzzzzzzzzzzzzzzzzzzzzzzzzzzzzzzzzzzzzzzzzzzzzzzzzzzzzzzzzzzzzzzzzzzzzzzzzzzzzzzz zzzzzzzzzzzzzzzzzzzzzzzzzzzzzzzzzzzzzzzzzzzzzzzzzzzzzzzzzzzzzzzzzzzzzzzzzzzzzzzzzzzzzzzzzzzzzzzzzzzzzzzzzzzzzzzzzzzzzzzzzzzzzzzzzzzzzzzzzzzzzzzzzzzzzz zzzzzzzzzzzzzzzzzzzzzzzzzzzzzzzzzzzzzzzzzzzzzzzzzzzzzzzzzzzzzzzzzzzzzzzzzzzzzzzzzzzzzzzzzzzzzzzzzzzzzzzzzzzzzzzzzzzzzzzzzzzzzzzzzzzzzzzzzzzzzzzzzzzzzz zzzzzzzzzzzzzzzzzzzzzzzzzzzzzzzzzzzzzzzzzzzzzzzzzzzzzzzzzzzzzzzzzzzzzzzzzzzzzzzzzzzzzzzzzzzzzzzzzzzzzzzzzzzzzzzzzzzzzzzzzzzzzzzzzzzzzzzzzzzzzzzzzzzzzz zzzzzzzzzzzzzzzzzzzzzzzzzzzzzzzzzzzzzzzzzzzzzzzzzzzzzzzzzzzzzzzzzzzzzzzzzzzzzzzzzzzzzzzzzzzzzzzzzzzzzzzzzzzzzzzzzzzzzzzzzzzzzzzzzzzzzzzzzzzzzzzzzzzzzz zzzzzzzzzzzzzzzzzzzzzzzzzzzzzzzzzzzzzzzzzzzzzzzzzzzzzzzzzzzzzzzzzzzzzzzzzzzzzzzzzzzzzzzzzzzzzzzzzzzzzzzzzzzzzzzzzzzzzzzzzzzzzzzzzzzzzzzzzzzzzzzzzzzzzz zzzzzzzzzzzzzzzzzzzzzzzzzzzzzzzzzzzzzzzzzzzzzzzzzzzzzzzzzzzzzzzzzzzzzzzzzzzzzzzzzzzzzzzzzzzzzzzzzzzzzzzzzzzzzzzzzzzzzzzzzzzzzzzzzzzzzzzzzzzzzzzzzzzzzz zzzzzzzzzzzzzzzzzzzzzzzzzzzzzzzzzzzzzzzzzzzzzzzzzzzzzzzzzzzzzzzzzzzzzzzzzzzzzzzzzzzzzzzzzzzzzzzzzzzzzzzzzzzzzzzzzzzzzzzzzzzzzzzzzzzzzzzzzzzzzzzzzzzzzz zzzzzzzzzzzzzzzzzzzzzzzzzzzzzzzzzzzzzzzzzzzzzzzzzzzzzzzzzzzzzzzzzzzzzzzzzzzzzzzzzzzzzzzzzzzzzzzzzzzzzzzzzzzzzzzzzzzzzzzzzzzzzzzzzzzzzzzzzzzzzzzzzzzzzz zzzzzzzzzzzzzzzzzzzzzzzzzzzzzzzzzzzzzzzzzzzzzzzzzzzzzzzzzzzzzzzzzzzzzzzzzzzzzzzzzzzzzzzzzzzzzzzzzzzzzzzzzzzzzzzzzzzzzzzzzzzzzzzzzzzzzzzzzzzzzzzzzzzzzz zzzzzzzzzzzzzzzzzzzzzzzzzzzzzzzzzzzzzzzzzzzzzzzzzzzzzzzzzzzzzzzzzzzzzzzzzzzzzzzzzzzzzzzzzzzzzzzzzzzzzzzzzzzzzzzzzzzzzzzzzzzzzzzzzzzzzzzzzzzzzzzzzzzzzz zzzzzzzzzzzzzzzzzzzzzzzzzzzzzzzzzzzzzzzzzzzzzzzzzzzzzzzzzzzzzzzzzzzzzzzzzzzzzzzzzzzzzzzzzzzzzzzzzzzzzzzzzzzzzzzzzzzzzzzzzzzzzzzzzzzzzzzzzzzzzzzzzzzzzz zzzzzzzzzzzzzzzzzzzzzzzzzzzzzzzzzzzzzzzzzzzzzzzzzzzzzzzzzzzzzzzzzzzzzzzzzzzzzzzzzzzzzzzzzzzzzzzzzzzzzzzzzzzzzzzzzzzzzzzzzzzzzzzzzzzzzzzzzzzzzzzzzzzzzz zzzzzzzzzzzzzzzzzzzzzzzzzzzzzzzzzzzzzzzzzzzzzzzzzzzzzzzzzzzzzzzzzzzzzzzzzzzzzzzzzzzzzzzzzzzzzzzzzzzzzzzzzzzzzzzzzzzzzzzzzzzzzzzzzzzzzzzzzzzzzzzzzzzzzz zzzzzzzzzzzzzzzzzzzzzzzzzzzzzzzzzzzzzzzzzzzzzzzzzzzzzzzzzzzzzzzzzzzzzzzzzzzzzzzzzzzzzzzzzzzzzzzzzzzzzzzzzzzzzzzzzzzzzzzzzzzzzzzzzzzzzzzzzzzzzzzzzzzzzz zzzzzzzzzzzzzzzzzzzzzzzzzzzzzzzzzzzzzzzzzzzzzzzzzzzzzzzzzzzzzzzzzzzzzzzzzzzzzzzzzzzzzzzzzzzzzzzzzzzzzzzzzzzzzzzzzzzzzzzzzzzzzzzzzzzzzzzzzzzzzzzzzzzzzz zzzzzzzzzzzzzzzzzzzzzzzzzzzzzzzzzzzzzzzzzzzzzzzzzzzzzzzzzzzzzzzzzzzzzzzzzzzzzzzzzzzzzzzzzzzzzzzzzzzzzzzzzzzzzzzzzzzzzzzzzzzzzzzzzzzzzzzzzzzzzzzzzzzzzz zzzzzzzzzzzzzzzzzzzzzzzzzzzzzzzzzzzzzzzzzzzzzzzzzzzzzzzzzzzzzzzzzzzzzzzzzzzzzzzzzzzzzzzzzzzzzzzzzzzzzzzzzzzzzzzzzzzzzzzzzzzzzzzzzzzzzzzzzzzzzzzzzzzzzz zzzzzzzzzzzzzzzzzzzzzzzzzzzzzzzzzzzzzzzzzzzzzzzzzzzzzzzzzzzzzzzzzzzzzzzzzzzzzzzzzzzzzzzzzzzzzzzzzzzzzzzzzzzzzzzzzzzzzzzzzzzzzzzzzzzzzzzzzzzzzzzzzzzzzz zzzzzzzzzzzzzzzzzzzzzzzzzzzzzzzzzzzzzzzzzzzzzzzzzzzzzzzzzzzzzzzzzzzzzzzzzzzzzzzzzzzzzzzzzzzzzzzzzzzzzzzzzzzzzzzzzzzzzzzzzzzzzzzzzzzzzzzzzzzzzzzzzzzzzz zzzzzzzzzzzzzzzzzzzzzzzzzzzzzzzzzzzzzzzzzzzzzzzzzzzzzzzzzzzzzzzzzzzzzzzzzzzzzzzzzzzzzzzzzzzzzzzzzzzzzzzzzzzzzzzzzzzzzzzzzzzzzzzzzzzzzzzzzzzzzzzzzzzzzz zzzzzzzzzzzzzzzzzzzzzzzzzzzzzzzzzzzzzzzzzzzzzzzzzzzzzzzzzzzzzzzzzzzzzzzzzzzzzzzzzzzzzzzzzzzzzzzzzzzzzzzzzzzzzzzzzzzzzzzzzzzzzzzzzzzzzzzzzzzzzzzzzzzzzz zzzzzzzzzzzzzzzzzzzzzzzzzzzzzzzzzzzzzzzzzzzzzzzzzzzzzzzzzzzzzzzzzzzzzzzzzzzzzzzzzzzzzzzzzzzzzzzzzzzzzzzzzzzzzzzzzzzzzzzzzzzzzzzzzzzzzzzzzzzzzzzzzzzzzz zzzzzzzzzzzzzzzzzzzzzzzzzzzzzzzzzzzzzzzzzzzzzzzzzzzzzzzzzzzzzzzzzzzzzzzzzzzzzzzzzzzzzzzzzzzzzzzzzzzzzzzzzzzzzzzzzzzzzzzzzzzzzzzzzzzzzzzzzzzzzzzzzzzzzz zzzzzzzzzzzzzzzzzzzzzzzzzzzzzzzzzzzzzzzzzzzzzzzzzzzzzzzzzzzzzzzzzzzzzzzzzzzzzzzzzzzzzzzzzzzzzzzzzzzzzzzzzzzzzzzzzzzzzzzzzzzzzzzzzzzzzzzzzzzzzzzzzzzzzz zzzzzzzzzzzzzzzzzzzzzzzzzzzzzzzzzzzzzzzzzzzzzzzzzzzzzzzzzzzzzzzzzzzzzzzzzzzzzzzzzzzzzzzzzzzzzzzzzzzzzzzzzzzzzzzzzzzzzzzzzzzzzzzzzzzzzzzzzzzzzzzzzzzzz   \n",
       "42061   WANKER WANKER WANKER WANKER WANKER WANKER WANKER WANKER WANKER WANKER WANKER WANKER WANKER WANKER WANKER WANKER WANKER WANKER WANKER WANKER WANKER WANKER WANKER WANKER WANKER WANKER WANKER WANKER WANKER WANKER WANKER WANKER WANKER WANKER WANKER WANKER WANKER WANKER WANKER WANKER WANKER WANKER WANKER WANKER WANKER WANKER WANKER WANKER WANKER WANKER WANKER WANKER WANKER WANKER WANKER WANKER WANKER WANKER WANKER WANKER WANKER WANKER WANKER WANKER WANKER WANKER WANKER WANKER WANKER WANKER WANKER WANKER WANKER WANKER WANKER WANKER WANKER WANKER WANKER WANKER WANKER WANKER WANKER WANKER WANKER WANKER WANKER WANKER WANKER WANKER WANKER WANKER WANKER WANKER WANKER WANKER WANKER WANKER WANKER WANKER WANKER WANKER WANKER WANKER WANKER WANKER WANKER WANKER WANKER WANKER WANKER WANKER WANKER WANKER WANKER WANKER WANKER WANKER WANKER WANKER WANKER WANKER WANKER WANKER WANKER WANKER WANKER WANKER WANKER WANKER WANKER WANKER WANKER WANKER WANKER WANKER WANKER WANKER WANKER WANKER WANKER WANKER WANKER WANKER WANKER WANKER WANKER WANKER WANKER WANKER WANKER WANKER WANKER WANKER WANKER WANKER WANKER WANKER WANKER WANKER WANKER WANKER WANKER WANKER WANKER WANKER WANKER WANKER WANKER WANKER WANKER WANKER WANKER WANKER WANKER WANKER WANKER WANKER WANKER WANKER WANKER WANKER WANKER WANKER WANKER WANKER WANKER WANKER WANKER WANKER WANKER WANKER WANKER WANKER WANKER WANKER WANKER WANKER WANKER WANKER WANKER WANKER WANKER WANKER WANKER WANKER WANKER WANKER WANKER WANKER WANKER WANKER WANKER WANKER WANKER WANKER WANKER WANKER WANKER WANKER WANKER WANKER WANKER WANKER WANKER WANKER WANKER WANKER WANKER WANKER WANKER WANKER WANKER WANKER WANKER WANKER WANKER WANKER WANKER WANKER WANKER WANKER WANKER WANKER WANKER WANKER WANKER WANKER WANKER WANKER WANKER WANKER WANKER WANKER WANKER WANKER WANKER WANKER WANKER WANKER WANKER WANKER WANKER WANKER WANKER WANKER WANKER WANKER WANKER WANKER WANKER WANKER WANKER WANKER WANKER WANKER WANKER WANKER WANKER WANKER WANKER WANKER WANKER WANKER WANKER WANKER WANKER WANKER WANKER WANKER WANKER WANKER WANKER WANKER WANKER WANKER WANKER WANKER WANKER WANKER WANKER WANKER WANKER WANKER WANKER WANKER WANKER WANKER WANKER WANKER WANKER WANKER WANKER WANKER WANKER WANKER WANKER WANKER WANKER WANKER WANKER WANKER WANKER WANKER WANKER WANKER WANKER WANKER WANKER WANKER WANKER WANKER WANKER WANKER WANKER WANKER WANKER WANKER WANKER WANKER WANKER WANKER WANKER WANKER WANKER WANKER WANKER WANKER WANKER WANKER WANKER WANKER WANKER WANKER WANKER WANKER WANKER WANKER WANKER WANKER WANKER WANKER WANKER WANKER WANKER WANKER WANKER WANKER WANKER WANKER WANKER WANKER WANKER WANKER WANKER WANKER WANKER WANKER WANKER WANKER WANKER WANKER WANKER WANKER WANKER WANKER WANKER WANKER WANKER WANKER WANKER WANKER WANKER WANKER WANKER WANKER WANKER WANKER WANKER WANKER WANKER WANKER WANKER WANKER WANKER WANKER WANKER WANKER WANKER WANKER WANKER WANKER WANKER WANKER WANKER WANKER WANKER WANKER WANKER WANKER WANKER WANKER WANKER WANKER WANKER WANKER WANKER WANKER WANKER WANKER WANKER WANKER WANKER WANKER WANKER WANKER WANKER WANKER WANKER WANKER WANKER WANKER WANKER WANKER WANKER WANKER WANKER WANKER WANKER WANKER WANKER WANKER WANKER WANKER WANKER WANKER WANKER WANKER WANKER WANKER WANKER WANKER WANKER WANKER WANKER WANKER WANKER WANKER WANKER WANKER WANKER WANKER WANKER WANKER WANKER WANKER WANKER WANKER WANKER WANKER WANKER WANKER WANKER WANKER WANKER WANKER WANKER WANKER WANKER WANKER WANKER WANKER WANKER WANKER WANKER WANKER WANKER WANKER WANKER WANKER WANKER WANKER WANKER WANKER WANKER WANKER WANKER WANKER WANKER WANKER WANKER WANKER WANKER WANKER WANKER WANKER WANKER WANKER WANKER WANKER WANKER WANKER WANKER WANKER WANKER WANKER WANKER WANKER WANKER WANKER WANKER WANKER WANKER WANKER WANKER WANKER WANKER WANKER WANKER WANKER WANKER WANKER WANKER WANKER WANKER WANKER WANKER WANKER WANKER WANKER WANKER WANKER WANKER WANKER WANKER WANKER WANKER WANKER WANKER WANKER WANKER WANKER WANKER WANKER WANKER WANKER WANKER WANKER WANKER WANKER WANKER WANKER WANKER WANKER WANKER WANKER WANKER WANKER WANKER WANKER WANKER WANKER WANKER WANKER WANKER WANKER WANKER WANKER WANKER WANKER WANKER WANKER WANKER WANKER WANKER WANKER WANKER WANKER WANKER WANKER WANKER WANKER WANKER WANKER WANKER WANKER WANKER WANKER WANKER WANKER WANKER WANKER WANKER WANKER WANKER WANKER WANKER WANKER WANKER WANKER WANKER WANKER WANKER WANKER WANKER WANKER WANKER WANKER WANKER WANKER WANKER WANKER WANKER WANKER WANKER WANKER WANKER WANKER WANKER WANKER WANKER WANKER WANKER WANKER WANKER WANKER WANKER WANKER WANKER WANKER WANKER WANKER WANKER WANKER WANKER WANKER WANKER WANKER WANKER WANKER WANKER WANKER WANKER WANKER WANKER WANKER WANKER WANKER WANKER WANKER WANKER WANKER WANKER WANKER WANKER WANKER WANKER WANKER WANKER WANKER WANKER WANKER WANKER WANKER WANKER WANKER WANKER WANKER WANKER WANKER WANKER WANKER WANKER WANKER WANKER WANKER WANKER WANKER WANKER WANKER WANKER WANKER WANKER WANKER WANKER WANKER WANKER WANKER WANKER WANKER WANKER WANKER WANKER WANKER WA   \n",
       "72192   China smells like fart  China smells like fart China smells like fart China smells like fart China smells like fart China smells like fart China smells like fart China smells like fart China smells like fart China smells like fart China smells like fart China smells like fart China smells like fart China smells like fart China smells like fart China smells like fart China smells like fart China smells like fart China smells like fart China smells like fart China smells like fart China smells like fart China smells like fart China smells like fart China smells like fart China smells like fart China smells like fart China smells like fart China smells like fart China smells like fart China smells like fart China smells like fart China smells like fart China smells like fart China smells like fart China smells like fart China smells like fart China smells like fart China smells like fart China smells like fart China smells like fart China smells like fart China smells like fart China smells like fart China smells like fart China smells like fart China smells like fart China smells like fart China smells like fart China smells like fart China smells like fart China smells like fart China smells like fart China smells like fart China smells like fart China smells like fart China smells like fart China smells like fart China smells like fart China smells like fart China smells like fart China smells like fart China smells like fart China smells like fart China smells like fart China smells like fart China smells like fart China smells like fart China smells like fart China smells like fart China smells like fart China smells like fart China smells like fart China smells like fart China smells like fart China smells like fart China smells like fart China smells like fart China smells like fart China smells like fart China smells like fart China smells like fart China smells like fart China smells like fart China smells like fart China smells like fart China smells like fart China smells like fart China smells like fart China smells like fart China smells like fart China smells like fart China smells like fart China smells like fart China smells like fart China smells like fart China smells like fart China smells like fart China smells like fart China smells like fart China smells like fart China smells like fart China smells like fart China smells like fart China smells like fart China smells like fart China smells like fart China smells like fart China smells like fart China smells like fart China smells like fart China smells like fart China smells like fart China smells like fart China smells like fart China smells like fart China smells like fart China smells like fart China smells like fart China smells like fart China smells like fart China smells like fart China smells like fart China smells like fart China smells like fart China smells like fart China smells like fart China smells like fart China smells like fart China smells like fart China smells like fart China smells like fart China smells like fart China smells like fart China smells like fart China smells like fart China smells like fart China smells like fart China smells like fart China smells like fart China smells like fart China smells like fart China smells like fart China smells like fart China smells like fart China smells like fart China smells like fart China smells like fart China smells like fart China smells like fart China smells like fart China smells like fart China smells like fart China smells like fart China smells like fart China smells like fart China smells like fart China smells like fart China smells like fart China smells like fart China smells like fart China smells like fart China smells like fart China smells like fart China smells like fart China smells like fart China smells like fart China smells like fart China smells like fart China smells like fart China smells like fart China smells like fart China smells like fart China smells like fart China smells like fart China smells like fart China smells like fart China smells like fart China smells like fart China smells like fart China smells like fart China smells like fart China smells like fart China smells like fart China smells like fart China smells like fart China smells like fart China smells like fart China smells like fart China smells like fart China smells like fart China smells like fart China smells like fart China smells like fart China smells like fart China smells like fart China smells like fart China smells like fart China smells like fart China smells like fart China smells like fart China smells like fart China smells like fart China smells like fart China smells like fart China smells like fart China smells like fart China smells like fart China smells like fart China smells like fart China smells like fart China smells like fart China smells like fart China smells like fart China smells like fart China smells like fart China smells like fart China sm   \n",
       "75165   IN THE NAME OF YTMND IN THE NAME OF YTMND IN THE NAME OF YTMND IN THE NAME OF YTMND IN THE NAME OF YTMND IN THE NAME OF YTMND IN THE NAME OF YTMND IN THE NAME OF YTMND IN THE NAME OF YTMND IN THE NAME OF YTMND IN THE NAME OF YTMND IN THE NAME OF YTMND IN THE NAME OF YTMND IN THE NAME OF YTMND IN THE NAME OF YTMND IN THE NAME OF YTMND IN THE NAME OF YTMND IN THE NAME OF YTMND IN THE NAME OF YTMND IN THE NAME OF YTMND IN THE NAME OF YTMND IN THE NAME OF YTMND IN THE NAME OF YTMND IN THE NAME OF YTMND IN THE NAME OF YTMND IN THE NAME OF YTMND IN THE NAME OF YTMND IN THE NAME OF YTMND IN THE NAME OF YTMND IN THE NAME OF YTMND IN THE NAME OF YTMND IN THE NAME OF YTMND IN THE NAME OF YTMND IN THE NAME OF YTMND IN THE NAME OF YTMND IN THE NAME OF YTMND IN THE NAME OF YTMND IN THE NAME OF YTMND IN THE NAME OF YTMND IN THE NAME OF YTMND IN THE NAME OF YTMND IN THE NAME OF YTMND IN THE NAME OF YTMND IN THE NAME OF YTMND IN THE NAME OF YTMND IN THE NAME OF YTMND IN THE NAME OF YTMND IN THE NAME OF YTMND IN THE NAME OF YTMND IN THE NAME OF YTMND IN THE NAME OF YTMND IN THE NAME OF YTMND IN THE NAME OF YTMND IN THE NAME OF YTMND IN THE NAME OF YTMND IN THE NAME OF YTMND IN THE NAME OF YTMND IN THE NAME OF YTMND IN THE NAME OF YTMND IN THE NAME OF YTMND IN THE NAME OF YTMND IN THE NAME OF YTMND IN THE NAME OF YTMND IN THE NAME OF YTMND IN THE NAME OF YTMND IN THE NAME OF YTMND IN THE NAME OF YTMND IN THE NAME OF YTMND IN THE NAME OF YTMND IN THE NAME OF YTMND IN THE NAME OF YTMND IN THE NAME OF YTMND IN THE NAME OF YTMND IN THE NAME OF YTMND IN THE NAME OF YTMND IN THE NAME OF YTMND IN THE NAME OF YTMND IN THE NAME OF YTMND IN THE NAME OF YTMND IN THE NAME OF YTMND IN THE NAME OF YTMND IN THE NAME OF YTMND IN THE NAME OF YTMND IN THE NAME OF YTMND IN THE NAME OF YTMND IN THE NAME OF YTMND IN THE NAME OF YTMND IN THE NAME OF YTMND IN THE NAME OF YTMND IN THE NAME OF YTMND IN THE NAME OF YTMND IN THE NAME OF YTMND IN THE NAME OF YTMND IN THE NAME OF YTMND IN THE NAME OF YTMND IN THE NAME OF YTMND IN THE NAME OF YTMND IN THE NAME OF YTMND IN THE NAME OF YTMND IN THE NAME OF YTMND IN THE NAME OF YTMND IN THE NAME OF YTMND IN THE NAME OF YTMND IN THE NAME OF YTMND IN THE NAME OF YTMND IN THE NAME OF YTMND IN THE NAME OF YTMND IN THE NAME OF YTMND IN THE NAME OF YTMND IN THE NAME OF YTMND IN THE NAME OF YTMND IN THE NAME OF YTMND IN THE NAME OF YTMND IN THE NAME OF YTMND IN THE NAME OF YTMND IN THE NAME OF YTMND IN THE NAME OF YTMND IN THE NAME OF YTMND IN THE NAME OF YTMND IN THE NAME OF YTMND IN THE NAME OF YTMND IN THE NAME OF YTMND IN THE NAME OF YTMND IN THE NAME OF YTMND IN THE NAME OF YTMND IN THE NAME OF YTMND IN THE NAME OF YTMND IN THE NAME OF YTMND IN THE NAME OF YTMND IN THE NAME OF YTMND IN THE NAME OF YTMND IN THE NAME OF YTMND IN THE NAME OF YTMND IN THE NAME OF YTMND IN THE NAME OF YTMND IN THE NAME OF YTMND IN THE NAME OF YTMND IN THE NAME OF YTMND IN THE NAME OF YTMND IN THE NAME OF YTMND IN THE NAME OF YTMND IN THE NAME OF YTMND IN THE NAME OF YTMND IN THE NAME OF YTMND IN THE NAME OF YTMND IN THE NAME OF YTMND IN THE NAME OF YTMND IN THE NAME OF YTMND IN THE NAME OF YTMND IN THE NAME OF YTMND IN THE NAME OF YTMND IN THE NAME OF YTMND IN THE NAME OF YTMND IN THE NAME OF YTMND IN THE NAME OF YTMND IN THE NAME OF YTMND IN THE NAME OF YTMND IN THE NAME OF YTMND IN THE NAME OF YTMND IN THE NAME OF YTMND IN THE NAME OF YTMND IN THE NAME OF YTMND IN THE NAME OF YTMND IN THE NAME OF YTMND IN THE NAME OF YTMND IN THE NAME OF YTMND IN THE NAME OF YTMND IN THE NAME OF YTMND IN THE NAME OF YTMND IN THE NAME OF YTMND IN THE NAME OF YTMND IN THE NAME OF YTMND IN THE NAME OF YTMND IN THE NAME OF YTMND IN THE NAME OF YTMND IN THE NAME OF YTMND IN THE NAME OF YTMND IN THE NAME OF YTMND IN THE NAME OF YTMND IN THE NAME OF YTMND IN THE NAME OF YTMND IN THE NAME OF YTMND IN THE NAME OF YTMND IN THE NAME OF YTMND IN THE NAME OF YTMND IN THE NAME OF YTMND IN THE NAME OF YTMND IN THE NAME OF YTMND IN THE NAME OF YTMND IN THE NAME OF YTMND IN THE NAME OF YTMND IN THE NAME OF YTMND IN THE NAME OF YTMND IN THE NAME OF YTMND IN THE NAME OF YTMND IN THE NAME OF YTMND IN THE NAME OF YTMND IN THE NAME OF YTMND IN THE NAME OF YTMND IN THE NAME OF YTMND IN THE NAME OF YTMND IN THE NAME OF YTMND IN THE NAME OF YTMND IN THE NAME OF YTMND IN THE NAME OF YTMND IN THE NAME OF YTMND IN THE NAME OF YTMND IN THE NAME OF YTMND IN THE NAME OF YTMND IN THE NAME OF YTMND IN THE NAME OF YTMND IN THE NAME OF YTMND IN THE NAME OF YTMND IN THE NAME OF YTMND IN THE NAME OF YTMND IN THE NAME OF YTMND IN THE NAME OF YTMND IN THE NAME OF YTMND IN THE NAME OF YTMND IN THE NAME OF YTMND IN THE NAME OF YTMND IN THE NAME OF YTMND IN THE NAME OF YTMND IN THE NAME OF YTMND IN THE NAME OF YTMND IN THE NAME OF YTMND IN THE NAME OF YTMND IN THE NAME OF YTMND IN THE NAME OF YTMND IN THE NAME OF YTMND IN THE NAME OF YTMND IN THE NAME OF YTMND IN THE NAME OF YTMND IN THE NAME OF YTMND IN THE NAME OF YTMND IN THE NAME OF YTMND IN THE NAME OF YTMND IN THE NAME OF YTMND IN   \n",
       "56834   i CAN STILL POST WITH THIS COMPUTER   I SAID BLOCK ME  COME THE FUCK DOWN HERE AND ARREST ME   SAN DIEGO CALIFORNIA  CHULA VISTA  FUCKING GET YOUR INFORMATION RIGHT FAGGOT SHITHEAD  i CAN STILL POST WITH THIS COMPUTER   I SAID BLOCK ME  COME THE FUCK DOWN HERE AND ARREST ME   SAN DIEGO CALIFORNIA  CHULA VISTA  FUCKING GET YOUR INFORMATION RIGHT FAGGOT SHITHEAD  i CAN STILL POST WITH THIS COMPUTER   I SAID BLOCK ME  COME THE FUCK DOWN HERE AND ARREST ME   SAN DIEGO CALIFORNIA  CHULA VISTA  FUCKING GET YOUR INFORMATION RIGHT FAGGOT SHITHEAD  i CAN STILL POST WITH THIS COMPUTER   I SAID BLOCK ME  COME THE FUCK DOWN HERE AND ARREST ME   SAN DIEGO CALIFORNIA  CHULA VISTA  FUCKING GET YOUR INFORMATION RIGHT FAGGOT SHITHEAD  i CAN STILL POST WITH THIS COMPUTER   I SAID BLOCK ME  COME THE FUCK DOWN HERE AND ARREST ME   SAN DIEGO CALIFORNIA  CHULA VISTA  FUCKING GET YOUR INFORMATION RIGHT FAGGOT SHITHEAD  i CAN STILL POST WITH THIS COMPUTER   I SAID BLOCK ME  COME THE FUCK DOWN HERE AND ARREST ME   SAN DIEGO CALIFORNIA  CHULA VISTA  FUCKING GET YOUR INFORMATION RIGHT FAGGOT SHITHEAD  i CAN STILL POST WITH THIS COMPUTER   I SAID BLOCK ME  COME THE FUCK DOWN HERE AND ARREST ME   SAN DIEGO CALIFORNIA  CHULA VISTA  FUCKING GET YOUR INFORMATION RIGHT FAGGOT SHITHEAD  i CAN STILL POST WITH THIS COMPUTER   I SAID BLOCK ME  COME THE FUCK DOWN HERE AND ARREST ME   SAN DIEGO CALIFORNIA  CHULA VISTA  FUCKING GET YOUR INFORMATION RIGHT FAGGOT SHITHEAD  i CAN STILL POST WITH THIS COMPUTER   I SAID BLOCK ME  COME THE FUCK DOWN HERE AND ARREST ME   SAN DIEGO CALIFORNIA  CHULA VISTA  FUCKING GET YOUR INFORMATION RIGHT FAGGOT SHITHEAD  i CAN STILL POST WITH THIS COMPUTER   I SAID BLOCK ME  COME THE FUCK DOWN HERE AND ARREST ME   SAN DIEGO CALIFORNIA  CHULA VISTA  FUCKING GET YOUR INFORMATION RIGHT FAGGOT SHITHEAD  i CAN STILL POST WITH THIS COMPUTER   I SAID BLOCK ME  COME THE FUCK DOWN HERE AND ARREST ME   SAN DIEGO CALIFORNIA  CHULA VISTA  FUCKING GET YOUR INFORMATION RIGHT FAGGOT SHITHEAD  i CAN STILL POST WITH THIS COMPUTER   I SAID BLOCK ME  COME THE FUCK DOWN HERE AND ARREST ME   SAN DIEGO CALIFORNIA  CHULA VISTA  FUCKING GET YOUR INFORMATION RIGHT FAGGOT SHITHEAD  i CAN STILL POST WITH THIS COMPUTER   I SAID BLOCK ME  COME THE FUCK DOWN HERE AND ARREST ME   SAN DIEGO CALIFORNIA  CHULA VISTA  FUCKING GET YOUR INFORMATION RIGHT FAGGOT SHITHEAD  i CAN STILL POST WITH THIS COMPUTER   I SAID BLOCK ME  COME THE FUCK DOWN HERE AND ARREST ME   SAN DIEGO CALIFORNIA  CHULA VISTA  FUCKING GET YOUR INFORMATION RIGHT FAGGOT SHITHEAD  i CAN STILL POST WITH THIS COMPUTER   I SAID BLOCK ME  COME THE FUCK DOWN HERE AND ARREST ME   SAN DIEGO CALIFORNIA  CHULA VISTA  FUCKING GET YOUR INFORMATION RIGHT FAGGOT SHITHEAD  i CAN STILL POST WITH THIS COMPUTER   I SAID BLOCK ME  COME THE FUCK DOWN HERE AND ARREST ME   SAN DIEGO CALIFORNIA  CHULA VISTA  FUCKING GET YOUR INFORMATION RIGHT FAGGOT SHITHEAD  i CAN STILL POST WITH THIS COMPUTER   I SAID BLOCK ME  COME THE FUCK DOWN HERE AND ARREST ME   SAN DIEGO CALIFORNIA  CHULA VISTA  FUCKING GET YOUR INFORMATION RIGHT FAGGOT SHITHEAD  i CAN STILL POST WITH THIS COMPUTER   I SAID BLOCK ME  COME THE FUCK DOWN HERE AND ARREST ME   SAN DIEGO CALIFORNIA  CHULA VISTA  FUCKING GET YOUR INFORMATION RIGHT FAGGOT SHITHEAD  i CAN STILL POST WITH THIS COMPUTER   I SAID BLOCK ME  COME THE FUCK DOWN HERE AND ARREST ME   SAN DIEGO CALIFORNIA  CHULA VISTA  FUCKING GET YOUR INFORMATION RIGHT FAGGOT SHITHEAD  i CAN STILL POST WITH THIS COMPUTER   I SAID BLOCK ME  COME THE FUCK DOWN HERE AND ARREST ME   SAN DIEGO CALIFORNIA  CHULA VISTA  FUCKING GET YOUR INFORMATION RIGHT FAGGOT SHITHEAD  i CAN STILL POST WITH THIS COMPUTER   I SAID BLOCK ME  COME THE FUCK DOWN HERE AND ARREST ME   SAN DIEGO CALIFORNIA  CHULA VISTA  FUCKING GET YOUR INFORMATION RIGHT FAGGOT SHITHEAD  i CAN STILL POST WITH THIS COMPUTER   I SAID BLOCK ME  COME THE FUCK DOWN HERE AND ARREST ME   SAN DIEGO CALIFORNIA  CHULA VISTA  FUCKING GET YOUR INFORMATION RIGHT FAGGOT SHITHEAD  i CAN STILL POST WITH THIS COMPUTER   I SAID BLOCK ME  COME THE FUCK DOWN HERE AND ARREST ME   SAN DIEGO CALIFORNIA  CHULA VISTA  FUCKING GET YOUR INFORMATION RIGHT FAGGOT SHITHEAD  i CAN STILL POST WITH THIS COMPUTER   I SAID BLOCK ME  COME THE FUCK DOWN HERE AND ARREST ME   SAN DIEGO CALIFORNIA  CHULA VISTA  FUCKING GET YOUR INFORMATION RIGHT FAGGOT SHITHEAD  i CAN STILL POST WITH THIS COMPUTER   I SAID BLOCK ME  COME THE FUCK DOWN HERE AND ARREST ME   SAN DIEGO CALIFORNIA  CHULA VISTA  FUCKING GET YOUR INFORMATION RIGHT FAGGOT SHITHEAD  i CAN STILL POST WITH THIS COMPUTER   I SAID BLOCK ME  COME THE FUCK DOWN HERE AND ARREST ME   SAN DIEGO CALIFORNIA  CHULA VISTA  FUCKING GET YOUR INFORMATION RIGHT FAGGOT SHITHEAD  i CAN STILL POST WITH THIS COMPUTER   I SAID BLOCK ME  COME THE FUCK DOWN HERE AND ARREST ME   SAN DIEGO CALIFORNIA  CHULA VISTA  FUCKING GET YOUR INFORMATION RIGHT FAGGOT SHITHEAD  i CAN STILL POST WITH THIS COMPUTER   I SAID BLOCK ME  COME THE FUCK DOWN HERE AND ARR   \n",
       "46197   heil hitler  heil hitler  heil hitler  heil hitler  heil hitler  heil hitler  heil hitler  heil hitler  heil hitler  heil hitler  heil hitler  heil hitler  heil hitler  heil hitler  heil hitler  heil hitler  heil hitler  heil hitler  heil hitler  heil hitler  heil hitler  heil hitler  heil hitler  heil hitler  heil hitler  heil hitler  heil hitler  heil hitler  heil hitler  heil hitler  heil hitler  heil hitler  heil hitler  heil hitler  heil hitler  heil hitler  heil hitler  heil hitler  heil hitler  heil hitler  heil hitler  heil hitler  heil hitler  heil hitler  heil hitler  heil hitler  heil hitler  heil hitler  heil hitler  heil hitler  heil hitler  heil hitler  heil hitler  heil hitler  heil hitler  heil hitler  heil hitler  heil hitler  heil hitler  heil hitler  heil hitler  heil hitler  heil hitler  heil hitler  heil hitler  heil hitler  heil hitler  heil hitler  heil hitler  heil hitler  heil hitler  heil hitler  heil hitler  heil hitler  heil hitler  heil hitler  heil hitler  heil hitler  heil hitler  heil hitler  heil hitler  heil hitler  heil hitler  heil hitler  heil hitler  heil hitler  heil hitler  heil hitler  heil hitler  heil hitler  heil hitler  heil hitler  heil hitler  heil hitler  heil hitler  heil hitler  heil hitler  heil hitler  heil hitler  heil hitler  heil hitler  heil hitler  heil hitler  heil hitler  heil hitler  heil hitler  heil hitler  heil hitler  heil hitler  heil hitler  heil hitler  heil hitler  heil hitler  heil hitler  heil hitler  heil hitler  heil hitler  heil hitler  heil hitler  heil hitler  heil hitler  heil hitler  heil hitler  heil hitler  heil hitler  heil hitler  heil hitler  heil hitler  heil hitler  heil hitler  heil hitler  heil hitler  heil hitler  heil hitler  heil hitler  heil hitler  heil hitler  heil hitler  heil hitler  heil hitler  heil hitler  heil hitler  heil hitler  heil hitler  heil hitler  heil hitler  heil hitler  heil hitler  heil hitler  heil hitler  heil hitler  heil hitler  heil hitler  heil hitler  heil hitler  heil hitler  heil hitler  heil hitler  heil hitler  heil hitler  heil hitler  heil hitler  heil hitler  heil hitler  heil hitler  heil hitler  heil hitler  heil hitler  heil hitler  heil hitler  heil hitler  heil hitler  heil hitler  heil hitler  heil hitler  heil hitler  heil hitler  heil hitler  heil hitler  heil hitler  heil hitler  heil hitler  heil hitler  heil hitler  heil hitler  heil hitler  heil hitler  heil hitler  heil hitler  heil hitler  heil hitler  heil hitler  heil hitler  heil hitler  heil hitler  heil hitler  heil hitler  heil hitler  heil hitler  heil hitler  heil hitler  heil hitler  heil hitler  heil hitler  heil hitler  heil hitler  heil hitler  heil hitler  heil hitler  heil hitler  heil hitler  heil hitler  heil hitler  heil hitler  heil hitler  heil hitler  heil hitler  heil hitler  heil hitler  heil hitler  heil hitler  heil hitler  heil hitler  heil hitler  heil hitler  heil hitler  heil hitler  heil hitler  heil hitler  heil hitler  heil hitler  heil hitler  heil hitler  heil hitler  heil hitler  heil hitler  heil hitler  heil hitler  heil hitler  heil hitler  heil hitler  heil hitler  heil hitler  heil hitler  heil hitler  heil hitler  heil hitler  heil hitler  heil hitler  heil hitler  heil hitler  heil hitler  heil hitler  heil hitler  heil hitler  heil hitler  heil hitler  heil hitler  heil hitler  heil hitler  heil hitler  heil hitler  heil hitler  heil hitler  heil hitler  heil hitler  heil hitler  heil hitler  heil hitler  heil hitler  heil hitler  heil hitler  heil hitler  heil hitler  heil hitler  heil hitler  heil hitler  heil hitler  heil hitler  heil hitler  heil hitler  heil hitler  heil hitler  heil hitler  heil hitler  heil hitler  heil hitler  heil hitler  heil hitler  heil hitler  heil hitler  heil hitler  heil hitler  heil hitler  heil hitler  heil hitler  heil hitler  heil hitler  heil hitler  heil hitler  heil hitler  heil hitler  heil hitler  heil hitler  heil hitler  heil hitler  heil hitler  heil hitler  heil hitler  heil hitler  heil hitler  heil hitler  heil hitler  heil hitler  heil hitler  heil hitler  heil hitler  heil hitler  heil hitler  heil hitler  heil hitler  heil hitler  heil hitler  heil hitler  heil hitler  heil hitler  heil hitler  heil hitler  heil hitler  heil hitler  heil hitler  heil hitler  heil hitler  heil hitler  heil hitler  heil hitler  heil hitler  heil hitler  heil hitler  heil hitler  heil hitler  heil hitler  heil hitler  heil hitler  heil hitler  heil hitler  heil hitler  heil hitler  heil hitler  heil hitler  heil hitler  heil hitler  heil hitler  heil hitler  heil hitler  heil hitler  heil hitler  heil hitler  heil hitler  heil hitler  heil hitler  heil hitler  heil hitler  heil hitler  heil hitler  heil hitler  heil hitler  heil hitler  heil hitler  heil hitler  heil hitler  heil hitler  heil hitler  heil hitler  heil hitler  heil hitler  heil hitler  heil hitler  heil hitler  heil hitler  heil hitler  heil hitler  heil hitler  heil hitler  heil hit   \n",
       "131729   FFFFF UUUUUU CCCCCC KKKKKK       YOU  F UU C KK YOU FFFFF UUUUUU CCCCCC KKKKKK       YOU  F UU C KK YOU FFFFF UUUUUU CCCCCC KKKKKK       YOU  F UU C KK YOU FFFFF UUUUUU CCCCCC KKKKKK       YOU  F UU C KK YOU FFFFF UUUUUU CCCCCC KKKKKK       YOU  F UU C KK YOU FFFFF UUUUUU CCCCCC KKKKKK       YOU  F UU C KK YOU FFFFF UUUUUU CCCCCC KKKKKK       YOU  F UU C KK YOU FFFFF UUUUUU CCCCCC KKKKKK       YOU  F UU C KK YOU FFFFF UUUUUU CCCCCC KKKKKK       YOU  F UU C KK YOU FFFFF UUUUUU CCCCCC KKKKKK       YOU  F UU C KK YOU FFFFF UUUUUU CCCCCC KKKKKK       YOU  F UU C KK YOU FFFFF UUUUUU CCCCCC KKKKKK       YOU  F UU C KK YOU FFFFF UUUUUU CCCCCC KKKKKK       YOU  F UU C KK YOU FFFFF UUUUUU CCCCCC KKKKKK       YOU  F UU C KK YOU FFFFF UUUUUU CCCCCC KKKKKK       YOU  F UU C KK YOU FFFFF UUUUUU CCCCCC KKKKKK       YOU  F UU C KK YOU FFFFF UUUUUU CCCCCC KKKKKK       YOU  F UU C KK YOU FFFFF UUUUUU CCCCCC KKKKKK       YOU  F UU C KK YOU FFFFF UUUUUU CCCCCC KKKKKK       YOU  F UU C KK YOU FFFFF UUUUUU CCCCCC KKKKKK       YOU  F UU C KK YOU FFFFF UUUUUU CCCCCC KKKKKK       YOU  F UU C KK YOU FFFFF UUUUUU CCCCCC KKKKKK       YOU  F UU C KK YOU FFFFF UUUUUU CCCCCC KKKKKK       YOU  F UU C KK YOU FFFFF UUUUUU CCCCCC KKKKKK       YOU  F UU C KK YOU FFFFF UUUUUU CCCCCC KKKKKK       YOU  F UU C KK YOU FFFFF UUUUUU CCCCCC KKKKKK       YOU  F UU C KK YOU FFFFF UUUUUU CCCCCC KKKKKK       YOU  F UU C KK YOU FFFFF UUUUUU CCCCCC KKKKKK       YOU  F UU C KK YOU FFFFF UUUUUU CCCCCC KKKKKK       YOU  F UU C KK YOU FFFFF UUUUUU CCCCCC KKKKKK       YOU  F UU C KK YOU FFFFF UUUUUU CCCCCC KKKKKK       YOU  F UU C KK YOU FFFFF UUUUUU CCCCCC KKKKKK       YOU  F UU C KK YOU FFFFF UUUUUU CCCCCC KKKKKK       YOU  F UU C KK YOU FFFFF UUUUUU CCCCCC KKKKKK       YOU  F UU C KK YOU FFFFF UUUUUU CCCCCC KKKKKK       YOU  F UU C KK YOU FFFFF UUUUUU CCCCCC KKKKKK       YOU  F UU C KK YOU FFFFF UUUUUU CCCCCC KKKKKK       YOU  F UU C KK YOU FFFFF UUUUUU CCCCCC KKKKKK       YOU  F UU C KK YOU FFFFF UUUUUU CCCCCC KKKKKK       YOU  F UU C KK YOU FFFFF UUUUUU CCCCCC KKKKKK       YOU  F UU C KK YOU FFFFF UUUUUU CCCCCC KKKKKK       YOU  F UU C KK YOU FFFFF UUUUUU CCCCCC KKKKKK       YOU  F UU C KK YOU FFFFF UUUUUU CCCCCC KKKKKK       YOU  F UU C KK YOU FFFFF UUUUUU CCCCCC KKKKKK       YOU  F UU C KK YOU FFFFF UUUUUU CCCCCC KKKKKK       YOU  F UU C KK YOU FFFFF UUUUUU CCCCCC KKKKKK       YOU  F UU C KK YOU FFFFF UUUUUU CCCCCC KKKKKK       YOU  F UU C KK YOU FFFFF UUUUUU CCCCCC KKKKKK       YOU  F UU C KK YOU FFFFF UUUUUU CCCCCC KKKKKK       YOU  F UU C KK YOU FFFFF UUUUUU CCCCCC KKKKKK       YOU  F UU C KK YOU FFFFF UUUUUU CCCCCC KKKKKK       YOU  F UU C KK YOU FFFFF UUUUUU CCCCCC KKKKKK       YOU  F UU C KK YOU FFFFF UUUUUU CCCCCC KKKKKK       YOU  F UU C KK YOU FFFFF UUUUUU CCCCCC KKKKKK       YOU  F UU C KK YOU FFFFF UUUUUU CCCCCC KKKKKK       YOU  F UU C KK YOU FFFFF UUUUUU CCCCCC KKKKKK       YOU  F UU C KK YOU FFFFF UUUUUU CCCCCC KKKKKK       YOU  F UU C KK YOU FFFFF UUUUUU CCCCCC KKKKKK       YOU  F UU C KK YOU FFFFF UUUUUU CCCCCC KKKKKK       YOU  F UU C KK YOU FFFFF UUUUUU CCCCCC KKKKKK       YOU  F UU C KK YOU FFFFF UUUUUU CCCCCC KKKKKK       YOU  F UU C KK YOU FFFFF UUUUUU CCCCCC KKKKKK       YOU  F UU C KK YOU FFFFF UUUUUU CCCCCC KKKKKK       YOU  F UU C KK YOU FFFFF UUUUUU CCCCCC KKKKKK       YOU  F UU C KK YOU FFFFF UUUUUU CCCCCC KKKKKK       YOU  F UU C KK YOU FFFFF UUUUUU CCCCCC KKKKKK       YOU  F UU C KK YOU FFFFF UUUUUU CCCCCC KKKKKK       YOU  F UU C KK YOU FFFFF UUUUUU CCCCCC KKKKKK       YOU  F UU C KK YOU FFFFF UUUUUU CCCCCC KKKKKK       YOU  F UU C KK YOU FFFFF UUUUUU CCCCCC KKKKKK       YOU  F UU C KK YOU FFFFF UUUUUU CCCCCC KKKKKK       YOU  F UU C KK YOU FFFFF UUUUUU CCCCCC KKKKKK       YOU  F UU C KK YOU FFFFF UUUUUU CCCCCC KKKKKK       YOU  F UU C KK YOU FFFFF UUUUUU CCCCCC KKKKKK       YOU  F UU C KK YOU FFFFF UUUUUU CCCCCC KKKKKK       YOU  F UU C KK YOU FFFFF UUUUUU CCCCCC KKKKKK       YOU  F UU C KK YOU FFFFF UUUUUU CCCCCC KKKKKK       YOU  F UU C KK YOU FFFFF UUUUUU CCCCCC KKKKKK       YOU  F UU C KK YOU FFFFF UUUUUU CCCCCC KKKKKK       YOU  F UU C KK YOU FFFFF UUUUUU CCCCCC KKKKKK       YOU  F UU C KK YOU FFFFF UUUUUU CCCCCC KKKKKK       YOU  F UU C KK YOU FFFFF UUUUUU CCCCCC KKKKKK       YOU  F UU C KK YOU FFFFF UUUUUU CCCCCC KKKKKK       YOU  F UU C KK YOU FFFFF UUUUUU CCCCCC KKKKKK       YOU  F UU C KK YOU FFFFF UUUUUU CCCCCC KKKKKK       YOU  F UU C KK YOU FFFFF UUUUUU CCCCCC KKKKKK       YOU  F UU C KK YOU FFFFF UUUUUU CCCCCC KKKKKK       YOU  F UU C KK YOU FFFFF UUUUUU CCCCCC KKKKKK       YOU  F UU C KK YOU FFFFF UUUUUU CCCCCC KKKKKK       YOU  F UU C KK YOU FFFFF UUUUUU CCCCCC KKKKKK       YOU  F UU C KK YOU FFFFF UUUUUU CCCCCC KKKKKK       YOU  F UU C KK YOU FFFFF UUUUUU CCCCCC KKKKKK       YOU  F UU C KK YOU FFFFF UUUUUU CCCCCC KKKKKK       YOU  F UU C KK YOU FFFFF UUUUUU CCCCCC KKKKKK       YOU  F UU C KK YOU FFFFF UUUUUU CCCCCC KKKKKK       YOU  F UU C KK YOU FFFFF UUUUUU CCCCCC KKKKKK       YOU  F UU C KK YOU FFFFF U   \n",
       "128782  sex fucksex fucksex fucksex fucksex fucksex fucksex fucksex fucksex fucksex fucksex fucksex fucksex fucksex fucksex fucksex fucksex fucksex fucksex fucksex fucksex fucksex fucksex fucksex fucksex fucksex fucksex fucksex fucksex fucksex fucksex fucksex fucksex fucksex fucksex fucksex fucksex fucksex fucksex fucksex fucksex fucksex fucksex fucksex fucksex fucksex fucksex fucksex fucksex fucksex fucksex fucksex fucksex fucksex fucksex fucksex fucksex fucksex fucksex fucksex fucksex fucksex fucksex fucksex fucksex fucksex fucksex fucksex fucksex fucksex fucksex fucksex fucksex fucksex fucksex fucksex fucksex fucksex fucksex fucksex fucksex fucksex fucksex fucksex fucksex fucksex fucksex fucksex fucksex fucksex fucksex fucksex fucksex fucksex fucksex fucksex fucksex fucksex fucksex fucksex fucksex fucksex fucksex fucksex fucksex fucksex fucksex fucksex fucksex fucksex fucksex fucksex fucksex fucksex fucksex fucksex fucksex fucksex fucksex fucksex fucksex fucksex fucksex fucksex fucksex fucksex fucksex fucksex fucksex fucksex fucksex fucksex fucksex fucksex fucksex fucksex fucksex fucksex fucksex fucksex fucksex fucksex fucksex fucksex fucksex fucksex fucksex fucksex fucksex fucksex fucksex fucksex fucksex fucksex fucksex fucksex fucksex fucksex fucksex fucksex fucksex fucksex fucksex fucksex fucksex fucksex fucksex fucksex fucksex fucksex fucksex fucksex fucksex fucksex fucksex fucksex fucksex fucksex fucksex fucksex fucksex fucksex fucksex fucksex fucksex fucksex fucksex fucksex fucksex fucksex fucksex fucksex fucksex fucksex fucksex fucksex fucksex fucksex fucksex fucksex fucksex fucksex fucksex fucksex fucksex fucksex fucksex fucksex fucksex fucksex fucksex fucksex fucksex fucksex fucksex fucksex fucksex fucksex fucksex fucksex fucksex fucksex fucksex fucksex fucksex fucksex fucksex fucksex fucksex fucksex fucksex fucksex fucksex fucksex fucksex fucksex fucksex fucksex fucksex fucksex fucksex fucksex fucksex fucksex fucksex fucksex fucksex fucksex fucksex fucksex fucksex fucksex fucksex fucksex fucksex fucksex fucksex fucksex fucksex fucksex fucksex fucksex fucksex fucksex fucksex fucksex fucksex fucksex fucksex fucksex fucksex fucksex fucksex fucksex fucksex fucksex fucksex fucksex fucksex fucksex fucksex fucksex fucksex fucksex fucksex fucksex fucksex fucksex fucksex fucksex fucksex fucksex fucksex fucksex fucksex fucksex fucksex fucksex fucksex fucksex fucksex fucksex fucksex fucksex fucksex fucksex fucksex fucksex fucksex fucksex fucksex fucksex fucksex fucksex fucksex fucksex fucksex fucksex fucksex fucksex fucksex fucksex fucksex fucksex fucksex fucksex fucksex fucksex fucksex fucksex fucksex fucksex fucksex fucksex fucksex fucksex fucksex fucksex fucksex fucksex fucksex fucksex fucksex fucksex fucksex fucksex fucksex fucksex fucksex fucksex fucksex fucksex fucksex fucksex fucksex fucksex fucksex fucksex fucksex fucksex fucksex fucksex fucksex fucksex fucksex fucksex fucksex fucksex fucksex fucksex fucksex fucksex fucksex fucksex fucksex fucksex fucksex fucksex fucksex fucksex fucksex fucksex fucksex fucksex fucksex fucksex fucksex fucksex fucksex fucksex fucksex fucksex fucksex fucksex fucksex fucksex fucksex fucksex fucksex fucksex fucksex fucksex fucksex fucksex fucksex fucksex fucksex fucksex fucksex fucksex fucksex fucksex fucksex fucksex fucksex fucksex fucksex fucksex fucksex fucksex fucksex fucksex fucksex fucksex fucksex fucksex fucksex fucksex fucksex fucksex fucksex fucksex fucksex fucksex fucksex fucksex fucksex fucksex fucksex fucksex fucksex fucksex fucksex fucksex fucksex fucksex fucksex fucksex fucksex fucksex fucksex fucksex fucksex fucksex fucksex fucksex fucksex fucksex fucksex fucksex fucksex fucksex fucksex fucksex fucksex fucksex fucksex fucksex fucksex fucksex fucksex fucksex fucksex fucksex fucksex fucksex fucksex fucksex fucksex fucksex fucksex fucksex fucksex fucksex fucksex fucksex fucksex fucksex fucksex fucksex fucksex fucksex fucksex fucksex fucksex fucksex fucksex fucksex fucksex fucksex fucksex fucksex fucksex fucksex fucksex fucksex fucksex fucksex fucksex fucksex fucksex fucksex fucksex fucksex fucksex fucksex fucksex fucksex fucksex fucksex fucksex fucksex fucksex fucksex fucksex fucksex fucksex fucksex fucksex fucksex fucksex fucksex fucksex fucksex fucksex fucksex fucksex fucksex fucksex fucksex fucksex fucksex fucksex fucksex fucksex fucksex fucksex fucksex fucksex fucksex fucksex fucksex fucksex fucksex fucksex fucksex fucksex fucksex fucksex fucksex fucksex fucksex fucksex fucksex fucksex fucksex fucksex fucksex fucksex fucksex fucksex fucksex fucksex fucksex fucksex fucksex fucksex fucksex fucksex fucksex fucksex fucksex fucksex fucksex fucksex fucksex fucksex fucksex fucksex fucksex fucksex fucksex fucksex fucksex fucksex fucksex fucksex fucksex fucksex fucksex fucksex fucksex fucksex fucksex fucksex fucksex fucksex fucksex fucksex fucksex fucksex fucksex fucksex fucksex fucksex fucksex fucksex fucksex fucksex fucksex fucksex fucksex fucksex fucksex fucksex fuck   \n",
       "\n",
       "        toxic  severe_toxic  obscene  threat  insult  identity_hate  \\\n",
       "46583   1      0             0        0       0       0               \n",
       "47715   0      0             0        0       0       0               \n",
       "74753   0      0             0        0       0       0               \n",
       "42061   1      0             0        0       0       0               \n",
       "72192   1      0             0        0       0       0               \n",
       "75165   0      0             0        0       0       0               \n",
       "56834   1      1             1        0       1       0               \n",
       "46197   1      0             0        0       0       0               \n",
       "131729  1      1             1        0       1       0               \n",
       "128782  1      1             1        0       0       0               \n",
       "\n",
       "        comment_len  num_words  unique_words  mean_word_length  sum  \\\n",
       "46583   5000         622        4             8.038585          1     \n",
       "47715   5000         834        2             5.995204          0     \n",
       "74753   5000         36         5             138.888889        0     \n",
       "42061   5000         715        2             6.993007          1     \n",
       "72192   5000         870        5             5.747126          1     \n",
       "75165   5000         1191       5             4.198153          0     \n",
       "56834   5000         855        30            5.847953          4     \n",
       "46197   5000         770        3             6.493506          1     \n",
       "131729  5000         962        10            5.197505          4     \n",
       "128782  5000         626        3             7.987220          3     \n",
       "\n",
       "        toxicity_label  \n",
       "46583   True            \n",
       "47715   False           \n",
       "74753   False           \n",
       "42061   True            \n",
       "72192   True            \n",
       "75165   False           \n",
       "56834   True            \n",
       "46197   True            \n",
       "131729  True            \n",
       "128782  True            "
      ]
     },
     "execution_count": 57,
     "metadata": {},
     "output_type": "execute_result"
    }
   ],
   "source": [
    "train_df.head(10)"
   ]
  },
  {
   "cell_type": "code",
   "execution_count": 60,
   "metadata": {},
   "outputs": [],
   "source": [
    "import numpy as np\n",
    "one_percent = int(np.ceil(train_df.shape[0] / 100))"
   ]
  },
  {
   "cell_type": "code",
   "execution_count": 61,
   "metadata": {},
   "outputs": [
    {
     "data": {
      "text/plain": [
       "1596"
      ]
     },
     "execution_count": 61,
     "metadata": {},
     "output_type": "execute_result"
    }
   ],
   "source": [
    "one_percent"
   ]
  },
  {
   "cell_type": "code",
   "execution_count": 62,
   "metadata": {
    "collapsed": true
   },
   "outputs": [],
   "source": [
    "train_sub = train_df.iloc[0:one_percent, :]"
   ]
  },
  {
   "cell_type": "code",
   "execution_count": 63,
   "metadata": {},
   "outputs": [
    {
     "data": {
      "text/plain": [
       "0    1390\n",
       "1    206 \n",
       "Name: toxic, dtype: int64"
      ]
     },
     "execution_count": 63,
     "metadata": {},
     "output_type": "execute_result"
    }
   ],
   "source": [
    "train_sub.toxic.value_counts()"
   ]
  },
  {
   "cell_type": "code",
   "execution_count": 64,
   "metadata": {
    "collapsed": true
   },
   "outputs": [],
   "source": [
    "train_df = train_df.sort_values(by='toxic', ascending=False)"
   ]
  },
  {
   "cell_type": "code",
   "execution_count": 65,
   "metadata": {},
   "outputs": [
    {
     "data": {
      "text/html": [
       "<div>\n",
       "<style>\n",
       "    .dataframe thead tr:only-child th {\n",
       "        text-align: right;\n",
       "    }\n",
       "\n",
       "    .dataframe thead th {\n",
       "        text-align: left;\n",
       "    }\n",
       "\n",
       "    .dataframe tbody tr th {\n",
       "        vertical-align: top;\n",
       "    }\n",
       "</style>\n",
       "<table border=\"1\" class=\"dataframe\">\n",
       "  <thead>\n",
       "    <tr style=\"text-align: right;\">\n",
       "      <th></th>\n",
       "      <th>id</th>\n",
       "      <th>comment_text</th>\n",
       "      <th>toxic</th>\n",
       "      <th>severe_toxic</th>\n",
       "      <th>obscene</th>\n",
       "      <th>threat</th>\n",
       "      <th>insult</th>\n",
       "      <th>identity_hate</th>\n",
       "      <th>comment_len</th>\n",
       "      <th>num_words</th>\n",
       "      <th>unique_words</th>\n",
       "      <th>mean_word_length</th>\n",
       "      <th>sum</th>\n",
       "      <th>toxicity_label</th>\n",
       "    </tr>\n",
       "  </thead>\n",
       "  <tbody>\n",
       "    <tr>\n",
       "      <th>46583</th>\n",
       "      <td>7c7a4bf4c84fe002</td>\n",
       "      <td>hahahahahahahahahahahahahahahahahaha vandalism rules vandalism rules vandalism rules vandalism rules vandalism rules vandalism rules vandalism rules vandalism rules vandalism rules vandalism rules vandalism rules vandalism rules vandalism rules vandalism rules vandalism rules vandalism rules vandalism rules vandalism rules vandalism rules vandalism rules vandalism rules vandalism rules vandalism rules vandalism rules vandalism rules vandalism rules vandalism rules vandalism rules vandalism rules vandalism rules vandalism rules vandalism rules vandalism rules vandalism rules vandalism rules vandalism rules vandalism rules vandalism rules vandalism rules vandalism rules vandalism rules vandalism rules vandalism rules vandalism rules vandalism rules vandalism rules vandalism rules vandalism rules vandalism rules vandalism rules vandalism rules vandalism rules vandalism rules vandalism rules vandalism rules vandalism rules vandalism rules vandalism rules vandalism rules vandalism rules vandalism rules vandalism rules vandalism rules vandalism rules vandalism rules vandalism rules vandalism rules vandalism rules vandalism rules vandalism rules vandalism rules vandalism rules vandalism rules vandalism rules vandalism rules vandalism rules vandalism rules vandalism rules vandalism rules vandalism rules vandalism rules vandalism rules vandalism rules vandalism rules vandalism rules vandalism rules vandalism rules vandalism rules vandalism rules vandalism rules vandalism rules vandalism rules vandalism rules vandalism rules vandalism rules vandalism rules vandalism rules vandalism rules vandalism rules vandalism rules vandalism rules vandalism rules vandalism rules vandalism rules vandalism rules vandalism rules vandalism rules vandalism rules vandalism rules vandalism rules vandalism rules vandalism rules vandalism rules vandalism rules vandalism rules vandalism rules vandalism rules vandalism rules vandalism rules vandalism rules vandalism rules vandalism rules vandalism rules vandalism rules vandalism rules vandalism rules vandalism rules vandalism rules vandalism rules vandalism rules vandalism rules vandalism rules vandalism rules vandalism rules vandalism rules vandalism rules vandalism rules vandalism rules vandalism rules vandalism rules vandalism rules vandalism rules vandalism rules vandalism rules vandalism rules vandalism rules vandalism rules vandalism rules vandalism rules vandalism rules vandalism rules vandalism rules vandalism rules vandalism rules vandalism rules vandalism rules vandalism rules vandalism rules vandalism rules vandalism rules vandalism rules vandalism rules vandalism rules vandalism rules vandalism rules vandalism rules vandalism rules vandalism rules vandalism rules vandalism rules vandalism rules vandalism rules vandalism rules vandalism rules vandalism rules vandalism rules vandalism rules vandalism rules vandalism rules vandalism rules vandalism rules vandalism rules vandalism rules vandalism rules vandalism rules vandalism rules vandalism rules vandalism rules vandalism rules vandalism rules vandalism rules vandalism rules vandalism rules vandalism rules vandalism rules vandalism rules vandalism rules vandalism rules vandalism rules vandalism rules vandalism rules vandalism rules vandalism rules vandalism rules vandalism rules vandalism rules vandalism rules vandalism rules vandalism rules vandalism rules vandalism rules vandalism rules vandalism rules vandalism rules vandalism rules vandalism rules vandalism rules vandalism rules vandalism rules vandalism rules vandalism rules vandalism rules vandalism rules vandalism rules vandalism rules vandalism rules vandalism rules vandalism rules vandalism rules vandalism rules vandalism rules vandalism rules vandalism rules vandalism rules vandalism rules vandalism rules vandalism rules vandalism rules vandalism rules vandalism rules vandalism rules vandalism rules vandalism rules vandalism rules vandalism rules vandalism rules vandalism rules vandalism rules vandalism rules vandalism rules vandalism rules vandalism rules vandalism rules vandalism rules vandalism rules vandalism rules vandalism rules vandalism rules vandalism rules vandalism rules vandalism rules vandalism rules vandalism rules vandalism rules vandalism rules vandalism rules vandalism rules vandalism rules vandalism rules vandalism rules vandalism rules vandalism rules vandalism rules vandalism rules vandalism rules vandalism rules vandalism rules vandalism rules vandalism rules vandalism rules vandalism rules vandalism rules vandalism rules vandalism rules vandalism rules vandalism rules vandalism rules vandalism rules vandalism rules vandalism rules vandalism rules vandalism rules vandalism rules vandalism rules vandalism rules vandalism rules vandalism rules vandalism rules vandalism rules vandalism rules vandalism rules vandalism rules vandalism rules vandalism rules vandalism rules vandalism rules vandalism rules vandalism rules vandalism rules vandalism rules van</td>\n",
       "      <td>1</td>\n",
       "      <td>0</td>\n",
       "      <td>0</td>\n",
       "      <td>0</td>\n",
       "      <td>0</td>\n",
       "      <td>0</td>\n",
       "      <td>5000</td>\n",
       "      <td>622</td>\n",
       "      <td>4</td>\n",
       "      <td>8.038585</td>\n",
       "      <td>1</td>\n",
       "      <td>True</td>\n",
       "    </tr>\n",
       "    <tr>\n",
       "      <th>14688</th>\n",
       "      <td>26c121f84d05943e</td>\n",
       "      <td>Blocked me yet lol   Id Like to ask if you like chicken</td>\n",
       "      <td>1</td>\n",
       "      <td>0</td>\n",
       "      <td>0</td>\n",
       "      <td>0</td>\n",
       "      <td>0</td>\n",
       "      <td>0</td>\n",
       "      <td>57</td>\n",
       "      <td>12</td>\n",
       "      <td>11</td>\n",
       "      <td>4.750000</td>\n",
       "      <td>1</td>\n",
       "      <td>True</td>\n",
       "    </tr>\n",
       "    <tr>\n",
       "      <th>116560</th>\n",
       "      <td>6f1ad48eb2f2719c</td>\n",
       "      <td>You need a life   REALLY BAD                       BITCH</td>\n",
       "      <td>1</td>\n",
       "      <td>0</td>\n",
       "      <td>1</td>\n",
       "      <td>0</td>\n",
       "      <td>1</td>\n",
       "      <td>0</td>\n",
       "      <td>57</td>\n",
       "      <td>7</td>\n",
       "      <td>7</td>\n",
       "      <td>8.142857</td>\n",
       "      <td>3</td>\n",
       "      <td>True</td>\n",
       "    </tr>\n",
       "    <tr>\n",
       "      <th>17452</th>\n",
       "      <td>2e0f60bf77130180</td>\n",
       "      <td>Shit   George tan031993 you re a bitch      go to hell</td>\n",
       "      <td>1</td>\n",
       "      <td>1</td>\n",
       "      <td>1</td>\n",
       "      <td>0</td>\n",
       "      <td>1</td>\n",
       "      <td>0</td>\n",
       "      <td>57</td>\n",
       "      <td>10</td>\n",
       "      <td>10</td>\n",
       "      <td>5.700000</td>\n",
       "      <td>4</td>\n",
       "      <td>True</td>\n",
       "    </tr>\n",
       "    <tr>\n",
       "      <th>147383</th>\n",
       "      <td>3b908aea8c5826d0</td>\n",
       "      <td>Not the same person    Stop changing it to your opinions  Claude Speed and Claude are not the same thing  I m editing it  Stupid pimple faced kids</td>\n",
       "      <td>1</td>\n",
       "      <td>0</td>\n",
       "      <td>0</td>\n",
       "      <td>0</td>\n",
       "      <td>1</td>\n",
       "      <td>0</td>\n",
       "      <td>147</td>\n",
       "      <td>27</td>\n",
       "      <td>22</td>\n",
       "      <td>5.444444</td>\n",
       "      <td>2</td>\n",
       "      <td>True</td>\n",
       "    </tr>\n",
       "  </tbody>\n",
       "</table>\n",
       "</div>"
      ],
      "text/plain": [
       "                      id  \\\n",
       "46583   7c7a4bf4c84fe002   \n",
       "14688   26c121f84d05943e   \n",
       "116560  6f1ad48eb2f2719c   \n",
       "17452   2e0f60bf77130180   \n",
       "147383  3b908aea8c5826d0   \n",
       "\n",
       "                                                                                                                                                                                                                                                                                                                                                                                                                                                                                                                                                                                                                                                                                                                                                                                                                                                                                                                                                                                                                                                                                                                                                                                                                                                                                                                                                                                                                                                                                                                                                                                                                                                                                                                                                                                                                                                                                                                                                                                                                                                                                                                                                                                                                                                                                                                                                                                                                                                                                                                                                                                                                                                                                                                                                                                                                                                                                                                                                                                                                                                                                                                                                                                                                                                                                                                                                                                                                                                                                                                                                                                                                                                                                                                                                                                                                                                                                                                                                                                                                                                                                                                                                                                                                                                                                                                                                                                                                                                                                                                                                                                                                                                                                                                                                                                                                                                                                                                                                                                                                                                                                                                                                                                                    comment_text  \\\n",
       "46583   hahahahahahahahahahahahahahahahahaha vandalism rules vandalism rules vandalism rules vandalism rules vandalism rules vandalism rules vandalism rules vandalism rules vandalism rules vandalism rules vandalism rules vandalism rules vandalism rules vandalism rules vandalism rules vandalism rules vandalism rules vandalism rules vandalism rules vandalism rules vandalism rules vandalism rules vandalism rules vandalism rules vandalism rules vandalism rules vandalism rules vandalism rules vandalism rules vandalism rules vandalism rules vandalism rules vandalism rules vandalism rules vandalism rules vandalism rules vandalism rules vandalism rules vandalism rules vandalism rules vandalism rules vandalism rules vandalism rules vandalism rules vandalism rules vandalism rules vandalism rules vandalism rules vandalism rules vandalism rules vandalism rules vandalism rules vandalism rules vandalism rules vandalism rules vandalism rules vandalism rules vandalism rules vandalism rules vandalism rules vandalism rules vandalism rules vandalism rules vandalism rules vandalism rules vandalism rules vandalism rules vandalism rules vandalism rules vandalism rules vandalism rules vandalism rules vandalism rules vandalism rules vandalism rules vandalism rules vandalism rules vandalism rules vandalism rules vandalism rules vandalism rules vandalism rules vandalism rules vandalism rules vandalism rules vandalism rules vandalism rules vandalism rules vandalism rules vandalism rules vandalism rules vandalism rules vandalism rules vandalism rules vandalism rules vandalism rules vandalism rules vandalism rules vandalism rules vandalism rules vandalism rules vandalism rules vandalism rules vandalism rules vandalism rules vandalism rules vandalism rules vandalism rules vandalism rules vandalism rules vandalism rules vandalism rules vandalism rules vandalism rules vandalism rules vandalism rules vandalism rules vandalism rules vandalism rules vandalism rules vandalism rules vandalism rules vandalism rules vandalism rules vandalism rules vandalism rules vandalism rules vandalism rules vandalism rules vandalism rules vandalism rules vandalism rules vandalism rules vandalism rules vandalism rules vandalism rules vandalism rules vandalism rules vandalism rules vandalism rules vandalism rules vandalism rules vandalism rules vandalism rules vandalism rules vandalism rules vandalism rules vandalism rules vandalism rules vandalism rules vandalism rules vandalism rules vandalism rules vandalism rules vandalism rules vandalism rules vandalism rules vandalism rules vandalism rules vandalism rules vandalism rules vandalism rules vandalism rules vandalism rules vandalism rules vandalism rules vandalism rules vandalism rules vandalism rules vandalism rules vandalism rules vandalism rules vandalism rules vandalism rules vandalism rules vandalism rules vandalism rules vandalism rules vandalism rules vandalism rules vandalism rules vandalism rules vandalism rules vandalism rules vandalism rules vandalism rules vandalism rules vandalism rules vandalism rules vandalism rules vandalism rules vandalism rules vandalism rules vandalism rules vandalism rules vandalism rules vandalism rules vandalism rules vandalism rules vandalism rules vandalism rules vandalism rules vandalism rules vandalism rules vandalism rules vandalism rules vandalism rules vandalism rules vandalism rules vandalism rules vandalism rules vandalism rules vandalism rules vandalism rules vandalism rules vandalism rules vandalism rules vandalism rules vandalism rules vandalism rules vandalism rules vandalism rules vandalism rules vandalism rules vandalism rules vandalism rules vandalism rules vandalism rules vandalism rules vandalism rules vandalism rules vandalism rules vandalism rules vandalism rules vandalism rules vandalism rules vandalism rules vandalism rules vandalism rules vandalism rules vandalism rules vandalism rules vandalism rules vandalism rules vandalism rules vandalism rules vandalism rules vandalism rules vandalism rules vandalism rules vandalism rules vandalism rules vandalism rules vandalism rules vandalism rules vandalism rules vandalism rules vandalism rules vandalism rules vandalism rules vandalism rules vandalism rules vandalism rules vandalism rules vandalism rules vandalism rules vandalism rules vandalism rules vandalism rules vandalism rules vandalism rules vandalism rules vandalism rules vandalism rules vandalism rules vandalism rules vandalism rules vandalism rules vandalism rules vandalism rules vandalism rules vandalism rules vandalism rules vandalism rules vandalism rules vandalism rules vandalism rules vandalism rules vandalism rules vandalism rules vandalism rules vandalism rules vandalism rules vandalism rules vandalism rules vandalism rules vandalism rules vandalism rules vandalism rules vandalism rules vandalism rules vandalism rules vandalism rules vandalism rules vandalism rules vandalism rules vandalism rules vandalism rules vandalism rules vandalism rules van   \n",
       "14688   Blocked me yet lol   Id Like to ask if you like chicken                                                                                                                                                                                                                                                                                                                                                                                                                                                                                                                                                                                                                                                                                                                                                                                                                                                                                                                                                                                                                                                                                                                                                                                                                                                                                                                                                                                                                                                                                                                                                                                                                                                                                                                                                                                                                                                                                                                                                                                                                                                                                                                                                                                                                                                                                                                                                                                                                                                                                                                                                                                                                                                                                                                                                                                                                                                                                                                                                                                                                                                                                                                                                                                                                                                                                                                                                                                                                                                                                                                                                                                                                                                                                                                                                                                                                                                                                                                                                                                                                                                                                                                                                                                                                                                                                                                                                                                                                                                                                                                                                                                                                                                                                                                                                                                                                                                                                                                                                                                                                                                                                                                                                    \n",
       "116560  You need a life   REALLY BAD                       BITCH                                                                                                                                                                                                                                                                                                                                                                                                                                                                                                                                                                                                                                                                                                                                                                                                                                                                                                                                                                                                                                                                                                                                                                                                                                                                                                                                                                                                                                                                                                                                                                                                                                                                                                                                                                                                                                                                                                                                                                                                                                                                                                                                                                                                                                                                                                                                                                                                                                                                                                                                                                                                                                                                                                                                                                                                                                                                                                                                                                                                                                                                                                                                                                                                                                                                                                                                                                                                                                                                                                                                                                                                                                                                                                                                                                                                                                                                                                                                                                                                                                                                                                                                                                                                                                                                                                                                                                                                                                                                                                                                                                                                                                                                                                                                                                                                                                                                                                                                                                                                                                                                                                                                                   \n",
       "17452   Shit   George tan031993 you re a bitch      go to hell                                                                                                                                                                                                                                                                                                                                                                                                                                                                                                                                                                                                                                                                                                                                                                                                                                                                                                                                                                                                                                                                                                                                                                                                                                                                                                                                                                                                                                                                                                                                                                                                                                                                                                                                                                                                                                                                                                                                                                                                                                                                                                                                                                                                                                                                                                                                                                                                                                                                                                                                                                                                                                                                                                                                                                                                                                                                                                                                                                                                                                                                                                                                                                                                                                                                                                                                                                                                                                                                                                                                                                                                                                                                                                                                                                                                                                                                                                                                                                                                                                                                                                                                                                                                                                                                                                                                                                                                                                                                                                                                                                                                                                                                                                                                                                                                                                                                                                                                                                                                                                                                                                                                                     \n",
       "147383  Not the same person    Stop changing it to your opinions  Claude Speed and Claude are not the same thing  I m editing it  Stupid pimple faced kids                                                                                                                                                                                                                                                                                                                                                                                                                                                                                                                                                                                                                                                                                                                                                                                                                                                                                                                                                                                                                                                                                                                                                                                                                                                                                                                                                                                                                                                                                                                                                                                                                                                                                                                                                                                                                                                                                                                                                                                                                                                                                                                                                                                                                                                                                                                                                                                                                                                                                                                                                                                                                                                                                                                                                                                                                                                                                                                                                                                                                                                                                                                                                                                                                                                                                                                                                                                                                                                                                                                                                                                                                                                                                                                                                                                                                                                                                                                                                                                                                                                                                                                                                                                                                                                                                                                                                                                                                                                                                                                                                                                                                                                                                                                                                                                                                                                                                                                                                                                                                                                         \n",
       "\n",
       "        toxic  severe_toxic  obscene  threat  insult  identity_hate  \\\n",
       "46583   1      0             0        0       0       0               \n",
       "14688   1      0             0        0       0       0               \n",
       "116560  1      0             1        0       1       0               \n",
       "17452   1      1             1        0       1       0               \n",
       "147383  1      0             0        0       1       0               \n",
       "\n",
       "        comment_len  num_words  unique_words  mean_word_length  sum  \\\n",
       "46583   5000         622        4             8.038585          1     \n",
       "14688   57           12         11            4.750000          1     \n",
       "116560  57           7          7             8.142857          3     \n",
       "17452   57           10         10            5.700000          4     \n",
       "147383  147          27         22            5.444444          2     \n",
       "\n",
       "        toxicity_label  \n",
       "46583   True            \n",
       "14688   True            \n",
       "116560  True            \n",
       "17452   True            \n",
       "147383  True            "
      ]
     },
     "execution_count": 65,
     "metadata": {},
     "output_type": "execute_result"
    }
   ],
   "source": [
    "train_df.head()"
   ]
  },
  {
   "cell_type": "code",
   "execution_count": 66,
   "metadata": {
    "collapsed": true
   },
   "outputs": [],
   "source": [
    "from sklearn.feature_extraction.text import TfidfVectorizer"
   ]
  },
  {
   "cell_type": "code",
   "execution_count": 67,
   "metadata": {
    "collapsed": true
   },
   "outputs": [],
   "source": [
    "vectorizer = TfidfVectorizer(stop_words='english')"
   ]
  },
  {
   "cell_type": "code",
   "execution_count": 69,
   "metadata": {},
   "outputs": [
    {
     "data": {
      "text/plain": [
       "TfidfVectorizer(analyzer='word', binary=False, decode_error='strict',\n",
       "        dtype=<class 'numpy.int64'>, encoding='utf-8', input='content',\n",
       "        lowercase=True, max_df=1.0, max_features=None, min_df=1,\n",
       "        ngram_range=(1, 1), norm='l2', preprocessor=None, smooth_idf=True,\n",
       "        stop_words='english', strip_accents=None, sublinear_tf=False,\n",
       "        token_pattern='(?u)\\\\b\\\\w\\\\w+\\\\b', tokenizer=None, use_idf=True,\n",
       "        vocabulary=None)"
      ]
     },
     "execution_count": 69,
     "metadata": {},
     "output_type": "execute_result"
    }
   ],
   "source": [
    "vectorizer.fit(train_df.comment_text)"
   ]
  },
  {
   "cell_type": "code",
   "execution_count": 71,
   "metadata": {},
   "outputs": [],
   "source": [
    "X = vectorizer.transform(train_df.comment_text)"
   ]
  },
  {
   "cell_type": "code",
   "execution_count": 72,
   "metadata": {
    "collapsed": true
   },
   "outputs": [],
   "source": [
    "X_toxic = X[0:9237, :]"
   ]
  },
  {
   "cell_type": "code",
   "execution_count": 73,
   "metadata": {
    "collapsed": true
   },
   "outputs": [],
   "source": [
    "means = np.asarray(np.mean(X_toxic, axis=0))\n",
    "top_ten = np.argsort(-means)[:10]"
   ]
  },
  {
   "cell_type": "code",
   "execution_count": 74,
   "metadata": {},
   "outputs": [
    {
     "name": "stdout",
     "output_type": "stream",
     "text": [
      "1 : fuck\n",
      "2 : fucking\n",
      "3 : shit\n",
      "4 : like\n",
      "5 : don\n",
      "6 : stupid\n",
      "7 : just\n",
      "8 : wikipedia\n",
      "9 : stop\n",
      "10 : ass\n"
     ]
    }
   ],
   "source": [
    "for ind in range(10):\n",
    "    print(ind + 1, \":\", vectorizer.get_feature_names()[top_ten[0, ind]])"
   ]
  },
  {
   "cell_type": "code",
   "execution_count": null,
   "metadata": {
    "collapsed": true
   },
   "outputs": [],
   "source": []
  }
 ],
 "metadata": {
  "kernelspec": {
   "display_name": "Python 3",
   "language": "python",
   "name": "python3"
  },
  "language_info": {
   "codemirror_mode": {
    "name": "ipython",
    "version": 3
   },
   "file_extension": ".py",
   "mimetype": "text/x-python",
   "name": "python",
   "nbconvert_exporter": "python",
   "pygments_lexer": "ipython3",
   "version": "3.6.3"
  }
 },
 "nbformat": 4,
 "nbformat_minor": 1
}
